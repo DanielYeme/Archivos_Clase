{
    "cells": [
        {
            "cell_type": "markdown",
            "metadata": {},
            "source": [
                "# 📊 Análisis de Datos con Pandas, Numpy y Matplotlib\n",
                "Este notebook contiene ejercicios prácticos para aprender a manejar datos, realizar análisis estadístico y visualizar información usando Python.\n",
                "\n",
                "💡 **Objetivo**: Comprender las herramientas fundamentales para el análisis de datos en ciencia de datos mediante ejemplos prácticos.\n",
                "\n",
                "---"
            ]
        },
        {
            "cell_type": "markdown",
            "metadata": {},
            "source": [
                "# 📊 Consideraciones sobre las Variables del Dataset\n",
                "\n",
                "Este dataset que veremos hoy contiene información de pacientes con características médicas que pueden influir en la **predicción de diabetes**. A continuación, se describen cada una de las variables, su importancia y consideraciones a tomar en cuenta para su análisis.\n",
                "\n",
                "---\n",
                "\n",
                "## 🔹 **1. Pregnancies (Número de Embarazos)**\n",
                "- **Descripción:** Indica la cantidad de veces que una paciente ha estado embarazada.\n",
                "- **Tipo de dato:** **Numérico entero** (0, 1, 2, …).\n",
                "- **Consideraciones:**\n",
                "  - Solo aplica a **mujeres**, por lo que en un dataset mixto podría ser irrelevante.\n",
                "  - Un mayor número de embarazos puede estar asociado con un mayor riesgo de diabetes gestacional.\n",
                "\n",
                "---\n",
                "\n",
                "## 🔹 **2. Glucose (Glucosa en sangre)**\n",
                "- **Descripción:** Nivel de glucosa en plasma (mg/dL) tras una prueba de tolerancia a la glucosa en ayuno.\n",
                "- **Tipo de dato:** **Numérico continuo**.\n",
                "- **Consideraciones:**\n",
                "  - Es una de las **variables más relevantes** para detectar diabetes.\n",
                "  - Valores altos (>125 mg/dL) pueden indicar **diabetes o prediabetes**.\n",
                "  - Si hay valores de **0 o extremadamente bajos**, podrían representar **datos faltantes**.\n",
                "\n",
                "---\n",
                "\n",
                "## 🔹 **3. BloodPressure (Presión Arterial)**\n",
                "- **Descripción:** Medición de la presión arterial diastólica (mmHg).\n",
                "- **Tipo de dato:** **Numérico continuo**.\n",
                "- **Consideraciones:**\n",
                "  - Valores **muy bajos** (cercanos a 0) pueden representar datos faltantes o errores.\n",
                "  - La **hipertensión** es un factor de riesgo común en la diabetes tipo 2.\n",
                "\n",
                "---\n",
                "\n",
                "## 🔹 **4. SkinThickness (Grosor del Pliegue Cutáneo)**\n",
                "- **Descripción:** Grosor de los pliegues cutáneos en el tríceps (mm), usado como estimación de la grasa corporal.\n",
                "- **Tipo de dato:** **Numérico continuo**.\n",
                "- **Consideraciones:**\n",
                "  - Puede ayudar a estimar la **obesidad**, que es un factor de riesgo para la diabetes.\n",
                "  - Valores **cercanos a 0** podrían ser datos faltantes.\n",
                "\n",
                "---\n",
                "\n",
                "## 🔹 **5. Insulin (Nivel de Insulina en Sangre)**\n",
                "- **Descripción:** Cantidad de insulina en suero después de una prueba de tolerancia a la glucosa (mu U/ml).\n",
                "- **Tipo de dato:** **Numérico continuo**.\n",
                "- **Consideraciones:**\n",
                "  - Es clave para entender la **resistencia a la insulina**.\n",
                "  - Valores **muy bajos o iguales a 0** pueden indicar que faltan datos.\n",
                "  - La insulina anormal puede indicar **diabetes tipo 1 o tipo 2**.\n",
                "\n",
                "---\n",
                "\n",
                "## 🔹 **6. BMI (Índice de Masa Corporal - IMC)**\n",
                "- **Descripción:** Relación entre peso y altura, calculado como:\n",
                "  \n",
                "  $$\n",
                "  IMC = \\frac{\\text{Peso (kg)}}{\\text{Altura (m)}^2}\n",
                "  $$\n",
                "\n",
                "- **Tipo de dato:** **Numérico continuo**.\n",
                "- **Consideraciones:**\n",
                "  - Un **IMC alto (>30)** es un fuerte predictor de diabetes tipo 2.\n",
                "  - Si hay valores **cercanos a 0 o irreales**, podrían ser datos erróneos.\n",
                "\n",
                "---\n",
                "\n",
                "## 🔹 **7. DiabetesPedigreeFunction (Historial Familiar de Diabetes)**\n",
                "- **Descripción:** Mide la **probabilidad genética** de desarrollar diabetes basada en antecedentes familiares.\n",
                "- **Tipo de dato:** **Numérico continuo** (valor entre 0 y 2.5 aprox.).\n",
                "- **Consideraciones:**\n",
                "  - Un **valor alto** indica mayor **riesgo hereditario** de diabetes.\n",
                "  - Un **valor bajo** sugiere menor riesgo pero no excluye la posibilidad de desarrollar la enfermedad.\n",
                "\n",
                "---\n",
                "\n",
                "## 🔹 **8. Age (Edad)**\n",
                "- **Descripción:** Edad del paciente en años.\n",
                "- **Tipo de dato:** **Numérico entero**.\n",
                "- **Consideraciones:**\n",
                "  - **Personas mayores tienen un mayor riesgo** de desarrollar diabetes.\n",
                "  - Si hay valores **muy bajos (menores de 10 años)** pueden ser **errores en los datos**.\n",
                "  - Se puede agrupar en **rangos de edad** para analizar tendencias.\n",
                "\n",
                "---\n",
                "\n",
                "## 🎯 **Consideraciones Generales para el Análisis**\n",
                "✔ **Revisar si hay valores nulos o inusuales (como 0 en glucosa o presión arterial).**  \n",
                "✔ **Identificar outliers que puedan afectar la interpretación (por ejemplo, valores de insulina extremadamente altos o bajos).**  \n",
                "✔ **Estandarizar unidades y escalas antes de aplicar modelos para hacer predicciones**  \n",
                "✔ **Usar histogramas y mapas de calor para detectar correlaciones y anomalías.**  \n",
                "\n",
                "📊 **Este dataset es ideal para análisis de predicción de diabetes y machine learning, pero requiere preprocesamiento adecuado para evitar sesgos.** 🚀\n"
            ]
        },
        {
            "cell_type": "markdown",
            "metadata": {},
            "source": [
                "## 📂 Bloque 1: Carga y Exploración de Datos\n",
                "En este bloque, aprenderemos a cargar datos desde un archivo CSV utilizando `pandas` y exploraremos su contenido.\n",
                "\n",
                "**Conceptos clave:**\n",
                "- Lectura de archivos con `pandas`.\n",
                "- Exploración de las primeras filas con `.head()`.\n",
                "- Identificación de valores nulos con `.info()`.\n",
                "- Estadísticas básicas con `.describe()`."
            ]
        },
        {
            "cell_type": "code",
            "execution_count": null,
            "metadata": {},
            "outputs": [],
            "source": [
                "import pandas as pd\n",
                "\n",
                "# Cargar el archivo CSV en un DataFrame\n",
                "df = pd.read_csv(\"diabetes2.csv\")\n",
                "\n",
                "# Mostrar las primeras 10 filas\n",
                "df.head(10)"
            ]
        },
        {
            "cell_type": "code",
            "execution_count": null,
            "metadata": {},
            "outputs": [],
            "source": [
                "# Mostrar información sobre el DataFrame\n",
                "df.info()"
            ]
        },
        {
            "cell_type": "code",
            "execution_count": null,
            "metadata": {},
            "outputs": [],
            "source": [
                "# Mostrar estadísticas descriptivas del DataFrame\n",
                "df.describe()"
            ]
        },
        {
            "cell_type": "markdown",
            "metadata": {},
            "source": [
                "# 📊 Interpretación de ejemplo: Desviación Estándar de Glucosa: 31.95 mg/dL\n",
                "\n",
                "La **desviación estándar (σ)** mide la **variabilidad** de los valores de glucosa con respecto a su **media**. En este caso, la desviación estándar de **31.95 mg/dL** indica cuánto se **dispersan los niveles de glucosa** en la población analizada.\n",
                "\n",
                "---\n",
                "\n",
                "## 🔹 ¿Qué significa este valor?\n",
                "1️⃣ **Una desviación estándar de 31.95 mg/dL significa que, en promedio, los valores de glucosa se alejan 31.95 unidades de la media.**  \n",
                "   - Si la **media de glucosa** en el dataset es, por ejemplo, **120 mg/dL**, entonces la mayoría de los datos estarán **entre 88.05 mg/dL y 151.95 mg/dL** (restando la desviación para 88, sumandola para 151).  \n",
                "\n",
                "2️⃣ **Indica que hay una variabilidad considerable en los valores de glucosa.**  \n",
                "   - No todos los pacientes tienen niveles de glucosa cercanos a la media.  \n",
                "   - Existen algunos valores **muy altos o muy bajos** que pueden estar generando esta dispersión.  \n",
                "\n",
                "---"
            ]
        },
        {
            "cell_type": "code",
            "execution_count": null,
            "metadata": {},
            "outputs": [],
            "source": [
                "# Contar valores nulos en cada columna\n",
                "df.isnull().sum()"
            ]
        },
        {
            "cell_type": "code",
            "execution_count": null,
            "metadata": {},
            "outputs": [],
            "source": [
                "# Obtener el número de filas y columnas\n",
                "df.shape"
            ]
        },
        {
            "cell_type": "markdown",
            "metadata": {},
            "source": [
                "# ¿Será suficiente saber que no tiene nulos para decir que los datos nos sirven? \n",
                "La respuesta es no. Muchas ocasiones las personas que toman los datos dejan vacías ciertas columnas o les ponen valores como 0. Exploremos entonces la opción de que tengan 0.\n",
                "Para esto usaremos 2 librerías que se utilizarán mucho en el curso\n",
                "\n",
                "- **`matplotlib.pyplot (plt)`** es una librería de visualización en Python que permite crear gráficos estáticos, animados e interactivos, como líneas, barras e histogramas.  \n",
                "- **`seaborn (sns)`** es una librería basada en `matplotlib` que facilita la creación de gráficos estadísticos con estilos mejorados y soporte para visualización de datos categóricos y correlaciones.  "
            ]
        },
        {
            "cell_type": "code",
            "execution_count": null,
            "metadata": {},
            "outputs": [],
            "source": [
                "(df==0).head(15)"
            ]
        },
        {
            "cell_type": "code",
            "execution_count": null,
            "metadata": {},
            "outputs": [],
            "source": [
                "import matplotlib.pyplot as plt\n",
                "import seaborn as sns\n",
                "# Visualización de zeros\n",
                "plt.figure(figsize=(18,12))\n",
                "plt.title(\"Visualizing Zeros\")\n",
                "sns.heatmap(df==0, cbar=False, cmap='Blues', yticklabels=False);"
            ]
        },
        {
            "cell_type": "markdown",
            "metadata": {},
            "source": [
                "- Si una persona tiene cero insulina, es diabética, ya que sus células no pueden transportar la glucosa desde el torrente sanguíneo hacia el interior de las células. Sin embargo, en nuestro conjunto de datos, no todos los ceros en la columna Insulin corresponden a un Outcome de 1 (indicando diabetes). Esto sugiere que muchos ceros en la columna Insulin son en realidad valores incorrectos.\n",
                "- Glucosa tiene algunos zeros random.\n",
                "- Además, parece que hay muchas filas que tienen ceros en las tres columnas: Blood Pressure, Skin Thickness e Insulin. Esto podría indicar que al momento de capturar los datos o de tomar las medidas, se omitió esa información, lo que dificulta el análisis. "
            ]
        },
        {
            "cell_type": "code",
            "execution_count": 94,
            "metadata": {},
            "outputs": [],
            "source": [
                "# Filtramos el DataFrame 'diabetes' para eliminar filas que contengan valores 0 en las columnas 'Glucose', 'BloodPressure' y 'BMI'.\n",
                "# Usamos .loc[] para seleccionar solo las filas que cumplen con la condición.\n",
                "# axis=1 indica que la evaluación se debe hacer por fila.\n",
                "# All se utiliza para verificar si todas las condiciones en la fila son verdaderas, podría usarse any que sería para indicar que al menos una condición es verdadera\n",
                "\n",
                "diabetes_cleaned = df.loc[\n",
                "    (df[['Glucose', 'BloodPressure', 'BMI']] != 0).all(axis=1)\n",
                "]\n"
            ]
        },
        {
            "cell_type": "code",
            "execution_count": null,
            "metadata": {},
            "outputs": [],
            "source": [
                "# Ejemplo usando axis 0\n",
                "(df[['Glucose', 'BloodPressure', 'BMI']] != 0).all(axis=0)"
            ]
        },
        {
            "cell_type": "code",
            "execution_count": null,
            "metadata": {},
            "outputs": [],
            "source": [
                "# ejemplo sin evaluar la fila completa\n",
                "(df[['Glucose', 'BloodPressure', 'BMI']] != 1)"
            ]
        },
        {
            "cell_type": "code",
            "execution_count": null,
            "metadata": {},
            "outputs": [],
            "source": [
                "# axis=1 indica que la evaluación se debe hacer por fila. Y el all, para evaluar que todas las condiciones se cumplanm\n",
                "(df[['Glucose', 'BloodPressure', 'BMI']] != 0).all(axis=1)"
            ]
        },
        {
            "cell_type": "markdown",
            "metadata": {},
            "source": [
                "### Reemplazar los zeros en Skin Thickness por el promedio de la columna"
            ]
        },
        {
            "cell_type": "code",
            "execution_count": null,
            "metadata": {},
            "outputs": [],
            "source": [
                "# Visualizar el promedio\n",
                "promedio_skinthickness = diabetes_cleaned['SkinThickness'].mean()\n",
                "promedio_skinthickness"
            ]
        },
        {
            "cell_type": "code",
            "execution_count": null,
            "metadata": {},
            "outputs": [],
            "source": [
                "# Visualizar los indices de SkinThickness que tienen valor 0\n",
                "diabetes_cleaned.loc[diabetes_cleaned['SkinThickness'] == 0, 'SkinThickness'].head(20)"
            ]
        },
        {
            "cell_type": "code",
            "execution_count": null,
            "metadata": {},
            "outputs": [],
            "source": [
                "# reemplazar los indices de SkinThickness que tienen valor 0 por el promedio de la columna\n",
                "diabetes_cleaned.loc[diabetes_cleaned['SkinThickness'] == 0, 'SkinThickness'] = promedio_skinthickness"
            ]
        },
        {
            "cell_type": "code",
            "execution_count": null,
            "metadata": {},
            "outputs": [],
            "source": [
                "# Visualizar los indices de SkinThickness que tienen valor 0\n",
                "diabetes_cleaned.loc[diabetes_cleaned['SkinThickness'] == 0, 'SkinThickness'].head(20)"
            ]
        },
        {
            "cell_type": "markdown",
            "metadata": {},
            "source": [
                "## 📊 Bloque 2: Estadística Descriptiva\n",
                "En este bloque, exploraremos estadísticas básicas usando `numpy` y `pandas`.\n",
                "\n",
                "**Conceptos clave:**\n",
                "- Cálculo de media, mediana y moda.\n",
                "- Identificación de valores atípicos con desviación estándar.\n",
                "- Cálculo de correlaciones entre variables."
            ]
        },
        {
            "cell_type": "code",
            "execution_count": null,
            "metadata": {},
            "outputs": [],
            "source": [
                "import numpy as np\n",
                "\n",
                "# Calcular la media y mediana de la glucosa\n",
                "media_glucosa = np.mean(df['Glucose'])\n",
                "mediana_glucosa = np.median(df['Glucose'])\n",
                "\n",
                "print(f\"Media de Glucosa: {media_glucosa}\")\n",
                "print(f\"Mediana de Glucosa: {mediana_glucosa}\")"
            ]
        },
        {
            "cell_type": "code",
            "execution_count": null,
            "metadata": {},
            "outputs": [],
            "source": [
                "# Calcular la desviación estándar de la glucosa\n",
                "std_glucosa = np.std(df['Glucose'])\n",
                "print(f\"Desviación Estándar de Glucosa: {std_glucosa}\")"
            ]
        },
        {
            "cell_type": "markdown",
            "metadata": {},
            "source": [
                "## 🔗 Recursos adicionales\n",
                "- [Pandas Documentation](https://pandas.pydata.org/docs/)\n",
                "- [NumPy Documentation](https://numpy.org/doc/)\n",
                "- [Matplotlib Documentation](https://matplotlib.org/stable/contents.html)"
            ]
        },
        {
            "cell_type": "markdown",
            "metadata": {},
            "source": [
                "## 📊 Bloque 3: Gráficos de Barras\n",
                "Los gráficos de barras permiten comparar valores entre distintas categorías.\n",
                "\n",
                "**Principios básicos:**\n",
                "- Utilizar etiquetas claras en los ejes.\n",
                "- Definir colores que permitan diferenciar categorías.\n",
                "- Incluir un título descriptivo."
            ]
        },
        {
            "cell_type": "code",
            "execution_count": null,
            "metadata": {},
            "outputs": [],
            "source": [
                "import matplotlib.pyplot as plt\n",
                "\n",
                "# Contar el número de casos de diabetes y no diabetes\n",
                "conteo_outcome = df['Outcome'].value_counts()\n",
                "conteo_outcome"
            ]
        },
        {
            "cell_type": "code",
            "execution_count": null,
            "metadata": {},
            "outputs": [],
            "source": [
                "# Crear el gráfico de barras\n",
                "plt.figure(figsize=(6,4))\n",
                "plt.bar(['No Diabetes', 'Diabetes'], conteo_outcome, color=['blue', 'red'])\n",
                "plt.xlabel('Condición')\n",
                "plt.ylabel('Número de Casos')\n",
                "plt.title('Distribución de Casos de Diabetes')\n",
                "plt.show()"
            ]
        },
        {
            "cell_type": "markdown",
            "metadata": {},
            "source": [
                "# Ejemplo contar el número total de personas con diferente cantidad de embarazos"
            ]
        },
        {
            "cell_type": "code",
            "execution_count": null,
            "metadata": {},
            "outputs": [],
            "source": [
                "# Contar la cantidad de registros por número de embarazos\n",
                "conteo_embarazos = df['Pregnancies'].value_counts()\n",
                "pd.DataFrame(conteo_embarazos)"
            ]
        },
        {
            "cell_type": "code",
            "execution_count": null,
            "metadata": {},
            "outputs": [],
            "source": [
                "# Número de embarazos\n",
                "conteo_embarazos.index"
            ]
        },
        {
            "cell_type": "code",
            "execution_count": null,
            "metadata": {},
            "outputs": [],
            "source": [
                "# Cantidad de personas con ese número de embarazos\n",
                "conteo_embarazos.values"
            ]
        },
        {
            "cell_type": "markdown",
            "metadata": {},
            "source": [
                "### ✏️ Actividad: Crear un Gráfico de Barras\n",
                "Crea un gráfico de barras que muestre la cantidad de personas por número de embarazos (`Pregnancies`).\n",
                "- El tamaño de la figura debe ser 8 x 5\n",
                "- El plot debe ser de tipo bara e incluir los números de Embarazos en la x y la cantidad de personas en la Y\n",
                "- Debe tener etiqueta en x\n",
                "- Debe tener etiqueta en y\n",
                "- Debe tener el titulo 'Distribución de Embarazos en el Dataset'\n",
                "- Debes incluir una sentencia que lo muestre\n",
                "- Debes hacer que el gráfico tenga color purpura"
            ]
        },
        {
            "cell_type": "code",
            "execution_count": null,
            "metadata": {},
            "outputs": [],
            "source": [
                "# Crear el gráfico de barras\n"
            ]
        },
        {
            "cell_type": "markdown",
            "metadata": {},
            "source": [
                "## 📊 Bloque 4: Gráficos de Columnas\n",
                "Los gráficos de columnas son similares a los de barras, pero con orientación vertical.\n",
                "\n",
                "**Principios básicos:**\n",
                "- Mantener la alineación correcta de las etiquetas.\n",
                "- No sobrecargar con demasiadas columnas.\n",
                "- Usar colores que resalten las diferencias."
            ]
        },
        {
            "cell_type": "markdown",
            "metadata": {},
            "source": [
                "### Ejemplo agrupar y sacar promedios"
            ]
        },
        {
            "cell_type": "code",
            "execution_count": null,
            "metadata": {},
            "outputs": [],
            "source": [
                "df.groupby('Outcome').mean()"
            ]
        },
        {
            "cell_type": "markdown",
            "metadata": {},
            "source": [
                "### Obtener el promedio solo del BMI (Indice de masa corporal)"
            ]
        },
        {
            "cell_type": "code",
            "execution_count": null,
            "metadata": {},
            "outputs": [],
            "source": [
                "df.groupby('Outcome')['BMI'].mean()"
            ]
        },
        {
            "cell_type": "code",
            "execution_count": null,
            "metadata": {},
            "outputs": [],
            "source": [
                "# Crear un gráfico de columnas para visualizar el IMC promedio por condición de diabetes\n",
                "df.groupby('Outcome')['BMI'].mean().plot(kind='bar', color=['blue', 'red'], figsize=(6,4))\n",
                "plt.xlabel('Condición')\n",
                "plt.ylabel('IMC Promedio')\n",
                "plt.title('IMC Promedio por Condición de Diabetes')\n",
                "plt.show()"
            ]
        },
        {
            "cell_type": "markdown",
            "metadata": {},
            "source": [
                "## 🔎 Interpretación del IMC según la OMS\n",
                "$$\n",
                "IMC = \\frac{\\text{Peso (kg)}}{\\text{Altura (m)}^2}\n",
                "$$\n",
                "\n",
                "| IMC (kg/m²)  | Clasificación |\n",
                "|--------------|--------------|\n",
                "| < 18.5       | Bajo peso    |\n",
                "| 18.5 - 24.9  | Peso normal  |\n",
                "| 25 - 29.9    | Sobrepeso    |\n",
                "| 30 - 34.9    | Obesidad I   |\n",
                "| 35 - 39.9    | Obesidad II  |\n",
                "| ≥ 40         | Obesidad III |\n",
                "\n",
                "---\n"
            ]
        },
        {
            "cell_type": "markdown",
            "metadata": {},
            "source": [
                "## 📊 Bloque 5: Gráficos de Dispersión\n",
                "Los gráficos de dispersión permiten analizar la relación entre dos variables numéricas.\n",
                "\n",
                "**Principios básicos:**\n",
                "- Representar cada punto de manera clara.\n",
                "- Usar colores para diferenciar categorías.\n",
                "- Interpretar patrones en la distribución."
            ]
        },
        {
            "cell_type": "code",
            "execution_count": null,
            "metadata": {},
            "outputs": [],
            "source": [
                "# Crear un gráfico de dispersión entre Glucosa y Edad\n",
                "plt.figure(figsize=(7,5))\n",
                "plt.scatter(df['Age'], df['Glucose'], alpha=0.5, color='green')\n",
                "plt.xlabel('Edad')\n",
                "plt.ylabel('Glucosa')\n",
                "plt.title('Relación entre Edad y Glucosa')\n",
                "plt.show()"
            ]
        },
        {
            "cell_type": "markdown",
            "metadata": {},
            "source": [
                "# 📊 Análisis del Gráfico de Dispersión: Relación entre Edad y Glucosa\n",
                "\n",
                "Este gráfico representa la relación entre la **edad** y los niveles de **glucosa** en la población analizada.\n",
                "\n",
                "---\n",
                "\n",
                "## 🔹 ¿Qué es un gráfico de dispersión?\n",
                "Un **gráfico de dispersión** se utiliza para visualizar la relación entre dos variables numéricas. Cada punto representa una observación individual en el dataset.\n",
                "\n",
                "**Principios clave:**\n",
                "- **Patrón ascendente** → Indica una correlación positiva.\n",
                "- **Patrón descendente** → Indica una correlación negativa.\n",
                "- **Distribución dispersa sin forma clara** → Indica una correlación baja o inexistente.\n",
                "\n",
                "---\n",
                "\n",
                "## 🔍 **Análisis del gráfico**\n",
                "### 1️⃣ **Distribución de los datos**\n",
                "- La mayoría de los puntos se concentran en edades **entre 20 y 50 años** con valores de glucosa **entre 75 y 125 mg/dL**.\n",
                "- A medida que la edad avanza, los valores de glucosa parecen dispersarse más.\n",
                "\n",
                "### 2️⃣ **¿Existe una correlación clara?**\n",
                "- Este gráfico **no muestra una tendencia lineal clara**. Por lo que un gráfico de lineas sería más útil.\n",
                "- Esto sugiere que la relación entre edad y glucosa **no es fuerte ni directa**.\n",
                "- Sin embargo, se observa que algunos valores extremos de glucosa se presentan con mayor frecuencia en edades avanzadas (Ejemplo 40).\n",
                "\n",
                "### 3️⃣ **Posibles interpretaciones**\n",
                "- **Personas más jóvenes (20-40 años)** tienden a tener glucosa más estable.\n",
                "- **Personas mayores (>50 años)** presentan una mayor variabilidad en los niveles de glucosa.\n",
                "- Esto puede deberse a **factores de salud individuales**, como la presencia de diabetes o hábitos de vida.\n",
                "\n",
                "---"
            ]
        },
        {
            "cell_type": "markdown",
            "metadata": {},
            "source": [
                "## 📊 Bloque 6: Gráficos de Líneas\n",
                "Los gráficos de líneas se usan para representar tendencias en datos continuos.\n",
                "\n",
                "**Principios básicos:**\n",
                "- Útil para visualizar cambios en el tiempo.\n",
                "- Suavizar líneas cuando sea necesario.\n",
                "- Evitar el uso en variables categóricas."
            ]
        },
        {
            "cell_type": "code",
            "execution_count": null,
            "metadata": {},
            "outputs": [],
            "source": [
                "# Ordenar datos por edad y graficar la media de glucosa\n",
                "df_sorted = df.groupby('Age')['Glucose'].mean()\n",
                "\n",
                "# Crear el gráfico de líneas\n",
                "plt.figure(figsize=(8,5))\n",
                "plt.plot(df_sorted.index, df_sorted.values, marker='o', linestyle='-', color='blue')\n",
                "plt.xlabel('Edad')\n",
                "plt.ylabel('Media de Glucosa')\n",
                "plt.title('Glucosa Promedio por Edad')\n",
                "plt.grid()\n",
                "plt.show()"
            ]
        },
        {
            "cell_type": "markdown",
            "metadata": {},
            "source": [
                "# 📈 Interpretación del Gráfico: Glucosa Promedio por Edad\n",
                "\n",
                "Este gráfico de líneas muestra la **relación entre la edad y la media de glucosa** en la población analizada.\n",
                "\n",
                "---\n",
                "\n",
                "## 🔎 **Observaciones Clave**\n",
                "### 1️⃣ **Tendencia General (Crecimiento Inicial)**\n",
                "- A medida que la edad aumenta de **20 a 50 años**, la **media de glucosa tiende a aumentar**.\n",
                "- Esto sugiere que los niveles de glucosa son **relativamente más bajos en personas jóvenes** y aumentan con la edad.\n",
                "\n",
                "### 2️⃣ **Mayor Variabilidad después de los 50 años**\n",
                "- Después de los **50 años**, la glucosa promedio presenta **altibajos más pronunciados**, lo que indica una **mayor variabilidad** en los niveles de glucosa en esta población.\n",
                "- Esto podría deberse a que **algunas personas mayores tienen diabetes**, mientras que otras mantienen niveles más normales.\n",
                "\n",
                "### 3️⃣ **Picos y Caídas Extremos**\n",
                "- Se observan picos altos alrededor de los **50-60 años**, donde la glucosa promedio supera los **160 mg/dL**, indicando que algunos grupos dentro de esa edad podrían tener un mayor riesgo de diabetes.\n",
                "- También hay **caídas bruscas**, lo que podría deberse a **muestras más pequeñas en ciertos grupos de edad**, causando fluctuaciones más drásticas.\n",
                "\n",
                "### 4️⃣ **Disminución y Fluctuaciones en la Vejez**\n",
                "- Entre los **60 y 80 años**, la glucosa sigue siendo variable, pero con valores más dispersos.\n",
                "- Esto podría reflejar que algunas personas con diabetes ya están en tratamiento, mientras que otras tienen niveles descontrolados.\n",
                "\n",
                "---\n"
            ]
        },
        {
            "cell_type": "markdown",
            "metadata": {},
            "source": [
                "# ✏️ Actividad: Análisis del Gráfico de Glucosa Promedio por Edad\n",
                "\n",
                "## 📌 Objetivo:\n",
                "Analizar el comportamiento de la glucosa en distintas edades y responder preguntas clave para interpretar los datos.\n",
                "\n",
                "---\n",
                "\n",
                "## 🔍 **Instrucciones**\n",
                "1. Observa detenidamente el gráfico **\"Glucosa Promedio por Edad\"**.\n",
                "2. Reflexiona sobre las variaciones en los valores y la relación entre la edad y la glucosa.\n",
                "3. **Responde las siguientes preguntas en la celda de Markdown debajo del código.**\n",
                "\n",
                "---\n",
                "\n",
                "## 📊 **Preguntas de Análisis** 📝 **Responde aquí**\n",
                "(Escribe tus respuestas en esta celda de Markdown)\n",
                "\n",
                "1️⃣ ¿Por qué crees que la glucosa aumenta con la edad? ¿Qué factores biológicos o de estilo de vida podrían influir?  \n",
                "\n",
                "2️⃣ ¿Por qué la variabilidad en los niveles de glucosa es mayor después de los 50 años? ¿Qué puede estar afectando estos cambios?  \n",
                "\n",
                "3️⃣ ¿Cómo interpretarías los picos más altos en los valores de glucosa? ¿A qué grupo de personas podría representar?  \n",
                "\n",
                "4️⃣ ¿Cuáles son las posibles causas de las caídas bruscas en la glucosa a edades avanzadas?  \n",
                "\n",
                "5️⃣ ¿Qué recomendaciones harías para la prevención de la diabetes basándote en este análisis?  \n",
                "\n",
                "---"
            ]
        },
        {
            "cell_type": "markdown",
            "metadata": {},
            "source": [
                "# 🔥 Bloque 7: Mapa de Calor con Seaborn\n",
                "Los mapas de calor permiten visualizar matrices de correlación o valores numéricos en una escala de colores.\n",
                "\n",
                "**Principios básicos:**\n",
                "- Usar una escala de colores adecuada.\n",
                "- Incluir etiquetas para facilitar la interpretación.\n",
                "- Evitar el uso excesivo en datasets muy grandes."
            ]
        },
        {
            "cell_type": "code",
            "execution_count": 115,
            "metadata": {},
            "outputs": [],
            "source": [
                "# Cargar el dataset de nuevo para evitar errores\n",
                "df = pd.read_csv(\"diabetes2.csv\")"
            ]
        },
        {
            "cell_type": "code",
            "execution_count": 116,
            "metadata": {},
            "outputs": [],
            "source": [
                "# %pip install seaborn"
            ]
        },
        {
            "cell_type": "code",
            "execution_count": null,
            "metadata": {},
            "outputs": [],
            "source": [
                "import seaborn as sns\n",
                "# Calcular la matriz de correlación\n",
                "correlacion = df.corr()\n",
                "\n",
                "# Crear el mapa de calor\n",
                "plt.figure(figsize=(10,6))\n",
                "sns.heatmap(correlacion, annot=True, cmap='coolwarm', fmt='.2f', linewidths=0.5)\n",
                "plt.title('Mapa de Calor de la Matriz de Correlación')\n",
                "plt.show()"
            ]
        },
        {
            "cell_type": "markdown",
            "metadata": {},
            "source": [
                "# 📊 Interpretación del Mapa de Calor de Correlaciones\n",
                "\n",
                "El mapa de calor representa la **matriz de correlación** entre las variables del dataset. \n",
                "\n",
                "## 🔹 ¿Cómo interpretar los valores?\n",
                "- **Valores cercanos a 1 (rojo oscuro)** → **Correlación positiva fuerte**  \n",
                "  - Cuando una variable aumenta, la otra también lo hace.\n",
                "- **Valores cercanos a -1 (azul oscuro)** → **Correlación negativa fuerte**  \n",
                "  - Cuando una variable aumenta, la otra disminuye.\n",
                "- **Valores cercanos a 0 (azul claro)** → **Correlación débil o inexistente**  \n",
                "  - No hay una relación clara entre las variables.\n",
                "\n",
                "---\n",
                "\n",
                "## 🔎 **Observaciones clave:**\n",
                "\n",
                "### 1️⃣ **Glucosa vs. Outcome (0.47)**\n",
                "- Existe una **correlación moderada positiva** entre los niveles de **glucosa** y la **presencia de diabetes**.\n",
                "- **Conclusión:** A medida que **aumenta la glucosa**, también **aumenta la probabilidad de ser diagnosticado con diabetes**.\n",
                "\n",
                "### 2️⃣ **Edad vs. Outcome (0.24)**\n",
                "- Hay una **correlación positiva débil**, lo que sugiere que la diabetes es **más frecuente en personas mayores**, aunque la relación no es muy fuerte.\n",
                "\n",
                "### 3️⃣ **BMI (Índice de Masa Corporal) vs. Outcome (0.29)**\n",
                "- Existe una **correlación positiva moderada**, lo que implica que **a mayor índice de masa corporal (BMI), mayor es la probabilidad de tener diabetes**.\n",
                "\n",
                "### 4️⃣ **Edad vs. Número de Embarazos (0.54)**\n",
                "- Hay una **correlación positiva fuerte** entre la **edad** y el **número de embarazos**.\n",
                "- **Explicación:** Esto es esperable, ya que las mujeres mayores han tenido **más tiempo** para embarazarse.\n",
                "\n",
                "### 5️⃣ **Glucosa vs. Insulina (0.33)**\n",
                "- Existe una **correlación moderada** entre la **glucosa** y la **insulina**, lo que puede estar relacionado con la respuesta del cuerpo a los niveles de azúcar en sangre.\n",
                "\n",
                "### 6️⃣ **Relaciones Débiles (valores cercanos a 0)**\n",
                "- Variables como **SkinThickness (Grosor de la Piel)** tienen **una correlación muy baja con la diabetes (0.07)**.\n",
                "- Otras correlaciones bajas incluyen **BloodPressure (0.07)** e **Insulin (0.13)**, lo que indica que **no son buenos predictores de la enfermedad**.\n",
                "\n",
                "---\n",
                "\n",
                "Las demás variables podrían contribuir, pero con menor impacto en el diagnóstico.  \n",
                "\n",
                "---\n",
                "\n",
                "💡 **¿Qué sigue?**  \n",
                "Si queremos predecir la diabetes, podemos probar modelos de Machine Learning priorizando las variables más importantes y descartando aquellas con correlaciones débiles. 🚀\n"
            ]
        },
        {
            "cell_type": "markdown",
            "metadata": {},
            "source": [
                "# ✏️ Actividad: Análisis del Mapa de Calor\n",
                "\n",
                "## 📌 Objetivo:\n",
                "Analizar la matriz de correlación y responder preguntas clave sobre las variables más relevantes en la predicción de la diabetes.\n",
                "\n",
                "---\n",
                "\n",
                "## 🔍 **Instrucciones**\n",
                "1. Ejecuta el código que genera el **Mapa de Calor** en el dataset `diabetes2.csv`.\n",
                "2. Observa los valores de correlación entre las variables.\n",
                "3. **Responde las siguientes preguntas en la celda de Markdown debajo del código.**\n",
                "\n",
                "---\n",
                "\n",
                "## 📊 **Preguntas de Análisis** 📝 **Responde aquí**\n",
                "(Escribe tus respuestas en esta celda de Markdown)\n",
                "1️⃣ ¿Cuál es la variable que tiene la correlación más alta con la **diabetes (`Outcome`)**? ¿Qué significa esto en términos prácticos?  \n",
                "\n",
                "2️⃣ ¿Cómo afecta la edad a la diabetes según la matriz de correlación? ¿Crees que es un factor importante en la predicción de la enfermedad?  \n",
                "\n",
                "3️⃣ ¿Qué puedes concluir sobre la relación entre **BMI (Índice de Masa Corporal)** y la diabetes?  \n",
                "\n",
                "4️⃣ ¿Hay alguna variable en la matriz que **NO parezca ser un buen predictor** de la diabetes? Justifica tu respuesta.  \n",
                "\n",
                "5️⃣ Si estuvieras diseñando un modelo de Machine Learning para predecir la diabetes, ¿qué **tres variables seleccionarías** como las más importantes? Explica tu elección.  \n",
                "\n",
                "---"
            ]
        },
        {
            "cell_type": "markdown",
            "metadata": {},
            "source": [
                "## 📊 Bloque 9: Visualización de Histogramas\n",
                "Los histogramas permiten visualizar la **distribución de los datos** y entender la variabilidad de cada variable en el dataset.\n",
                "\n",
                "**Principios clave:**\n",
                "- Utilizar un número adecuado de **bins** (intervalos) para representar los datos sin perder información.\n",
                "- Incluir una **línea de densidad (`kde=True`)** para facilitar la interpretación.\n",
                "- Excluir variables categóricas (`Outcome` e `InsulinKnown`) para que los histogramas sean adecuados.\n",
                "- Usar un **gráfico de conteo (`countplot`)** para visualizar variables categóricas como `InsulinKnown`."
            ]
        },
        {
            "cell_type": "code",
            "execution_count": null,
            "metadata": {},
            "outputs": [],
            "source": [
                "# Filtrar las columnas que no deben incluirse en los histogramas\n",
                "columns_to_plot = [col for col in diabetes_cleaned.columns if col not in ['Outcome', 'InsulinKnown']]\n",
                "\n",
                "# Número de columnas para la visualización de histogramas\n",
                "num_cols = 2\n",
                "\n",
                "# Calcular el número de filas necesarias\n",
                "num_rows = (len(columns_to_plot) + num_cols) // num_cols\n",
                "\n",
                "plt.figure(figsize=(16, num_rows * 6))  # Ajustar el tamaño para acomodar los gráficos\n",
                "\n",
                "# Generar histogramas para cada columna\n",
                "for i, column in enumerate(columns_to_plot):\n",
                "    plt.subplot(num_rows, num_cols, i + 1)\n",
                "    sns.histplot(data=diabetes_cleaned, x=column, kde=True, bins=20)\n",
                "    plt.title(f'Distribution of {column}')\n",
                "    sns.despine()\n",
                "\n",
                "\n",
                "plt.tight_layout()  # Ajustar el diseño de los subgráficos\n",
                "plt.show()"
            ]
        },
        {
            "cell_type": "markdown",
            "metadata": {},
            "source": [
                "# 📊 Interpretación de los Histogramas de Variables del Dataset\n",
                "\n",
                "Los histogramas muestran la **distribución de los datos** en las variables del dataset, permitiendo identificar su comportamiento y patrones clave.\n",
                "\n",
                "---\n",
                "\n",
                "## 🔍 **Análisis de las Variables**\n",
                "### 1️⃣ **Pregnancies (Número de Embarazos)**\n",
                "- Distribución **sesgada a la derecha** (asimétrica positiva).\n",
                "- La mayoría de las mujeres han tenido pocos embarazos (0-2), pero hay algunas con más de 10.\n",
                "- Este sesgo es esperado, ya que los embarazos múltiples son menos comunes.\n",
                "\n",
                "#### 📊 ¿Por qué la distribución de \"Pregnancies\" está sesgada a la derecha?\n",
                "\n",
                "Cuando hablamos de **sesgo en una distribución**, nos referimos a **la dirección de la cola de la distribución**, **no** a dónde vemos más datos en el gráfico.\n",
                "\n",
                "---\n",
                "\n",
                "#### 🔍 **Regla para interpretar el sesgo de una distribución**\n",
                "- **Sesgo a la derecha (positivo):**  \n",
                "  - La **cola de la distribución** se extiende hacia valores **altos** (derecha del eje X).  \n",
                "  - La mayoría de los datos están concentrados en valores bajos, pero algunos valores más grandes (outliers) crean una cola larga hacia la derecha.  \n",
                "  - **Ejemplo:** Ingresos de una población (pocos ricos con salarios muy altos crean la cola a la derecha).\n",
                "\n",
                "- **Sesgo a la izquierda (negativo):**  \n",
                "  - La **cola de la distribución** se extiende hacia valores **bajos** (izquierda del eje X).  \n",
                "  - La mayoría de los datos están en valores altos, pero algunos valores pequeños crean una cola larga hacia la izquierda.  \n",
                "  - **Ejemplo:** Edad de jubilación (casi todos se jubilan alrededor de 60-65 años, pero hay algunos casos tempranos creando la cola izquierda).\n",
                "\n",
                "- **Distribución Normal (Sin Sesgo)**\n",
                "  - También llamada **distribución gaussiana** o **campana de Gauss**.\n",
                "  - La **media, mediana y moda** están alineadas en el centro.\n",
                "  - La gráfica es **simétrica**, es decir, la cantidad de datos a la izquierda y derecha de la media es similar.\n",
                "  - **Ejemplo:** Altura de las personas en una población.\n",
                "\n",
                "---\n",
                "\n",
                "### 2️⃣ **Glucose (Glucosa)**\n",
                "- Distribución **similar a una normal** pero con ligera asimetría hacia la derecha.\n",
                "- Hay más casos en el rango de **90-130 mg/dL**, pero algunos valores extremos superan los **180 mg/dL**, lo que puede indicar posibles casos de diabetes.\n",
                "- La presencia de valores altos sugiere que algunas personas tienen **hiperglucemia**.\n",
                "\n",
                "### 3️⃣ **BloodPressure (Presión Arterial)**\n",
                "- Distribución aproximadamente **normal**.\n",
                "- Se observa un rango central entre **60-90 mmHg**, lo cual es esperable en la población general.\n",
                "- Pocos valores extremos, lo que indica que la mayoría de los pacientes tienen presión arterial dentro del rango típico.\n",
                "\n",
                "### 4️⃣ **SkinThickness (Grosor del Pliegue Cutáneo)**\n",
                "- Distribución **sesgada a la derecha**.\n",
                "- La mayoría de los valores están por debajo de **40 mm**, pero hay algunos valores atípicos mayores a **60 mm**.\n",
                "- Puede haber valores faltantes o errores en el dataset.\n",
                "\n",
                "### 5️⃣ **Insulin (Insulina en Sangre)**\n",
                "- Distribución **muy sesgada a la derecha** con una gran cantidad de valores en 0.\n",
                "- Indica que muchas personas tienen niveles bajos de insulina o que existen datos faltantes en la columna.\n",
                "- Este sesgo sugiere que se debería tratar la variable antes de su uso en modelos de Machine Learning.\n",
                "\n",
                "### 6️⃣ **BMI (Índice de Masa Corporal)**\n",
                "- Distribución **aproximadamente normal**, pero con ligera asimetría hacia la derecha.\n",
                "- Valores entre **20 y 40** son los más comunes.\n",
                "- Algunos valores altos (>50) podrían ser outliers.\n",
                "\n",
                "### 7️⃣ **DiabetesPedigreeFunction (Historial Familiar de Diabetes)**\n",
                "- Distribución **sesgada a la derecha**.\n",
                "- La mayoría de las personas tienen un puntaje de **riesgo genético** bajo (0.0 - 0.5), pero algunos presentan valores altos (>1.5), lo que sugiere mayor predisposición a la diabetes.\n",
                "\n",
                "### 8️⃣ **Age (Edad)**\n",
                "- Distribución **sesgada a la derecha**.\n",
                "- Mayor concentración de pacientes entre **20 y 40 años**, con menor cantidad de pacientes mayores de 60.\n",
                "- Esto podría indicar que el dataset tiene más personas jóvenes y de mediana edad, y menos adultos mayores.\n",
                "\n",
                "---"
            ]
        },
        {
            "cell_type": "markdown",
            "metadata": {},
            "source": [
                "# ✏️ Actividad: Análisis de Histogramas y Distribución de Datos\n",
                "\n",
                "## 📌 Objetivo:\n",
                "Analizar la distribución de las variables en el dataset y reflexionar sobre su impacto en el análisis de datos.\n",
                "\n",
                "---\n",
                "\n",
                "## 🔍 **Instrucciones**\n",
                "1. Observa detenidamente los histogramas de cada variable.\n",
                "2. Analiza su forma y distribuciones (asimétricas, normales, con valores atípicos, etc.).\n",
                "3. **Responde las siguientes preguntas en esta celda de Markdown**\n",
                "\n",
                "---\n",
                "\n",
                "## 📊 **Preguntas de Análisis**\n",
                "1️⃣ ¿Qué variables muestran una distribución aproximadamente normal?  \n",
                "2️⃣ ¿Cuáles tienen una distribución sesgada a la derecha? ¿Qué significa esto en términos de datos?  \n",
                "3️⃣ ¿Cómo interpretarías la gran cantidad de valores en 0 en la variable `Insulin`?  \n",
                "4️⃣ ¿Cuál es la variable con mayor dispersión en los datos? ¿Cómo podríamos manejar esta variabilidad en un análisis predictivo?  \n",
                "5️⃣ ¿Qué conclusiones puedes obtener sobre la relación entre la edad y la prevalencia de diabetes, basándote en el histograma de `Age`?  \n",
                "\n",
                "---\n"
            ]
        },
        {
            "cell_type": "markdown",
            "metadata": {},
            "source": [
                "## 🎁 BONUS: Visualización de Outliers con Boxplots\n",
                "Los **boxplots** (diagramas de caja) son una herramienta útil para visualizar la distribución de los datos y detectar **outliers** (valores atípicos).\n",
                "\n",
                "**Principios clave:**\n",
                "- El **cuadro central** representa el **rango intercuartil (IQR)**, donde se encuentra el 50% de los datos.\n",
                "- La **línea dentro del cuadro** representa la **mediana**.\n",
                "- Los **bigotes** indican la dispersión normal de los datos.\n",
                "- Los **puntos fuera de los bigotes** son **outliers** (valores atípicos)."
            ]
        },
        {
            "cell_type": "code",
            "execution_count": null,
            "metadata": {},
            "outputs": [],
            "source": [
                "# Select numerical columns\n",
                "numerical_columns = ['Pregnancies', 'Glucose', 'BloodPressure', 'SkinThickness', 'BMI',\n",
                "       'DiabetesPedigreeFunction', 'Age']\n",
                "# Crear un gráfico de subplots de 4x2 con tamaño de figura 18x22 pulgadas\n",
                "fig, ax = plt.subplots(4, 2, figsize=(18, 22))\n",
                "\n",
                "# Aplanar el array de ejes para facilitar la iteración\n",
                "ax = ax.flatten()\n",
                "\n",
                "# Iterar sobre las columnas numéricas y crear un boxplot para cada una\n",
                "for idx, column in enumerate(numerical_columns):\n",
                "    sns.boxplot(ax=ax[idx], x=diabetes_cleaned[column])\n",
                "    ax[idx].set_title(column)\n",
                "\n",
                "# Eliminar el subplot vacío (octavo gráfico no usado)\n",
                "fig.delaxes(ax[-1])\n",
                "\n",
                "# Ajustar diseño para evitar superposición\n",
                "plt.tight_layout()\n",
                "\n",
                "# Mostrar el gráfico\n",
                "plt.show()"
            ]
        },
        {
            "cell_type": "markdown",
            "metadata": {},
            "source": [
                "### ✏️ Actividad BONUS: Análisis de Outliers con Boxplots\n",
                "Ejecuta el código anterior para visualizar los boxplots de las variables en el dataset `diabetes_cleaned`. Luego, responde las siguientes preguntas:\n",
                "\n",
                "1️⃣ ¿Qué variable tiene más **outliers**? ¿Por qué crees que sucede esto?\n",
                "\n",
                "2️⃣ ¿Cómo interpretarías los outliers en la variable `Insulin`? ¿Deberían ser eliminados o tratados de otra manera?\n",
                "\n",
                "3️⃣ ¿Qué variables muestran una distribución más simétrica sin valores atípicos?\n",
                "\n",
                "4️⃣ Si estuvieras preparando este dataset para un modelo de Machine Learning, ¿qué harías con los outliers?\n",
                "\n",
                "💡 **Escribe tus respuestas en la celda siguiente y justifica con base en los gráficos generados.**"
            ]
        },
        {
            "cell_type": "markdown",
            "metadata": {},
            "source": [
                "### Bonus x2 Solucionar exportación de html"
            ]
        },
        {
            "cell_type": "code",
            "execution_count": 121,
            "metadata": {},
            "outputs": [],
            "source": [
                "#%pip install nbconvert\n",
                "#%pip install pandoc"
            ]
        }
    ],
    "metadata": {
        "kernelspec": {
            "display_name": ".venv",
            "language": "python",
            "name": "python3"
        },
        "language_info": {
            "codemirror_mode": {
                "name": "ipython",
                "version": 3
            },
            "file_extension": ".py",
            "mimetype": "text/x-python",
            "name": "python",
            "nbconvert_exporter": "python",
            "pygments_lexer": "ipython3",
            "version": "3.13.1"
        }
    },
    "nbformat": 4,
    "nbformat_minor": 4
}
