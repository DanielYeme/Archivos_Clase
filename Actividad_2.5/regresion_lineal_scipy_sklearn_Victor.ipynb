{
 "cells": [
  {
   "cell_type": "markdown",
   "id": "a775c791",
   "metadata": {},
   "source": [
    "## Fundamentos Matemáticos de la Regresión Lineal\n",
    "\n",
    "La **regresión lineal** es un modelo estadístico que busca encontrar la mejor relación lineal entre una variable dependiente \\( y \\) y una o más variables independientes \\( X \\).\n",
    "\n",
    "El modelo se expresa como:\n",
    "\n",
    "$$ y = \\beta_0 + \\beta_1 X + \\epsilon $$\n",
    "\n",
    "Donde:\n",
    "- \\( y \\) es la variable dependiente.\n",
    "- \\( X \\) es la variable independiente.\n",
    "- \\( beta_0 \\) es el intercepto (término independiente).\n",
    "- \\( beta_1 \\) es la pendiente del modelo.\n",
    "- \\( epsilon \\) es un término de error aleatorio (opcional).\n",
    "\n",
    "El objetivo de la regresión lineal es encontrar los valores óptimos de \\( beta_0 \\) y \\( beta_1 \\) que minimicen la diferencia entre los valores predichos y los valores reales.\n",
    "\n",
    "ϵ es el término de error o residuo, que representa la diferencia entre los valores reales \n",
    "𝑦\n",
    "y y los valores predichos por el modelo."
   ]
  },
  {
   "cell_type": "markdown",
   "id": "29a34f7b",
   "metadata": {},
   "source": [
    "# Intercepto y Pendiente en Regresión Lineal\n",
    "\n",
    "En la **regresión lineal**, la relación entre una variable dependiente \\( y \\) y una variable independiente \\( X \\) se modela con la ecuación:\n",
    "\n",
    "$$\n",
    "y = \\beta_0 + \\beta_1 X + \\epsilon\n",
    "$$\n",
    "\n",
    "Donde:\n",
    "\n",
    "- \\( y \\) es la variable dependiente (lo que queremos predecir).\n",
    "- \\( X \\) es la variable independiente (predictor).\n",
    "- \\( \\beta_0 \\) es el **intercepto**.\n",
    "- \\( \\beta_1 \\) es la **pendiente**.\n",
    "- \\( \\epsilon \\) es el **error**.\n",
    "\n",
    "---\n",
    "\n",
    "## **1️⃣ Intercepto \\( beta_0 \\)**\n",
    "\n",
    "El **intercepto** representa el valor de \\( y \\) cuando \\( X = 0 \\). Es el punto donde la línea de regresión cruza el eje \\( y \\).\n",
    "\n",
    "Si el modelo es:\n",
    "\n",
    "$$\n",
    "y = 5 + 2X\n",
    "$$\n",
    "\n",
    "- Cuando \\( X = 0 \\), entonces \\( y = 5 \\).\n",
    "- Esto significa que si la variable independiente es cero, la variable dependiente tendrá un valor de **5**.\n",
    "\n",
    "### **Ejemplo Real**\n",
    "Si estamos prediciendo el salario en función de los años de experiencia:\n",
    "\n",
    "$$\n",
    "\\text{Salario} = 20,000 + 3,000 \\times \\text{Años de experiencia}\n",
    "$$\n",
    "\n",
    "Aquí:\n",
    "- **El intercepto \\( 20,000 \\)** significa que una persona con **0 años de experiencia** tendrá un salario base de **20,000**.\n",
    "\n",
    "---\n",
    "\n",
    "## **2️⃣ Pendiente \\( beta_1 \\)**\n",
    "\n",
    "La **pendiente** indica cuánto cambia \\( y \\) cuando \\( X \\) aumenta en una unidad.\n",
    "\n",
    "$$\n",
    "\\beta_1 = \\frac{\\Delta y}{\\Delta X}\n",
    "$$\n",
    "\n",
    "Si el modelo es:\n",
    "\n",
    "$$\n",
    "y = 5 + 2X\n",
    "$$\n",
    "\n",
    "- La pendiente es **2**, lo que significa que **por cada aumento de 1 en \\( X \\)**, \\( y \\) **aumenta en 2**.\n",
    "\n",
    "### **Ejemplo Real**\n",
    "En el modelo de salario:\n",
    "\n",
    "$$\n",
    "\\text{Salario} = 20,000 + 3,000 \\times \\text{Años de experiencia}\n",
    "$$\n",
    "\n",
    "- **La pendiente \\( 3,000 \\)** significa que **por cada año adicional de experiencia**, el salario esperado **aumenta en 3,000**.\n",
    "\n",
    "---\n"
   ]
  },
  {
   "cell_type": "markdown",
   "id": "a896a2d2",
   "metadata": {},
   "source": [
    "## Función de Costo en Regresión Lineal\n",
    "\n",
    "Para encontrar los coeficientes óptimos \\( beta_0 \\) y \\( beta_1 \\), utilizamos una función de costo que mida el error entre las predicciones del modelo y los valores reales.\n",
    "\n",
    "La función de costo más común es la de **mínimos cuadrados**, que se define como:\n",
    "\n",
    "$$ J(\\mathbf{\\beta}) = \\frac{1}{n} \\sum_{i=1}^{n} (y_i - (\\beta_0 + \\beta_1 X_i))^2 $$\n",
    "\n",
    "Esta función representa el error cuadrático medio entre los valores observados \\( y_i \\) y los valores predichos por el modelo \n",
    "$$ y_i - (\\beta_0 + \\beta_1 X_i) $$\n",
    "\n",
    "Minimizar esta función nos permite encontrar los valores óptimos de $$ \\mathbf{\\beta} $$ que mejor se ajustan a los datos."
   ]
  },
  {
   "cell_type": "markdown",
   "id": "9c96f359",
   "metadata": {},
   "source": [
    "## Solución por Mínimos Cuadrados\n",
    "\n",
    "La minimización de la función de costo se puede hacer de manera analítica utilizando la ecuación normal:\n",
    "\n",
    "$$ \\mathbf{\\beta} = (X^T X)^{-1} X^T y $$\n",
    "\n",
    "El vector de coeficientes beta es igual al inverso del producto de la transpuesta de X por X, multiplicado por la transpuesta de X y luego por el vector de respuestas y\n",
    "\n",
    "Donde:\n",
    "- \\( X \\) es la matriz de diseño que contiene las variables independientes (con una columna de unos para el intercepto).\n",
    "- \\( y \\) es el vector de valores observados.\n",
    "- \\( beta \\) es el vector de coeficientes estimados.\n",
    "\n",
    "Este método nos da una solución cerrada para los coeficientes de la regresión. Sin embargo, también podemos resolver el problema utilizando **optimización numérica** con `scipy.optimize.minimize`."
   ]
  },
  {
   "cell_type": "markdown",
   "id": "4ee3b6f8",
   "metadata": {},
   "source": [
    "## Función de Costo y Optimización en Regresión Lineal\n",
    "\n",
    "En un problema de regresión lineal, buscamos los coeficientes óptimos minimizando una función de costo. La más común es la de **mínimos cuadrados**:\n",
    "\n",
    "$$ J(\\beta) = \\frac{1}{n} \\sum_{i=1}^{n} (Y_i - X_i \\beta)^2 $$\n",
    "\n",
    "En esta actividad, implementaremos un modelo que minimice esta función utilizando `scipy.optimize.minimize` y validaremos los resultados contra `sklearn.linear_model.LinearRegression`."
   ]
  },
  {
   "cell_type": "markdown",
   "id": "7757f72b",
   "metadata": {},
   "source": [
    "### Visualización de Datos\n",
    "\n",
    "Antes de entrenar el modelo, analizamos visualmente la relación entre las variables."
   ]
  },
  {
   "cell_type": "code",
   "execution_count": 187,
   "id": "907a17c9",
   "metadata": {},
   "outputs": [
    {
     "data": {
      "image/png": "[encoded data removed]",
      "text/plain": [
       "<Figure size 640x480 with 1 Axes>"
      ]
     },
     "metadata": {},
     "output_type": "display_data"
    }
   ],
   "source": [
    "import numpy as np\n",
    "import matplotlib.pyplot as plt\n",
    "\n",
    "# Generar datos sintéticos\n",
    "np.random.seed(42)\n",
    "X = 2 * np.random.rand(100, 1)\n",
    "y = 4 + 3 * X + np.random.randn(100, 1)\n",
    "\n",
    "# Visualización\n",
    "plt.scatter(X, y, alpha=0.6)\n",
    "plt.xlabel('X')\n",
    "plt.ylabel('Y')\n",
    "plt.title('Visualización de Datos')\n",
    "plt.show()"
   ]
  },
  {
   "cell_type": "markdown",
   "id": "376713d4",
   "metadata": {},
   "source": [
    "### Solución a igualar"
   ]
  },
  {
   "cell_type": "code",
   "execution_count": 188,
   "id": "410d4275",
   "metadata": {},
   "outputs": [
    {
     "name": "stdout",
     "output_type": "stream",
     "text": [
      "Ecuación de sklearn: y = 4.22 + 2.77X\n"
     ]
    }
   ],
   "source": [
    "# Validación con sklearn\n",
    "from sklearn.linear_model import LinearRegression\n",
    "lin_reg = LinearRegression()\n",
    "lin_reg.fit(X, y)\n",
    "print(f'Ecuación de sklearn: y = {lin_reg.intercept_[0]:.2f} + {lin_reg.coef_[0][0]:.2f}X')"
   ]
  },
  {
   "cell_type": "code",
   "execution_count": 189,
   "id": "ecf05fc4",
   "metadata": {},
   "outputs": [
    {
     "data": {
      "image/png": "[encoded data removed]",
      "text/plain": [
       "<Figure size 640x480 with 1 Axes>"
      ]
     },
     "metadata": {},
     "output_type": "display_data"
    }
   ],
   "source": [
    "# Mostrando gráfico\n",
    "plt.scatter(X,y,color='red')\n",
    "plt.plot(X,lin_reg.predict(X),color='green')\n",
    "plt.title('Simple Linear Regression')\n",
    "plt.xlabel('X') # Funciona como variable independiente\n",
    "plt.ylabel('y') # Variable a predecir o independiente\n",
    "plt.show()"
   ]
  },
  {
   "cell_type": "markdown",
   "id": "ff594008",
   "metadata": {},
   "source": [
    "## Ejercicio 1: Implementación de Regresión Lineal con scipy.optimize.minimize\n",
    "Observa que \n",
    "- Ya tienes definida X e y.\n",
    "- Te ayudé con la definición de tu beta inicial.\n",
    "\n",
    "Qué harás?\n",
    "- Define la función de costo"
   ]
  },
  {
   "cell_type": "code",
   "execution_count": 190,
   "id": "9ab9dc55",
   "metadata": {},
   "outputs": [
    {
     "name": "stdout",
     "output_type": "stream",
     "text": [
      "Coeficientes óptimos: Intercepto = -0.1177, Pendiente = 0.4172129\n",
      "Ecuación y = -0.12 + 0.4172129X\n"
     ]
    }
   ],
   "source": [
    "import numpy as np\n",
    "from scipy.optimize import minimize\n",
    "\n",
    "# Generar datos sintéticos\n",
    "np.random.seed(42)\n",
    "X=np.random.uniform(-np.pi*3/4,np.pi,100)\n",
    "X.sort()\n",
    "y=np.sin(X)+np.random.uniform(-0.5,0.5,100)\n",
    "\n",
    "# Agregar columna de unos para el intercepto\n",
    "X_b = np.c_[np.ones((X.shape[0], 1)), X]\n",
    "\n",
    "# Definir la función de costo\n",
    "def criterio_opt(beta, X, y):\n",
    "    # completa esta función y su retorno\n",
    "    criterio_opt =  y - (np.dot(X, beta))\n",
    "    return np.mean(criterio_opt**2)\n",
    "\n",
    "# Estimación de parámetros con optimización\n",
    "beta_inicial = np.zeros(X_b.shape[1])\n",
    "resultado = minimize(criterio_opt, beta_inicial, args=(X_b, y), method='BFGS')\n",
    "\n",
    "# Coeficientes óptimos obtenidos\n",
    "beta_optimo = resultado.x\n",
    "print(f'Coeficientes óptimos: Intercepto = {beta_optimo[0]:.4f}, Pendiente = {beta_optimo[1]:.7f}')\n",
    "print(f'Ecuación y = {beta_optimo[0]:.2f} + {beta_optimo[1]:.7f}X')"
   ]
  },
  {
   "cell_type": "code",
   "execution_count": 191,
   "id": "f23bdf8a",
   "metadata": {},
   "outputs": [
    {
     "data": {
      "text/plain": [
       "array([[ 1.        , -2.32583507],\n",
       "       [ 1.        , -2.24302532],\n",
       "       [ 1.        , -2.21644554],\n",
       "       [ 1.        , -2.16713372],\n",
       "       [ 1.        , -2.10754448],\n",
       "       [ 1.        , -2.10082001],\n",
       "       [ 1.        , -2.03686315],\n",
       "       [ 1.        , -2.00676421],\n",
       "       [ 1.        , -1.99855468],\n",
       "       [ 1.        , -1.94911276],\n",
       "       [ 1.        , -1.94633092],\n",
       "       [ 1.        , -1.86968155],\n",
       "       [ 1.        , -1.819214  ],\n",
       "       [ 1.        , -1.76303039],\n",
       "       [ 1.        , -1.71917106],\n",
       "       [ 1.        , -1.69869078],\n",
       "       [ 1.        , -1.68525425],\n",
       "       [ 1.        , -1.58928694],\n",
       "       [ 1.        , -1.5814231 ],\n",
       "       [ 1.        , -1.49856982],\n",
       "       [ 1.        , -1.49843721],\n",
       "       [ 1.        , -1.41868916],\n",
       "       [ 1.        , -1.35655952],\n",
       "       [ 1.        , -1.34787553],\n",
       "       [ 1.        , -1.33990404],\n",
       "       [ 1.        , -1.27872243],\n",
       "       [ 1.        , -1.26369797],\n",
       "       [ 1.        , -1.25843054],\n",
       "       [ 1.        , -1.18879926],\n",
       "       [ 1.        , -0.93347723],\n",
       "       [ 1.        , -0.86437527],\n",
       "       [ 1.        , -0.81167635],\n",
       "       [ 1.        , -0.75507867],\n",
       "       [ 1.        , -0.7500454 ],\n",
       "       [ 1.        , -0.6835354 ],\n",
       "       [ 1.        , -0.68149283],\n",
       "       [ 1.        , -0.64647988],\n",
       "       [ 1.        , -0.64247334],\n",
       "       [ 1.        , -0.5684058 ],\n",
       "       [ 1.        , -0.56759758],\n",
       "       [ 1.        , -0.53698758],\n",
       "       [ 1.        , -0.39484064],\n",
       "       [ 1.        , -0.38542622],\n",
       "       [ 1.        , -0.34201506],\n",
       "       [ 1.        , -0.29705264],\n",
       "       [ 1.        , -0.21932948],\n",
       "       [ 1.        , -0.00566498],\n",
       "       [ 1.        ,  0.01854728],\n",
       "       [ 1.        ,  0.06367023],\n",
       "       [ 1.        ,  0.15118121],\n",
       "       [ 1.        ,  0.23994265],\n",
       "       [ 1.        ,  0.35858859],\n",
       "       [ 1.        ,  0.36618276],\n",
       "       [ 1.        ,  0.47095699],\n",
       "       [ 1.        ,  0.50302879],\n",
       "       [ 1.        ,  0.51767934],\n",
       "       [ 1.        ,  0.52880467],\n",
       "       [ 1.        ,  0.62743306],\n",
       "       [ 1.        ,  0.64950225],\n",
       "       [ 1.        ,  0.72958807],\n",
       "       [ 1.        ,  0.90077471],\n",
       "       [ 1.        ,  0.93093233],\n",
       "       [ 1.        ,  0.93510243],\n",
       "       [ 1.        ,  0.94860789],\n",
       "       [ 1.        ,  0.98395779],\n",
       "       [ 1.        ,  1.00764249],\n",
       "       [ 1.        ,  1.07056594],\n",
       "       [ 1.        ,  1.14896078],\n",
       "       [ 1.        ,  1.28621201],\n",
       "       [ 1.        ,  1.40557305],\n",
       "       [ 1.        ,  1.52995673],\n",
       "       [ 1.        ,  1.53663782],\n",
       "       [ 1.        ,  1.56507353],\n",
       "       [ 1.        ,  1.65173175],\n",
       "       [ 1.        ,  1.65502498],\n",
       "       [ 1.        ,  1.66815239],\n",
       "       [ 1.        ,  1.82643977],\n",
       "       [ 1.        ,  1.88241896],\n",
       "       [ 1.        ,  1.88408571],\n",
       "       [ 1.        ,  1.88944287],\n",
       "       [ 1.        ,  1.90532078],\n",
       "       [ 1.        ,  1.96053582],\n",
       "       [ 1.        ,  2.05411376],\n",
       "       [ 1.        ,  2.08820206],\n",
       "       [ 1.        ,  2.12703887],\n",
       "       [ 1.        ,  2.20002793],\n",
       "       [ 1.        ,  2.22039796],\n",
       "       [ 1.        ,  2.38896443],\n",
       "       [ 1.        ,  2.40585759],\n",
       "       [ 1.        ,  2.52151232],\n",
       "       [ 1.        ,  2.56337581],\n",
       "       [ 1.        ,  2.64305553],\n",
       "       [ 1.        ,  2.71207383],\n",
       "       [ 1.        ,  2.80897071],\n",
       "       [ 1.        ,  2.86057622],\n",
       "       [ 1.        ,  2.8706304 ],\n",
       "       [ 1.        ,  2.95264489],\n",
       "       [ 1.        ,  2.97437541],\n",
       "       [ 1.        ,  2.97616343],\n",
       "       [ 1.        ,  3.06949982]])"
      ]
     },
     "execution_count": 191,
     "metadata": {},
     "output_type": "execute_result"
    }
   ],
   "source": [
    "X_b"
   ]
  },
  {
   "cell_type": "code",
   "execution_count": 192,
   "id": "22215222",
   "metadata": {},
   "outputs": [
    {
     "data": {
      "text/plain": [
       "array([0., 0.])"
      ]
     },
     "execution_count": 192,
     "metadata": {},
     "output_type": "execute_result"
    }
   ],
   "source": [
    "# Observa la forma de beta inicial\n",
    "beta_inicial"
   ]
  },
  {
   "cell_type": "code",
   "execution_count": 193,
   "id": "d289b4a3",
   "metadata": {},
   "outputs": [
    {
     "data": {
      "image/png": "[encoded data removed]",
      "text/plain": [
       "<Figure size 640x480 with 1 Axes>"
      ]
     },
     "metadata": {},
     "output_type": "display_data"
    }
   ],
   "source": [
    "# Solución visual\n",
    "plt.scatter(X,y,s=5)\n",
    "f= beta_optimo[0] + np.dot(beta_optimo[1],X)\n",
    "# Completa f para visualizar los datos\n",
    "plt.plot(X,f,'r')\n",
    "plt.ylabel('y')\n",
    "plt.xlabel('x')\n",
    "plt.title('Regresión Lineal 1')\n",
    "plt.grid()\n",
    "\n",
    "\n"
   ]
  },
  {
   "cell_type": "markdown",
   "id": "33608f7b",
   "metadata": {},
   "source": [
    "## Ejercicio 2: Implementación de Regresión Lineal con scipy.optimize.minimize abstrayendo el concepto en una clase. \n",
    "\n",
    "Implementa la siguiente clase `RegresionLineal`, donde debes:\n",
    "\n",
    "1. **Definir la función de costo** basada en mínimos cuadrados.\n",
    "2. **Implementar el método `fit()` usando `scipy.optimize.minimize`**. El método debe encontrar los coeficientes óptimos.\n",
    "3. **Incluir un método `visualizar()` para graficar la recta ajustada**.\n",
    "4. **Implementar un método `predecir()`** para realizar predicciones.\n",
    "5. **Definir un método `mostrar_ecuacion()`** para imprimir la ecuación ajustada.\n",
    "6. **Comparar los resultados con `sklearn.linear_model.LinearRegression`**.\n",
    "7. Prueba todos los métodos con X e y definidos anterioremente. "
   ]
  },
  {
   "cell_type": "code",
   "execution_count": 194,
   "id": "530c0965",
   "metadata": {},
   "outputs": [],
   "source": [
    "import numpy as np\n",
    "import matplotlib.pyplot as plt\n",
    "from scipy.optimize import minimize\n",
    "\n",
    "class RegresionLineal:\n",
    "    def __init__(self, X, y):\n",
    "        self.X = np.c_[np.ones((X.shape[0], 1)), X]  # Agregar columna de 1s\n",
    "        self.y = y\n",
    "        self.theta = None\n",
    "\n",
    "    def funcion_costo(self, theta):\n",
    "        # Completa la función de costo\n",
    "        # Función de costo basada en mínimos cuadrados      \n",
    "        n = len(self.y)\n",
    "        return (1 / n) * np.sum( (self.y - (np.dot(self.X,theta)))**2 )\n",
    "\n",
    "\n",
    "    def fit(self):\n",
    "        \"\"\"Ajusta los coeficientes usando scipy.optimize.minimize.\"\"\"\n",
    "        theta_inicial = np.zeros(self.X.shape[1])\n",
    "        resultado = minimize(self.funcion_costo, theta_inicial, method='BFGS')\n",
    "        self.theta = resultado.x\n",
    "        resultado.x\n",
    "        \n",
    "    def visualizar(self):\n",
    "        \"\"\"Grafica los datos junto con la recta ajustada.\"\"\"\n",
    "        plt.scatter(self.X[:, 1], self.y, s=5, label='Datos reales')\n",
    "        plt.plot(self.X[:, 1], self.predecir(self.X[:, 1].reshape(-1, 1)), 'r', label='Recta ajustada')\n",
    "        plt.grid()\n",
    "        plt.xlabel('X')\n",
    "        plt.ylabel('y')\n",
    "        plt.legend()\n",
    "        plt.title('Regresión Lineal 2')\n",
    "        plt.show()\n",
    "\n",
    "\n",
    "    def predecir(self, X_nuevo):\n",
    "        \"\"\"Realiza una predicción para nuevos valores de entrada.\"\"\"\n",
    "        # Completa el código para realizar una predicción de nuevos valores\n",
    "        X_nuevo = np.c_[np.ones((X_nuevo.shape[0], 1)), X_nuevo]  # Agregar columna de 1s\n",
    "        return np.dot(X_nuevo, self.theta)\n",
    "\n",
    "    def mostrar_ecuacion(self):\n",
    "        \"\"\"Imprime la ecuación de la regresión lineal.\"\"\"\n",
    "        # Completa el código para mostrar la ecuación\n",
    "        print(f\"Ecuación ajustada: y = {self.theta[0]:.4f} + {self.theta[1]:.4f} * X\")\n",
    "    \n"
   ]
  },
  {
   "cell_type": "markdown",
   "id": "d2bfc6f0",
   "metadata": {},
   "source": [
    "### Prueba tu clase!"
   ]
  },
  {
   "cell_type": "code",
   "execution_count": 195,
   "id": "1d7932d2",
   "metadata": {},
   "outputs": [],
   "source": [
    "# Generar datos sintéticos para probar la clase RegresionLineal\n",
    "\n",
    "# Crear datos simulados\n",
    "# Generar datos sintéticos\n",
    "np.random.seed(42)\n",
    "X=np.random.uniform(-np.pi*3/4,np.pi,100)\n",
    "X.sort()\n",
    "y=np.sin(X)+np.random.uniform(-0.5,0.5,100)\n"
   ]
  },
  {
   "cell_type": "code",
   "execution_count": 196,
   "id": "a2b50ec2",
   "metadata": {},
   "outputs": [
    {
     "data": {
      "text/plain": [
       "array([-0.11773164,  0.41721289])"
      ]
     },
     "execution_count": 196,
     "metadata": {},
     "output_type": "execute_result"
    }
   ],
   "source": [
    "# Crear una instancia de la clase\n",
    "modelo = RegresionLineal(X, y)\n",
    "\n",
    "# Ajustar el modelo\n",
    "modelo.fit()\n",
    "modelo.theta"
   ]
  },
  {
   "cell_type": "code",
   "execution_count": 197,
   "id": "ba16a7ad",
   "metadata": {},
   "outputs": [
    {
     "name": "stdout",
     "output_type": "stream",
     "text": [
      "Ecuación ajustada: y = -0.1177 + 0.4172 * X\n"
     ]
    }
   ],
   "source": [
    "# Mostrar la ecuación obtenida\n",
    "modelo.mostrar_ecuacion()"
   ]
  },
  {
   "cell_type": "code",
   "execution_count": 198,
   "id": "e8321de9",
   "metadata": {},
   "outputs": [
    {
     "data": {
      "image/png": "[encoded data removed]",
      "text/plain": [
       "<Figure size 640x480 with 1 Axes>"
      ]
     },
     "metadata": {},
     "output_type": "display_data"
    }
   ],
   "source": [
    "# Visualizar el ajuste del modelo\n",
    "modelo.visualizar()"
   ]
  },
  {
   "cell_type": "code",
   "execution_count": 199,
   "id": "4325fe55",
   "metadata": {},
   "outputs": [
    {
     "data": {
      "text/plain": [
       "[(np.float64(0.0), np.float64(-0.11773164429771)),\n",
       " (np.float64(1.5), np.float64(0.5080876938326312)),\n",
       " (np.float64(2.0), np.float64(0.7166941398760782))]"
      ]
     },
     "execution_count": 199,
     "metadata": {},
     "output_type": "execute_result"
    }
   ],
   "source": [
    "# Hacer predicciones con nuevos valores\n",
    "X_nuevo = np.array([[0], [1.5], [2]])\n",
    "y_pred = modelo.predecir(X_nuevo)\n",
    "\n",
    "# Mostrar predicciones\n",
    "list(zip(X_nuevo.flatten(), y_pred.flatten()))"
   ]
  },
  {
   "cell_type": "markdown",
   "id": "be3189bf",
   "metadata": {},
   "source": [
    "## Ejercicio 3: Aplicación a Datos de Kaggle\n",
    "\n",
    "Busca tres conjuntos de datos en Kaggle donde puedas aplicar regresión lineal. \n",
    "\n",
    "Sugerencias \n",
    "### Boston Housing 🏠\n",
    "\n",
    "Búscalo en Kaggle o en repositorios de datos de código abierto.\n",
    "\n",
    "### Auto MPG 🚗\n",
    "\n",
    "Lo puedes descargar desde el UCI Machine Learning Repository buscando \"Auto MPG dataset\".\n",
    "También está en Kaggle.\n",
    "\n",
    "### Wine Quality 🍷\n",
    "\n",
    "Búscalo en el UCI Machine Learning Repository o en Kaggle con el nombre \"Wine Quality Dataset\".\n",
    "Salary Dataset 💰\n",
    "\n",
    "### En Kaggle puedes buscar \"Salary Prediction Dataset\" o \"Experience vs Salary\".\n",
    "\n",
    "## Para cada conjunto de datos, debes:\n",
    "\n",
    "1. Cargar los datos.\n",
    "2. Entrenar el modelo usando la clase `RegresionLineal`.\n",
    "3. Comparar los resultados con `sklearn.LinearRegression`.\n",
    "4. Visualizar la relación entre las variables.\n",
    "5. Mostrar la ecuación de regresión obtenida.\n",
    "6. Realizar predicciones con datos nuevos."
   ]
  },
  {
   "cell_type": "markdown",
   "id": "84d5c652",
   "metadata": {},
   "source": [
    "### Boston Housing Dataset"
   ]
  },
  {
   "cell_type": "code",
   "execution_count": 200,
   "id": "94d879cd",
   "metadata": {},
   "outputs": [
    {
     "name": "stdout",
     "output_type": "stream",
     "text": [
      "Boston Housing:\n"
     ]
    },
    {
     "data": {
      "text/html": [
       "<div>\n",
       "<style scoped>\n",
       "    .dataframe tbody tr th:only-of-type {\n",
       "        vertical-align: middle;\n",
       "    }\n",
       "\n",
       "    .dataframe tbody tr th {\n",
       "        vertical-align: top;\n",
       "    }\n",
       "\n",
       "    .dataframe thead th {\n",
       "        text-align: right;\n",
       "    }\n",
       "</style>\n",
       "<table border=\"1\" class=\"dataframe\">\n",
       "  <thead>\n",
       "    <tr style=\"text-align: right;\">\n",
       "      <th></th>\n",
       "      <th>CRIM</th>\n",
       "      <th>ZN</th>\n",
       "      <th>INDUS</th>\n",
       "      <th>CHAS</th>\n",
       "      <th>NOX</th>\n",
       "      <th>RM</th>\n",
       "      <th>AGE</th>\n",
       "      <th>DIS</th>\n",
       "      <th>RAD</th>\n",
       "      <th>TAX</th>\n",
       "      <th>PTRATIO</th>\n",
       "      <th>B</th>\n",
       "      <th>LSTAT</th>\n",
       "      <th>MEDV</th>\n",
       "    </tr>\n",
       "  </thead>\n",
       "  <tbody>\n",
       "    <tr>\n",
       "      <th>0</th>\n",
       "      <td>0.00632</td>\n",
       "      <td>18.0</td>\n",
       "      <td>2.31</td>\n",
       "      <td>0</td>\n",
       "      <td>0.538</td>\n",
       "      <td>6.575</td>\n",
       "      <td>65.2</td>\n",
       "      <td>4.0900</td>\n",
       "      <td>1</td>\n",
       "      <td>296.0</td>\n",
       "      <td>15.3</td>\n",
       "      <td>396.90</td>\n",
       "      <td>4.98</td>\n",
       "      <td>24.0</td>\n",
       "    </tr>\n",
       "    <tr>\n",
       "      <th>1</th>\n",
       "      <td>0.02731</td>\n",
       "      <td>0.0</td>\n",
       "      <td>7.07</td>\n",
       "      <td>0</td>\n",
       "      <td>0.469</td>\n",
       "      <td>6.421</td>\n",
       "      <td>78.9</td>\n",
       "      <td>4.9671</td>\n",
       "      <td>2</td>\n",
       "      <td>242.0</td>\n",
       "      <td>17.8</td>\n",
       "      <td>396.90</td>\n",
       "      <td>9.14</td>\n",
       "      <td>21.6</td>\n",
       "    </tr>\n",
       "    <tr>\n",
       "      <th>2</th>\n",
       "      <td>0.02729</td>\n",
       "      <td>0.0</td>\n",
       "      <td>7.07</td>\n",
       "      <td>0</td>\n",
       "      <td>0.469</td>\n",
       "      <td>7.185</td>\n",
       "      <td>61.1</td>\n",
       "      <td>4.9671</td>\n",
       "      <td>2</td>\n",
       "      <td>242.0</td>\n",
       "      <td>17.8</td>\n",
       "      <td>392.83</td>\n",
       "      <td>4.03</td>\n",
       "      <td>34.7</td>\n",
       "    </tr>\n",
       "    <tr>\n",
       "      <th>3</th>\n",
       "      <td>0.03237</td>\n",
       "      <td>0.0</td>\n",
       "      <td>2.18</td>\n",
       "      <td>0</td>\n",
       "      <td>0.458</td>\n",
       "      <td>6.998</td>\n",
       "      <td>45.8</td>\n",
       "      <td>6.0622</td>\n",
       "      <td>3</td>\n",
       "      <td>222.0</td>\n",
       "      <td>18.7</td>\n",
       "      <td>394.63</td>\n",
       "      <td>2.94</td>\n",
       "      <td>33.4</td>\n",
       "    </tr>\n",
       "    <tr>\n",
       "      <th>4</th>\n",
       "      <td>0.06905</td>\n",
       "      <td>0.0</td>\n",
       "      <td>2.18</td>\n",
       "      <td>0</td>\n",
       "      <td>0.458</td>\n",
       "      <td>7.147</td>\n",
       "      <td>54.2</td>\n",
       "      <td>6.0622</td>\n",
       "      <td>3</td>\n",
       "      <td>222.0</td>\n",
       "      <td>18.7</td>\n",
       "      <td>396.90</td>\n",
       "      <td>5.33</td>\n",
       "      <td>36.2</td>\n",
       "    </tr>\n",
       "    <tr>\n",
       "      <th>5</th>\n",
       "      <td>0.02985</td>\n",
       "      <td>0.0</td>\n",
       "      <td>2.18</td>\n",
       "      <td>0</td>\n",
       "      <td>0.458</td>\n",
       "      <td>6.430</td>\n",
       "      <td>58.7</td>\n",
       "      <td>6.0622</td>\n",
       "      <td>3</td>\n",
       "      <td>222.0</td>\n",
       "      <td>18.7</td>\n",
       "      <td>394.12</td>\n",
       "      <td>5.21</td>\n",
       "      <td>28.7</td>\n",
       "    </tr>\n",
       "    <tr>\n",
       "      <th>6</th>\n",
       "      <td>0.08829</td>\n",
       "      <td>12.5</td>\n",
       "      <td>7.87</td>\n",
       "      <td>0</td>\n",
       "      <td>0.524</td>\n",
       "      <td>6.012</td>\n",
       "      <td>66.6</td>\n",
       "      <td>5.5605</td>\n",
       "      <td>5</td>\n",
       "      <td>311.0</td>\n",
       "      <td>15.2</td>\n",
       "      <td>395.60</td>\n",
       "      <td>12.43</td>\n",
       "      <td>22.9</td>\n",
       "    </tr>\n",
       "    <tr>\n",
       "      <th>7</th>\n",
       "      <td>0.14455</td>\n",
       "      <td>12.5</td>\n",
       "      <td>7.87</td>\n",
       "      <td>0</td>\n",
       "      <td>0.524</td>\n",
       "      <td>6.172</td>\n",
       "      <td>96.1</td>\n",
       "      <td>5.9505</td>\n",
       "      <td>5</td>\n",
       "      <td>311.0</td>\n",
       "      <td>15.2</td>\n",
       "      <td>396.90</td>\n",
       "      <td>19.15</td>\n",
       "      <td>27.1</td>\n",
       "    </tr>\n",
       "    <tr>\n",
       "      <th>8</th>\n",
       "      <td>0.21124</td>\n",
       "      <td>12.5</td>\n",
       "      <td>7.87</td>\n",
       "      <td>0</td>\n",
       "      <td>0.524</td>\n",
       "      <td>5.631</td>\n",
       "      <td>100.0</td>\n",
       "      <td>6.0821</td>\n",
       "      <td>5</td>\n",
       "      <td>311.0</td>\n",
       "      <td>15.2</td>\n",
       "      <td>386.63</td>\n",
       "      <td>29.93</td>\n",
       "      <td>16.5</td>\n",
       "    </tr>\n",
       "    <tr>\n",
       "      <th>9</th>\n",
       "      <td>0.17004</td>\n",
       "      <td>12.5</td>\n",
       "      <td>7.87</td>\n",
       "      <td>0</td>\n",
       "      <td>0.524</td>\n",
       "      <td>6.004</td>\n",
       "      <td>85.9</td>\n",
       "      <td>6.5921</td>\n",
       "      <td>5</td>\n",
       "      <td>311.0</td>\n",
       "      <td>15.2</td>\n",
       "      <td>386.71</td>\n",
       "      <td>17.10</td>\n",
       "      <td>18.9</td>\n",
       "    </tr>\n",
       "  </tbody>\n",
       "</table>\n",
       "</div>"
      ],
      "text/plain": [
       "      CRIM    ZN  INDUS  CHAS    NOX     RM    AGE     DIS  RAD    TAX  \\\n",
       "0  0.00632  18.0   2.31     0  0.538  6.575   65.2  4.0900    1  296.0   \n",
       "1  0.02731   0.0   7.07     0  0.469  6.421   78.9  4.9671    2  242.0   \n",
       "2  0.02729   0.0   7.07     0  0.469  7.185   61.1  4.9671    2  242.0   \n",
       "3  0.03237   0.0   2.18     0  0.458  6.998   45.8  6.0622    3  222.0   \n",
       "4  0.06905   0.0   2.18     0  0.458  7.147   54.2  6.0622    3  222.0   \n",
       "5  0.02985   0.0   2.18     0  0.458  6.430   58.7  6.0622    3  222.0   \n",
       "6  0.08829  12.5   7.87     0  0.524  6.012   66.6  5.5605    5  311.0   \n",
       "7  0.14455  12.5   7.87     0  0.524  6.172   96.1  5.9505    5  311.0   \n",
       "8  0.21124  12.5   7.87     0  0.524  5.631  100.0  6.0821    5  311.0   \n",
       "9  0.17004  12.5   7.87     0  0.524  6.004   85.9  6.5921    5  311.0   \n",
       "\n",
       "   PTRATIO       B  LSTAT  MEDV  \n",
       "0     15.3  396.90   4.98  24.0  \n",
       "1     17.8  396.90   9.14  21.6  \n",
       "2     17.8  392.83   4.03  34.7  \n",
       "3     18.7  394.63   2.94  33.4  \n",
       "4     18.7  396.90   5.33  36.2  \n",
       "5     18.7  394.12   5.21  28.7  \n",
       "6     15.2  395.60  12.43  22.9  \n",
       "7     15.2  396.90  19.15  27.1  \n",
       "8     15.2  386.63  29.93  16.5  \n",
       "9     15.2  386.71  17.10  18.9  "
      ]
     },
     "execution_count": 200,
     "metadata": {},
     "output_type": "execute_result"
    }
   ],
   "source": [
    "# Importar Librerias\n",
    "import pandas as pd\n",
    "import matplotlib.pyplot as plt\n",
    "\n",
    "# Cargar los datos de los tres Datasets\n",
    "file_housing = \"C:/SIM-MAT_2025/Archivos_Clase/Actividad_2.5/boston.csv\"      # Seccion encargada de leer el archivo csv\n",
    "df = pd.read_csv(file_housing)\n",
    "df_housing = pd.read_csv(file_housing) \n",
    "\n",
    "\n",
    "print(\"Boston Housing:\")\n",
    "df_housing.head(10)\n"
   ]
  },
  {
   "cell_type": "code",
   "execution_count": 201,
   "id": "dfbae1a6",
   "metadata": {},
   "outputs": [
    {
     "name": "stdout",
     "output_type": "stream",
     "text": [
      "CRIM       0\n",
      "ZN         0\n",
      "INDUS      0\n",
      "CHAS       0\n",
      "NOX        0\n",
      "RM         0\n",
      "AGE        0\n",
      "DIS        0\n",
      "RAD        0\n",
      "TAX        0\n",
      "PTRATIO    0\n",
      "B          0\n",
      "LSTAT      0\n",
      "MEDV       0\n",
      "dtype: int64\n"
     ]
    }
   ],
   "source": [
    "# Verificar valores nulos en el Dataframe\n",
    "print(df_housing.isnull().sum())"
   ]
  },
  {
   "cell_type": "code",
   "execution_count": 202,
   "id": "bc47488d",
   "metadata": {},
   "outputs": [
    {
     "data": {
      "text/html": [
       "<div>\n",
       "<style scoped>\n",
       "    .dataframe tbody tr th:only-of-type {\n",
       "        vertical-align: middle;\n",
       "    }\n",
       "\n",
       "    .dataframe tbody tr th {\n",
       "        vertical-align: top;\n",
       "    }\n",
       "\n",
       "    .dataframe thead th {\n",
       "        text-align: right;\n",
       "    }\n",
       "</style>\n",
       "<table border=\"1\" class=\"dataframe\">\n",
       "  <thead>\n",
       "    <tr style=\"text-align: right;\">\n",
       "      <th></th>\n",
       "      <th>CRIM</th>\n",
       "      <th>AGE</th>\n",
       "      <th>RM</th>\n",
       "      <th>TAX</th>\n",
       "      <th>MEDV</th>\n",
       "    </tr>\n",
       "  </thead>\n",
       "  <tbody>\n",
       "    <tr>\n",
       "      <th>0</th>\n",
       "      <td>0.00632</td>\n",
       "      <td>65.2</td>\n",
       "      <td>6.575</td>\n",
       "      <td>296.0</td>\n",
       "      <td>24.0</td>\n",
       "    </tr>\n",
       "    <tr>\n",
       "      <th>1</th>\n",
       "      <td>0.02731</td>\n",
       "      <td>78.9</td>\n",
       "      <td>6.421</td>\n",
       "      <td>242.0</td>\n",
       "      <td>21.6</td>\n",
       "    </tr>\n",
       "    <tr>\n",
       "      <th>2</th>\n",
       "      <td>0.02729</td>\n",
       "      <td>61.1</td>\n",
       "      <td>7.185</td>\n",
       "      <td>242.0</td>\n",
       "      <td>34.7</td>\n",
       "    </tr>\n",
       "    <tr>\n",
       "      <th>3</th>\n",
       "      <td>0.03237</td>\n",
       "      <td>45.8</td>\n",
       "      <td>6.998</td>\n",
       "      <td>222.0</td>\n",
       "      <td>33.4</td>\n",
       "    </tr>\n",
       "    <tr>\n",
       "      <th>4</th>\n",
       "      <td>0.06905</td>\n",
       "      <td>54.2</td>\n",
       "      <td>7.147</td>\n",
       "      <td>222.0</td>\n",
       "      <td>36.2</td>\n",
       "    </tr>\n",
       "    <tr>\n",
       "      <th>5</th>\n",
       "      <td>0.02985</td>\n",
       "      <td>58.7</td>\n",
       "      <td>6.430</td>\n",
       "      <td>222.0</td>\n",
       "      <td>28.7</td>\n",
       "    </tr>\n",
       "    <tr>\n",
       "      <th>6</th>\n",
       "      <td>0.08829</td>\n",
       "      <td>66.6</td>\n",
       "      <td>6.012</td>\n",
       "      <td>311.0</td>\n",
       "      <td>22.9</td>\n",
       "    </tr>\n",
       "    <tr>\n",
       "      <th>7</th>\n",
       "      <td>0.14455</td>\n",
       "      <td>96.1</td>\n",
       "      <td>6.172</td>\n",
       "      <td>311.0</td>\n",
       "      <td>27.1</td>\n",
       "    </tr>\n",
       "    <tr>\n",
       "      <th>8</th>\n",
       "      <td>0.21124</td>\n",
       "      <td>100.0</td>\n",
       "      <td>5.631</td>\n",
       "      <td>311.0</td>\n",
       "      <td>16.5</td>\n",
       "    </tr>\n",
       "    <tr>\n",
       "      <th>9</th>\n",
       "      <td>0.17004</td>\n",
       "      <td>85.9</td>\n",
       "      <td>6.004</td>\n",
       "      <td>311.0</td>\n",
       "      <td>18.9</td>\n",
       "    </tr>\n",
       "  </tbody>\n",
       "</table>\n",
       "</div>"
      ],
      "text/plain": [
       "      CRIM    AGE     RM    TAX  MEDV\n",
       "0  0.00632   65.2  6.575  296.0  24.0\n",
       "1  0.02731   78.9  6.421  242.0  21.6\n",
       "2  0.02729   61.1  7.185  242.0  34.7\n",
       "3  0.03237   45.8  6.998  222.0  33.4\n",
       "4  0.06905   54.2  7.147  222.0  36.2\n",
       "5  0.02985   58.7  6.430  222.0  28.7\n",
       "6  0.08829   66.6  6.012  311.0  22.9\n",
       "7  0.14455   96.1  6.172  311.0  27.1\n",
       "8  0.21124  100.0  5.631  311.0  16.5\n",
       "9  0.17004   85.9  6.004  311.0  18.9"
      ]
     },
     "execution_count": 202,
     "metadata": {},
     "output_type": "execute_result"
    }
   ],
   "source": [
    "# Seleccionar las columnas que nos interesa utilizar del Dataframe\n",
    "columns = ['CRIM', 'AGE', 'RM', 'TAX', 'MEDV']\n",
    "\n",
    "# Seleccionar las columnas relevantes\n",
    "df_housing = df_housing.loc[:, columns]\n",
    "\n",
    "# Separar las características (X) y la variable objetivo (y)\n",
    "features = ['CRIM', 'AGE', 'RM', 'TAX']\n",
    "X = df_housing.loc[:, features]\n",
    "y = df_housing.loc[:, ['MEDV']]\n",
    "\n",
    "df_housing.head(10)"
   ]
  },
  {
   "cell_type": "markdown",
   "id": "5c5238fe",
   "metadata": {},
   "source": [
    "#### Utilizando Sklearn"
   ]
  },
  {
   "cell_type": "code",
   "execution_count": 203,
   "id": "0136b9a3",
   "metadata": {},
   "outputs": [
    {
     "name": "stdout",
     "output_type": "stream",
     "text": [
      "Datos de entrenamiento: 404 muestras\n",
      "Datos de prueba: 102 muestras\n"
     ]
    }
   ],
   "source": [
    "# Dividir en entrenamiento y prueba (80% - 20%)\n",
    "from sklearn.model_selection import train_test_split\n",
    "X_train, X_test, y_train, y_test = train_test_split(X, y, test_size=0.2, random_state=42)\n",
    "\n",
    "print(f\"Datos de entrenamiento: {X_train.shape[0]} muestras\")\n",
    "print(f\"Datos de prueba: {X_test.shape[0]} muestras\")"
   ]
  },
  {
   "cell_type": "code",
   "execution_count": 204,
   "id": "a97029e5",
   "metadata": {},
   "outputs": [
    {
     "name": "stdout",
     "output_type": "stream",
     "text": [
      "Ecuación de sklearn: y = [-22.26615248] + [[-0.13540434 -0.02870083  8.13795252 -0.00960175]]X\n"
     ]
    }
   ],
   "source": [
    "# Entrenar el modelo de regresion lineal\n",
    "from sklearn.linear_model import LinearRegression\n",
    "lin_reg = LinearRegression()\n",
    "lin_reg.fit(X_train, y_train)\n",
    "print(f'Ecuación de sklearn: y = {lin_reg.intercept_} + {lin_reg.coef_}X')"
   ]
  },
  {
   "cell_type": "code",
   "execution_count": 205,
   "id": "b51815fb",
   "metadata": {},
   "outputs": [
    {
     "name": "stdout",
     "output_type": "stream",
     "text": [
      "Primeras predicciones: [[24.67866482]\n",
      " [29.33938604]\n",
      " [16.74641194]\n",
      " [23.92572032]\n",
      " [19.25980025]]\n"
     ]
    }
   ],
   "source": [
    "# Predicciones usando el modelo de sklearn\n",
    "y_pred_sklearn = lin_reg.predict(X_test)\n",
    "\n",
    "# Mostrar las primeras predicciones\n",
    "print(\"Primeras predicciones:\", y_pred_sklearn[:5])"
   ]
  },
  {
   "cell_type": "code",
   "execution_count": 206,
   "id": "129f6ac9",
   "metadata": {},
   "outputs": [
    {
     "name": "stdout",
     "output_type": "stream",
     "text": [
      "Error cuadrático medio (MSE): 37.60632590059018\n",
      "R²: 0.48718961057313925\n",
      "RMSE (Root Mean Squared Error): 6.132399685326306\n",
      "MAE (Mean Absolute Error): 3.8171563591207955\n"
     ]
    }
   ],
   "source": [
    "from sklearn.metrics import mean_squared_error, r2_score, mean_squared_error, mean_absolute_error\n",
    "\n",
    "# Calcular el MSE y R²\n",
    "mse = mean_squared_error(y_test, y_pred_sklearn)\n",
    "r2 = r2_score(y_test, y_pred_sklearn)\n",
    "\n",
    "print(f\"Error cuadrático medio (MSE): {mse}\")\n",
    "print(f\"R²: {r2}\")\n",
    "\n",
    "# Calcular el RMSE\n",
    "rmse = np.sqrt(mean_squared_error(y_test, y_pred_sklearn))\n",
    "\n",
    "# Calcular el MAE\n",
    "mae = mean_absolute_error(y_test, y_pred_sklearn)\n",
    "\n",
    "# Mostrar los resultados\n",
    "print(f\"RMSE (Root Mean Squared Error): {rmse}\")\n",
    "print(f\"MAE (Mean Absolute Error): {mae}\")"
   ]
  },
  {
   "cell_type": "code",
   "execution_count": 207,
   "id": "e0cf72cd",
   "metadata": {},
   "outputs": [
    {
     "data": {
      "image/png": "[encoded data removed]",
      "text/plain": [
       "<Figure size 640x480 with 1 Axes>"
      ]
     },
     "metadata": {},
     "output_type": "display_data"
    }
   ],
   "source": [
    "import matplotlib.pyplot as plt\n",
    "\n",
    "# Convertir y_test a un array unidimensional\n",
    "y_test = y_test.values.flatten()\n",
    "\n",
    "# Convertir y_pred_sklearn a un array unidimensional\n",
    "y_pred_sklearn = y_pred_sklearn.flatten()\n",
    "\n",
    "# Visualizar los valores reales vs las predicciones\n",
    "plt.scatter(y_test, y_pred_sklearn, color='blue')\n",
    "plt.plot([min(y_test), max(y_test)], [min(y_test), max(y_test)], color='red', lw=2)\n",
    "plt.xlabel('Valor Real (MEDV)')\n",
    "plt.ylabel('Predicción (MEDV)')\n",
    "plt.title('Valor Real vs Predicción')\n",
    "plt.show()"
   ]
  },
  {
   "cell_type": "markdown",
   "id": "b9257744",
   "metadata": {},
   "source": [
    "### Salary Prediction Dataset"
   ]
  },
  {
   "cell_type": "code",
   "execution_count": 208,
   "id": "332343c7",
   "metadata": {},
   "outputs": [
    {
     "name": "stdout",
     "output_type": "stream",
     "text": [
      "Salary Prediction Dataset:\n"
     ]
    },
    {
     "data": {
      "text/html": [
       "<div>\n",
       "<style scoped>\n",
       "    .dataframe tbody tr th:only-of-type {\n",
       "        vertical-align: middle;\n",
       "    }\n",
       "\n",
       "    .dataframe tbody tr th {\n",
       "        vertical-align: top;\n",
       "    }\n",
       "\n",
       "    .dataframe thead th {\n",
       "        text-align: right;\n",
       "    }\n",
       "</style>\n",
       "<table border=\"1\" class=\"dataframe\">\n",
       "  <thead>\n",
       "    <tr style=\"text-align: right;\">\n",
       "      <th></th>\n",
       "      <th>Age</th>\n",
       "      <th>Gender</th>\n",
       "      <th>Education Level</th>\n",
       "      <th>Job Title</th>\n",
       "      <th>Years of Experience</th>\n",
       "      <th>Salary</th>\n",
       "    </tr>\n",
       "  </thead>\n",
       "  <tbody>\n",
       "    <tr>\n",
       "      <th>0</th>\n",
       "      <td>32.0</td>\n",
       "      <td>Male</td>\n",
       "      <td>Bachelor's</td>\n",
       "      <td>Software Engineer</td>\n",
       "      <td>5.0</td>\n",
       "      <td>90000.0</td>\n",
       "    </tr>\n",
       "    <tr>\n",
       "      <th>1</th>\n",
       "      <td>28.0</td>\n",
       "      <td>Female</td>\n",
       "      <td>Master's</td>\n",
       "      <td>Data Analyst</td>\n",
       "      <td>3.0</td>\n",
       "      <td>65000.0</td>\n",
       "    </tr>\n",
       "    <tr>\n",
       "      <th>2</th>\n",
       "      <td>45.0</td>\n",
       "      <td>Male</td>\n",
       "      <td>PhD</td>\n",
       "      <td>Senior Manager</td>\n",
       "      <td>15.0</td>\n",
       "      <td>150000.0</td>\n",
       "    </tr>\n",
       "    <tr>\n",
       "      <th>3</th>\n",
       "      <td>36.0</td>\n",
       "      <td>Female</td>\n",
       "      <td>Bachelor's</td>\n",
       "      <td>Sales Associate</td>\n",
       "      <td>7.0</td>\n",
       "      <td>60000.0</td>\n",
       "    </tr>\n",
       "    <tr>\n",
       "      <th>4</th>\n",
       "      <td>52.0</td>\n",
       "      <td>Male</td>\n",
       "      <td>Master's</td>\n",
       "      <td>Director</td>\n",
       "      <td>20.0</td>\n",
       "      <td>200000.0</td>\n",
       "    </tr>\n",
       "    <tr>\n",
       "      <th>5</th>\n",
       "      <td>29.0</td>\n",
       "      <td>Male</td>\n",
       "      <td>Bachelor's</td>\n",
       "      <td>Marketing Analyst</td>\n",
       "      <td>2.0</td>\n",
       "      <td>55000.0</td>\n",
       "    </tr>\n",
       "    <tr>\n",
       "      <th>6</th>\n",
       "      <td>42.0</td>\n",
       "      <td>Female</td>\n",
       "      <td>Master's</td>\n",
       "      <td>Product Manager</td>\n",
       "      <td>12.0</td>\n",
       "      <td>120000.0</td>\n",
       "    </tr>\n",
       "    <tr>\n",
       "      <th>7</th>\n",
       "      <td>31.0</td>\n",
       "      <td>Male</td>\n",
       "      <td>Bachelor's</td>\n",
       "      <td>Sales Manager</td>\n",
       "      <td>4.0</td>\n",
       "      <td>80000.0</td>\n",
       "    </tr>\n",
       "    <tr>\n",
       "      <th>8</th>\n",
       "      <td>26.0</td>\n",
       "      <td>Female</td>\n",
       "      <td>Bachelor's</td>\n",
       "      <td>Marketing Coordinator</td>\n",
       "      <td>1.0</td>\n",
       "      <td>45000.0</td>\n",
       "    </tr>\n",
       "    <tr>\n",
       "      <th>9</th>\n",
       "      <td>38.0</td>\n",
       "      <td>Male</td>\n",
       "      <td>PhD</td>\n",
       "      <td>Senior Scientist</td>\n",
       "      <td>10.0</td>\n",
       "      <td>110000.0</td>\n",
       "    </tr>\n",
       "  </tbody>\n",
       "</table>\n",
       "</div>"
      ],
      "text/plain": [
       "    Age  Gender Education Level              Job Title  Years of Experience  \\\n",
       "0  32.0    Male      Bachelor's      Software Engineer                  5.0   \n",
       "1  28.0  Female        Master's           Data Analyst                  3.0   \n",
       "2  45.0    Male             PhD         Senior Manager                 15.0   \n",
       "3  36.0  Female      Bachelor's        Sales Associate                  7.0   \n",
       "4  52.0    Male        Master's               Director                 20.0   \n",
       "5  29.0    Male      Bachelor's      Marketing Analyst                  2.0   \n",
       "6  42.0  Female        Master's        Product Manager                 12.0   \n",
       "7  31.0    Male      Bachelor's          Sales Manager                  4.0   \n",
       "8  26.0  Female      Bachelor's  Marketing Coordinator                  1.0   \n",
       "9  38.0    Male             PhD       Senior Scientist                 10.0   \n",
       "\n",
       "     Salary  \n",
       "0   90000.0  \n",
       "1   65000.0  \n",
       "2  150000.0  \n",
       "3   60000.0  \n",
       "4  200000.0  \n",
       "5   55000.0  \n",
       "6  120000.0  \n",
       "7   80000.0  \n",
       "8   45000.0  \n",
       "9  110000.0  "
      ]
     },
     "execution_count": 208,
     "metadata": {},
     "output_type": "execute_result"
    }
   ],
   "source": [
    "\n",
    "file_salary = \"C:/SIM-MAT_2025/Archivos_Clase/Actividad_2.5/Salary_Data.csv\"      # Seccion encargada de leer el archivo csv\n",
    "df_salary = pd.read_csv(file_salary)\n",
    "\n",
    "print(\"Salary Prediction Dataset:\")\n",
    "df_salary.head(10)"
   ]
  },
  {
   "cell_type": "code",
   "execution_count": 209,
   "id": "b2f06743",
   "metadata": {},
   "outputs": [
    {
     "name": "stdout",
     "output_type": "stream",
     "text": [
      "Age                    2\n",
      "Gender                 2\n",
      "Education Level        2\n",
      "Job Title              2\n",
      "Years of Experience    2\n",
      "Salary                 2\n",
      "dtype: int64\n"
     ]
    }
   ],
   "source": [
    "# Verificar valores nulos en el Dataframe\n",
    "print(df_salary.isnull().sum())"
   ]
  },
  {
   "cell_type": "code",
   "execution_count": 210,
   "id": "29bbacff",
   "metadata": {},
   "outputs": [],
   "source": [
    "# Eliminar valores nulos\n",
    "df_salary = df_salary.dropna()"
   ]
  },
  {
   "cell_type": "code",
   "execution_count": 211,
   "id": "df649c9c",
   "metadata": {},
   "outputs": [
    {
     "data": {
      "text/html": [
       "<div>\n",
       "<style scoped>\n",
       "    .dataframe tbody tr th:only-of-type {\n",
       "        vertical-align: middle;\n",
       "    }\n",
       "\n",
       "    .dataframe tbody tr th {\n",
       "        vertical-align: top;\n",
       "    }\n",
       "\n",
       "    .dataframe thead th {\n",
       "        text-align: right;\n",
       "    }\n",
       "</style>\n",
       "<table border=\"1\" class=\"dataframe\">\n",
       "  <thead>\n",
       "    <tr style=\"text-align: right;\">\n",
       "      <th></th>\n",
       "      <th>Age</th>\n",
       "      <th>Years of Experience</th>\n",
       "      <th>Salary</th>\n",
       "    </tr>\n",
       "  </thead>\n",
       "  <tbody>\n",
       "    <tr>\n",
       "      <th>0</th>\n",
       "      <td>32.0</td>\n",
       "      <td>5.0</td>\n",
       "      <td>90000.0</td>\n",
       "    </tr>\n",
       "    <tr>\n",
       "      <th>1</th>\n",
       "      <td>28.0</td>\n",
       "      <td>3.0</td>\n",
       "      <td>65000.0</td>\n",
       "    </tr>\n",
       "    <tr>\n",
       "      <th>2</th>\n",
       "      <td>45.0</td>\n",
       "      <td>15.0</td>\n",
       "      <td>150000.0</td>\n",
       "    </tr>\n",
       "    <tr>\n",
       "      <th>3</th>\n",
       "      <td>36.0</td>\n",
       "      <td>7.0</td>\n",
       "      <td>60000.0</td>\n",
       "    </tr>\n",
       "    <tr>\n",
       "      <th>4</th>\n",
       "      <td>52.0</td>\n",
       "      <td>20.0</td>\n",
       "      <td>200000.0</td>\n",
       "    </tr>\n",
       "    <tr>\n",
       "      <th>5</th>\n",
       "      <td>29.0</td>\n",
       "      <td>2.0</td>\n",
       "      <td>55000.0</td>\n",
       "    </tr>\n",
       "    <tr>\n",
       "      <th>6</th>\n",
       "      <td>42.0</td>\n",
       "      <td>12.0</td>\n",
       "      <td>120000.0</td>\n",
       "    </tr>\n",
       "    <tr>\n",
       "      <th>7</th>\n",
       "      <td>31.0</td>\n",
       "      <td>4.0</td>\n",
       "      <td>80000.0</td>\n",
       "    </tr>\n",
       "    <tr>\n",
       "      <th>8</th>\n",
       "      <td>26.0</td>\n",
       "      <td>1.0</td>\n",
       "      <td>45000.0</td>\n",
       "    </tr>\n",
       "    <tr>\n",
       "      <th>9</th>\n",
       "      <td>38.0</td>\n",
       "      <td>10.0</td>\n",
       "      <td>110000.0</td>\n",
       "    </tr>\n",
       "  </tbody>\n",
       "</table>\n",
       "</div>"
      ],
      "text/plain": [
       "    Age  Years of Experience    Salary\n",
       "0  32.0                  5.0   90000.0\n",
       "1  28.0                  3.0   65000.0\n",
       "2  45.0                 15.0  150000.0\n",
       "3  36.0                  7.0   60000.0\n",
       "4  52.0                 20.0  200000.0\n",
       "5  29.0                  2.0   55000.0\n",
       "6  42.0                 12.0  120000.0\n",
       "7  31.0                  4.0   80000.0\n",
       "8  26.0                  1.0   45000.0\n",
       "9  38.0                 10.0  110000.0"
      ]
     },
     "execution_count": 211,
     "metadata": {},
     "output_type": "execute_result"
    }
   ],
   "source": [
    "# Seleccionar las columnas que nos interesa utilizar del Dataframe\n",
    "columns = ['Age', 'Years of Experience', 'Salary']\n",
    "\n",
    "# Seleccionar las columnas relevantes\n",
    "df_salary = df_salary.loc[:, columns]\n",
    "\n",
    "# Separar las características (X) y la variable objetivo (y)\n",
    "features = ['Age', 'Years of Experience']\n",
    "X = df_salary.loc[:, features]\n",
    "y = df_salary.loc[:, ['Salary']]\n",
    "\n",
    "df_salary.head(10)"
   ]
  },
  {
   "cell_type": "code",
   "execution_count": 212,
   "id": "7cfd83dd",
   "metadata": {},
   "outputs": [
    {
     "name": "stdout",
     "output_type": "stream",
     "text": [
      "Datos de entrenamiento: 223 muestras\n",
      "Datos de prueba: 150 muestras\n"
     ]
    }
   ],
   "source": [
    "# Dividir en entrenamiento y prueba (60% - 40%)\n",
    "from sklearn.model_selection import train_test_split\n",
    "X_train, X_test, y_train, y_test = train_test_split(X, y, test_size=0.4, random_state=45)\n",
    "\n",
    "print(f\"Datos de entrenamiento: {X_train.shape[0]} muestras\")\n",
    "print(f\"Datos de prueba: {X_test.shape[0]} muestras\")"
   ]
  },
  {
   "cell_type": "code",
   "execution_count": 213,
   "id": "39efdeae",
   "metadata": {},
   "outputs": [
    {
     "name": "stdout",
     "output_type": "stream",
     "text": [
      "Ecuación de sklearn: y = [-36669.90740932] + [[2590.50077512 3965.72708129]]X\n"
     ]
    }
   ],
   "source": [
    "# Entrenar el modelo de regresion lineal\n",
    "from sklearn.linear_model import LinearRegression\n",
    "lin_reg = LinearRegression()\n",
    "lin_reg.fit(X_train, y_train)\n",
    "print(f'Ecuación de sklearn: y = {lin_reg.intercept_} + {lin_reg.coef_}X')"
   ]
  },
  {
   "cell_type": "code",
   "execution_count": 214,
   "id": "55a4f145",
   "metadata": {},
   "outputs": [
    {
     "name": "stdout",
     "output_type": "stream",
     "text": [
      "Primeras predicciones: [[ 94870.16500172]\n",
      " [ 97460.66577684]\n",
      " [121095.07642736]\n",
      " [182691.62791019]\n",
      " [140763.7599966 ]]\n"
     ]
    }
   ],
   "source": [
    "# Predicciones usando el modelo de sklearn\n",
    "y_pred_sklearn = lin_reg.predict(X_test)\n",
    "\n",
    "# Mostrar las primeras predicciones\n",
    "print(\"Primeras predicciones:\", y_pred_sklearn[:5])"
   ]
  },
  {
   "cell_type": "code",
   "execution_count": 215,
   "id": "359e9165",
   "metadata": {},
   "outputs": [
    {
     "name": "stdout",
     "output_type": "stream",
     "text": [
      "Error cuadrático medio (MSE): 303785426.0745071\n",
      "R²: 0.8805666765534977\n",
      "RMSE (Root Mean Squared Error): 17429.441358646785\n",
      "MAE (Mean Absolute Error): 12676.68195668579\n"
     ]
    }
   ],
   "source": [
    "from sklearn.metrics import mean_squared_error, r2_score, mean_squared_error, mean_absolute_error\n",
    "\n",
    "# Calcular el MSE y R²\n",
    "mse = mean_squared_error(y_test, y_pred_sklearn)\n",
    "r2 = r2_score(y_test, y_pred_sklearn)\n",
    "\n",
    "print(f\"Error cuadrático medio (MSE): {mse}\")\n",
    "print(f\"R²: {r2}\")\n",
    "\n",
    "# Calcular el RMSE\n",
    "rmse = np.sqrt(mean_squared_error(y_test, y_pred_sklearn))\n",
    "\n",
    "# Calcular el MAE\n",
    "mae = mean_absolute_error(y_test, y_pred_sklearn)\n",
    "\n",
    "# Mostrar los resultados\n",
    "print(f\"RMSE (Root Mean Squared Error): {rmse}\")\n",
    "print(f\"MAE (Mean Absolute Error): {mae}\")"
   ]
  },
  {
   "cell_type": "code",
   "execution_count": 216,
   "id": "d570de61",
   "metadata": {},
   "outputs": [
    {
     "data": {
      "image/png": "[encoded data removed]",
      "text/plain": [
       "<Figure size 640x480 with 1 Axes>"
      ]
     },
     "metadata": {},
     "output_type": "display_data"
    }
   ],
   "source": [
    "import matplotlib.pyplot as plt\n",
    "\n",
    "# Convertir y_test a un array unidimensional\n",
    "y_test = y_test.values.flatten()\n",
    "\n",
    "# Convertir y_pred_sklearn a un array unidimensional\n",
    "y_pred_sklearn = y_pred_sklearn.flatten()\n",
    "\n",
    "# Visualizar los valores reales vs las predicciones\n",
    "plt.scatter(y_test, y_pred_sklearn, color='blue')\n",
    "plt.plot([min(y_test), max(y_test)], [min(y_test), max(y_test)], color='red', lw=2)\n",
    "plt.xlabel('Valor Real (Salary)')\n",
    "plt.ylabel('Predicción (Salary)')\n",
    "plt.title('Valor Real vs Predicción')\n",
    "plt.show()"
   ]
  },
  {
   "cell_type": "markdown",
   "id": "0d78a0d4",
   "metadata": {},
   "source": [
    "### Auto MPG"
   ]
  },
  {
   "cell_type": "code",
   "execution_count": 217,
   "id": "dabb9a6f",
   "metadata": {},
   "outputs": [
    {
     "name": "stdout",
     "output_type": "stream",
     "text": [
      "Auto MPG:\n"
     ]
    },
    {
     "data": {
      "text/html": [
       "<div>\n",
       "<style scoped>\n",
       "    .dataframe tbody tr th:only-of-type {\n",
       "        vertical-align: middle;\n",
       "    }\n",
       "\n",
       "    .dataframe tbody tr th {\n",
       "        vertical-align: top;\n",
       "    }\n",
       "\n",
       "    .dataframe thead th {\n",
       "        text-align: right;\n",
       "    }\n",
       "</style>\n",
       "<table border=\"1\" class=\"dataframe\">\n",
       "  <thead>\n",
       "    <tr style=\"text-align: right;\">\n",
       "      <th></th>\n",
       "      <th>mpg</th>\n",
       "      <th>cylinders</th>\n",
       "      <th>displacement</th>\n",
       "      <th>horsepower</th>\n",
       "      <th>weight</th>\n",
       "      <th>acceleration</th>\n",
       "      <th>model year</th>\n",
       "      <th>origin</th>\n",
       "      <th>car name</th>\n",
       "    </tr>\n",
       "  </thead>\n",
       "  <tbody>\n",
       "    <tr>\n",
       "      <th>0</th>\n",
       "      <td>18.0</td>\n",
       "      <td>8</td>\n",
       "      <td>307.0</td>\n",
       "      <td>130</td>\n",
       "      <td>3504</td>\n",
       "      <td>12.0</td>\n",
       "      <td>70</td>\n",
       "      <td>1</td>\n",
       "      <td>chevrolet chevelle malibu</td>\n",
       "    </tr>\n",
       "    <tr>\n",
       "      <th>1</th>\n",
       "      <td>15.0</td>\n",
       "      <td>8</td>\n",
       "      <td>350.0</td>\n",
       "      <td>165</td>\n",
       "      <td>3693</td>\n",
       "      <td>11.5</td>\n",
       "      <td>70</td>\n",
       "      <td>1</td>\n",
       "      <td>buick skylark 320</td>\n",
       "    </tr>\n",
       "    <tr>\n",
       "      <th>2</th>\n",
       "      <td>18.0</td>\n",
       "      <td>8</td>\n",
       "      <td>318.0</td>\n",
       "      <td>150</td>\n",
       "      <td>3436</td>\n",
       "      <td>11.0</td>\n",
       "      <td>70</td>\n",
       "      <td>1</td>\n",
       "      <td>plymouth satellite</td>\n",
       "    </tr>\n",
       "    <tr>\n",
       "      <th>3</th>\n",
       "      <td>16.0</td>\n",
       "      <td>8</td>\n",
       "      <td>304.0</td>\n",
       "      <td>150</td>\n",
       "      <td>3433</td>\n",
       "      <td>12.0</td>\n",
       "      <td>70</td>\n",
       "      <td>1</td>\n",
       "      <td>amc rebel sst</td>\n",
       "    </tr>\n",
       "    <tr>\n",
       "      <th>4</th>\n",
       "      <td>17.0</td>\n",
       "      <td>8</td>\n",
       "      <td>302.0</td>\n",
       "      <td>140</td>\n",
       "      <td>3449</td>\n",
       "      <td>10.5</td>\n",
       "      <td>70</td>\n",
       "      <td>1</td>\n",
       "      <td>ford torino</td>\n",
       "    </tr>\n",
       "    <tr>\n",
       "      <th>5</th>\n",
       "      <td>15.0</td>\n",
       "      <td>8</td>\n",
       "      <td>429.0</td>\n",
       "      <td>198</td>\n",
       "      <td>4341</td>\n",
       "      <td>10.0</td>\n",
       "      <td>70</td>\n",
       "      <td>1</td>\n",
       "      <td>ford galaxie 500</td>\n",
       "    </tr>\n",
       "    <tr>\n",
       "      <th>6</th>\n",
       "      <td>14.0</td>\n",
       "      <td>8</td>\n",
       "      <td>454.0</td>\n",
       "      <td>220</td>\n",
       "      <td>4354</td>\n",
       "      <td>9.0</td>\n",
       "      <td>70</td>\n",
       "      <td>1</td>\n",
       "      <td>chevrolet impala</td>\n",
       "    </tr>\n",
       "    <tr>\n",
       "      <th>7</th>\n",
       "      <td>14.0</td>\n",
       "      <td>8</td>\n",
       "      <td>440.0</td>\n",
       "      <td>215</td>\n",
       "      <td>4312</td>\n",
       "      <td>8.5</td>\n",
       "      <td>70</td>\n",
       "      <td>1</td>\n",
       "      <td>plymouth fury iii</td>\n",
       "    </tr>\n",
       "    <tr>\n",
       "      <th>8</th>\n",
       "      <td>14.0</td>\n",
       "      <td>8</td>\n",
       "      <td>455.0</td>\n",
       "      <td>225</td>\n",
       "      <td>4425</td>\n",
       "      <td>10.0</td>\n",
       "      <td>70</td>\n",
       "      <td>1</td>\n",
       "      <td>pontiac catalina</td>\n",
       "    </tr>\n",
       "    <tr>\n",
       "      <th>9</th>\n",
       "      <td>15.0</td>\n",
       "      <td>8</td>\n",
       "      <td>390.0</td>\n",
       "      <td>190</td>\n",
       "      <td>3850</td>\n",
       "      <td>8.5</td>\n",
       "      <td>70</td>\n",
       "      <td>1</td>\n",
       "      <td>amc ambassador dpl</td>\n",
       "    </tr>\n",
       "  </tbody>\n",
       "</table>\n",
       "</div>"
      ],
      "text/plain": [
       "    mpg  cylinders  displacement horsepower  weight  acceleration  model year  \\\n",
       "0  18.0          8         307.0        130    3504          12.0          70   \n",
       "1  15.0          8         350.0        165    3693          11.5          70   \n",
       "2  18.0          8         318.0        150    3436          11.0          70   \n",
       "3  16.0          8         304.0        150    3433          12.0          70   \n",
       "4  17.0          8         302.0        140    3449          10.5          70   \n",
       "5  15.0          8         429.0        198    4341          10.0          70   \n",
       "6  14.0          8         454.0        220    4354           9.0          70   \n",
       "7  14.0          8         440.0        215    4312           8.5          70   \n",
       "8  14.0          8         455.0        225    4425          10.0          70   \n",
       "9  15.0          8         390.0        190    3850           8.5          70   \n",
       "\n",
       "   origin                   car name  \n",
       "0       1  chevrolet chevelle malibu  \n",
       "1       1          buick skylark 320  \n",
       "2       1         plymouth satellite  \n",
       "3       1              amc rebel sst  \n",
       "4       1                ford torino  \n",
       "5       1           ford galaxie 500  \n",
       "6       1           chevrolet impala  \n",
       "7       1          plymouth fury iii  \n",
       "8       1           pontiac catalina  \n",
       "9       1         amc ambassador dpl  "
      ]
     },
     "execution_count": 217,
     "metadata": {},
     "output_type": "execute_result"
    }
   ],
   "source": [
    "file_auto = \"C:/SIM-MAT_2025/Archivos_Clase/Actividad_2.5/auto-mpg.csv\"\n",
    "df_auto = pd.read_csv(file_auto)\n",
    "\n",
    "print(\"Auto MPG:\")\n",
    "df_auto.head(10)\n"
   ]
  },
  {
   "cell_type": "code",
   "execution_count": 218,
   "id": "7b4debaa",
   "metadata": {},
   "outputs": [
    {
     "name": "stdout",
     "output_type": "stream",
     "text": [
      "mpg             0\n",
      "cylinders       0\n",
      "displacement    0\n",
      "horsepower      0\n",
      "weight          0\n",
      "acceleration    0\n",
      "model year      0\n",
      "origin          0\n",
      "car name        0\n",
      "dtype: int64\n"
     ]
    }
   ],
   "source": [
    "# Verificar valores nulos en el Dataframe\n",
    "print(df_auto.isnull().sum())"
   ]
  },
  {
   "cell_type": "code",
   "execution_count": 219,
   "id": "4fb216ec",
   "metadata": {},
   "outputs": [
    {
     "data": {
      "text/html": [
       "<div>\n",
       "<style scoped>\n",
       "    .dataframe tbody tr th:only-of-type {\n",
       "        vertical-align: middle;\n",
       "    }\n",
       "\n",
       "    .dataframe tbody tr th {\n",
       "        vertical-align: top;\n",
       "    }\n",
       "\n",
       "    .dataframe thead th {\n",
       "        text-align: right;\n",
       "    }\n",
       "</style>\n",
       "<table border=\"1\" class=\"dataframe\">\n",
       "  <thead>\n",
       "    <tr style=\"text-align: right;\">\n",
       "      <th></th>\n",
       "      <th>weight</th>\n",
       "      <th>mpg</th>\n",
       "    </tr>\n",
       "  </thead>\n",
       "  <tbody>\n",
       "    <tr>\n",
       "      <th>0</th>\n",
       "      <td>3504</td>\n",
       "      <td>18.0</td>\n",
       "    </tr>\n",
       "    <tr>\n",
       "      <th>1</th>\n",
       "      <td>3693</td>\n",
       "      <td>15.0</td>\n",
       "    </tr>\n",
       "    <tr>\n",
       "      <th>2</th>\n",
       "      <td>3436</td>\n",
       "      <td>18.0</td>\n",
       "    </tr>\n",
       "    <tr>\n",
       "      <th>3</th>\n",
       "      <td>3433</td>\n",
       "      <td>16.0</td>\n",
       "    </tr>\n",
       "    <tr>\n",
       "      <th>4</th>\n",
       "      <td>3449</td>\n",
       "      <td>17.0</td>\n",
       "    </tr>\n",
       "    <tr>\n",
       "      <th>5</th>\n",
       "      <td>4341</td>\n",
       "      <td>15.0</td>\n",
       "    </tr>\n",
       "    <tr>\n",
       "      <th>6</th>\n",
       "      <td>4354</td>\n",
       "      <td>14.0</td>\n",
       "    </tr>\n",
       "    <tr>\n",
       "      <th>7</th>\n",
       "      <td>4312</td>\n",
       "      <td>14.0</td>\n",
       "    </tr>\n",
       "    <tr>\n",
       "      <th>8</th>\n",
       "      <td>4425</td>\n",
       "      <td>14.0</td>\n",
       "    </tr>\n",
       "    <tr>\n",
       "      <th>9</th>\n",
       "      <td>3850</td>\n",
       "      <td>15.0</td>\n",
       "    </tr>\n",
       "  </tbody>\n",
       "</table>\n",
       "</div>"
      ],
      "text/plain": [
       "   weight   mpg\n",
       "0    3504  18.0\n",
       "1    3693  15.0\n",
       "2    3436  18.0\n",
       "3    3433  16.0\n",
       "4    3449  17.0\n",
       "5    4341  15.0\n",
       "6    4354  14.0\n",
       "7    4312  14.0\n",
       "8    4425  14.0\n",
       "9    3850  15.0"
      ]
     },
     "execution_count": 219,
     "metadata": {},
     "output_type": "execute_result"
    }
   ],
   "source": [
    "# Seleccionar las columnas que nos interesa utilizar del Dataframe\n",
    "columns = ['weight', 'mpg']\n",
    "\n",
    "# Seleccionar las columnas relevantes\n",
    "df_auto = df_auto.loc[:, columns]\n",
    "\n",
    "# Separar las características (X) y la variable objetivo (y)\n",
    "features = ['weight']\n",
    "X = df_auto.loc[:, features]\n",
    "y = df_auto.loc[:, ['mpg']]\n",
    "\n",
    "df_auto.head(10)"
   ]
  },
  {
   "cell_type": "code",
   "execution_count": 220,
   "id": "83ea8a22",
   "metadata": {},
   "outputs": [
    {
     "name": "stdout",
     "output_type": "stream",
     "text": [
      "Datos de entrenamiento: 278 muestras\n",
      "Datos de prueba: 120 muestras\n"
     ]
    }
   ],
   "source": [
    "# Dividir en entrenamiento y prueba (70% - 30%)\n",
    "from sklearn.model_selection import train_test_split\n",
    "X_train, X_test, y_train, y_test = train_test_split(X, y, test_size=0.3, random_state=35)\n",
    "\n",
    "print(f\"Datos de entrenamiento: {X_train.shape[0]} muestras\")\n",
    "print(f\"Datos de prueba: {X_test.shape[0]} muestras\")"
   ]
  },
  {
   "cell_type": "code",
   "execution_count": 221,
   "id": "9caa6b8b",
   "metadata": {},
   "outputs": [
    {
     "name": "stdout",
     "output_type": "stream",
     "text": [
      "Ecuación de sklearn: y = 46.10406751908282 + -0.007620588353425669X\n"
     ]
    }
   ],
   "source": [
    "# Entrenar el modelo de regresion lineal\n",
    "from sklearn.linear_model import LinearRegression\n",
    "lin_reg = LinearRegression()\n",
    "lin_reg.fit(X_train, y_train)\n",
    "print(f'Ecuación de sklearn: y = {lin_reg.intercept_[0]} + {lin_reg.coef_[0][0]}X')"
   ]
  },
  {
   "cell_type": "code",
   "execution_count": 222,
   "id": "3d445a8b",
   "metadata": {},
   "outputs": [
    {
     "name": "stdout",
     "output_type": "stream",
     "text": [
      "Primeras predicciones: [[19.7444524 ]\n",
      " [29.68169962]\n",
      " [26.02381721]\n",
      " [20.07975829]\n",
      " [27.00687311]]\n"
     ]
    }
   ],
   "source": [
    "# Predicciones usando el modelo de sklearn\n",
    "y_pred_sklearn = lin_reg.predict(X_test)\n",
    "\n",
    "# Mostrar las primeras predicciones\n",
    "print(\"Primeras predicciones:\", y_pred_sklearn[:5])"
   ]
  },
  {
   "cell_type": "code",
   "execution_count": 223,
   "id": "b617ca1e",
   "metadata": {},
   "outputs": [
    {
     "name": "stdout",
     "output_type": "stream",
     "text": [
      "Error cuadrático medio (MSE): 20.764105570936678\n",
      "R²: 0.6807541927091423\n",
      "RMSE (Root Mean Squared Error): 4.5567648140908785\n",
      "MAE (Mean Absolute Error): 3.4708036576797885\n"
     ]
    }
   ],
   "source": [
    "from sklearn.metrics import mean_squared_error, r2_score, mean_squared_error, mean_absolute_error\n",
    "\n",
    "# Calcular el MSE y R²\n",
    "mse = mean_squared_error(y_test, y_pred_sklearn)\n",
    "r2 = r2_score(y_test, y_pred_sklearn)\n",
    "\n",
    "print(f\"Error cuadrático medio (MSE): {mse}\")\n",
    "print(f\"R²: {r2}\")\n",
    "\n",
    "# Calcular el RMSE\n",
    "rmse = np.sqrt(mean_squared_error(y_test, y_pred_sklearn))\n",
    "\n",
    "# Calcular el MAE\n",
    "mae = mean_absolute_error(y_test, y_pred_sklearn)\n",
    "\n",
    "# Mostrar los resultados\n",
    "print(f\"RMSE (Root Mean Squared Error): {rmse}\")\n",
    "print(f\"MAE (Mean Absolute Error): {mae}\")"
   ]
  },
  {
   "cell_type": "code",
   "execution_count": 224,
   "id": "fa7379c3",
   "metadata": {},
   "outputs": [
    {
     "data": {
      "image/png": "[encoded data removed]",
      "text/plain": [
       "<Figure size 640x480 with 1 Axes>"
      ]
     },
     "metadata": {},
     "output_type": "display_data"
    }
   ],
   "source": [
    "import matplotlib.pyplot as plt\n",
    "\n",
    "# Convertir y_test a un array unidimensional\n",
    "y_test = y_test.values.flatten()\n",
    "\n",
    "# Convertir y_pred_sklearn a un array unidimensional\n",
    "y_pred_sklearn = y_pred_sklearn.flatten()\n",
    "\n",
    "# Visualizar los valores reales vs las predicciones\n",
    "plt.scatter(y_test, y_pred_sklearn, color='blue')\n",
    "plt.plot([min(y_test), max(y_test)], [min(y_test), max(y_test)], color='red', lw=2)\n",
    "plt.xlabel('Valor Real (mpg)')\n",
    "plt.ylabel('Predicción (mpg)')\n",
    "plt.title('Valor Real vs Predicción')\n",
    "plt.show()"
   ]
  },
  {
   "cell_type": "markdown",
   "id": "9b7c5906",
   "metadata": {},
   "source": [
    "## Ejercicio 4\n",
    "Analiza la precisión del modelo en cada caso y comparte tus conclusiones (Busca como hacerlo)\n",
    "- Coeficiente de Determinación (R^2)\n",
    "- MSE\n",
    "- RMSE\n",
    "- MAE\n",
    "\n",
    "Concluye qué tan bueno es cada modelo. "
   ]
  },
  {
   "cell_type": "markdown",
   "id": "a061f4c2",
   "metadata": {},
   "source": [
    "##### Los resultados se encuentran dentro del codigo de cada modelo para cada uno de los Datos."
   ]
  }
 ],
 "metadata": {
  "kernelspec": {
   "display_name": "Python 3",
   "language": "python",
   "name": "python3"
  },
  "language_info": {
   "codemirror_mode": {
    "name": "ipython",
    "version": 3
   },
   "file_extension": ".py",
   "mimetype": "text/x-python",
   "name": "python",
   "nbconvert_exporter": "python",
   "pygments_lexer": "ipython3",
   "version": "3.13.1"
  }
 },
 "nbformat": 4,
 "nbformat_minor": 5
}
