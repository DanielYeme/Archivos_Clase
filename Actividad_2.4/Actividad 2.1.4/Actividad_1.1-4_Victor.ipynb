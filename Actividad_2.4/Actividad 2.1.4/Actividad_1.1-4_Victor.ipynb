{
 "cells": [
  {
   "cell_type": "markdown",
   "metadata": {},
   "source": [
    "# 📘 **Explicación de Derivadas y Programación Lineal**\n",
    "---\n",
    "## ✨ **Conceptos clave:**\n",
    "🔹 **Derivadas en python**  \n",
    "🔹 **Funciones crecientes y decrecientes**\n",
    "🔹 **Identificación de variables de decisión**  \n",
    "🔹 **Cálculo de derivadas en Python**  \n",
    "🔹 **Optimización con Programación Lineal**  \n",
    "\n",
    "---\n",
    "\n",
    "### 🎯 **Objetivo:**  \n",
    "Comprender el concepto de derivadas, su aplicación en la identificación de funciones crecientes y decrecientes, y aprender a calcularlas usando **Python**. Además, exploraremos cómo aplicar la **programación lineal** para resolver problemas de optimización.\n",
    "\n",
    "---\n",
    "\n",
    "### 📌 **¿Qué necesitas?**  \n",
    "✔️ Conocimientos básicos de cálculo diferencial  \n",
    "✔️ Familiaridad con **Python** y **Jupyter Notebook**  \n",
    "✔️ Ganas de aprender y experimentar 🚀  \n",
    "\n",
    "---\n",
    "\n",
    "**¡Comencemos! 🔥**  \n"
   ]
  },
  {
   "cell_type": "markdown",
   "metadata": {},
   "source": [
    "### **Origen de la derivada**\n",
    "El concepto de derivada surge del trabajo de **Isaac Newton** y **Gottfried Wilhelm Leibniz** en el siglo XVII, quienes desarrollaron el cálculo diferencial e integral de manera independiente.\n",
    "\n",
    "- **Newton** introdujo la derivada en el contexto de la **velocidad instantánea** y el movimiento de los cuerpos.\n",
    "- **Leibniz** la formalizó con su notación dy/dx, que aún se usa hoy en día.\n",
    "\n",
    "Ambos desarrollaron la idea de una tasa de cambio infinitesimal para resolver problemas de **movimiento, optimización y geometría**.\n"
   ]
  },
  {
   "cell_type": "markdown",
   "metadata": {},
   "source": [
    "Dado un punto \\( x=a \\), la derivada \\( f'(a) \\) nos dice si la función está:\n",
    "\n",
    "- **Creciendo** (\\( f'(a) > 0 \\)): la pendiente es positiva, y la curva sube.\n",
    "- **Decreciendo** (\\( f'(a) < 0 \\)): la pendiente es negativa, y la curva baja.\n",
    "- **Constante** (\\( f'(a) = 0 \\)): la pendiente es cero, lo que puede indicar un máximo, un mínimo o un punto de inflexión.\n",
    "\n",
    "Visualmente:\n",
    "\n",
    "https://www.geogebra.org/m/ve5pdft7\n"
   ]
  },
  {
   "cell_type": "markdown",
   "metadata": {},
   "source": [
    "### **Ejemplos de derivadas**\n",
    "1. **Derivada de una función lineal**:  \n",
    "   Si $$ f(x) = 3x + 2 $$ la derivada es:\n",
    "\n",
    "$$\n",
    "   f'(x) = 3\n",
    "$$\n",
    "\n",
    "   Como la función es lineal, su pendiente es constante.\n",
    "\n",
    "2. **Derivada de una función cuadrática**:  \n",
    "   Si $$f(x) = x^2$$ la derivada es:\n",
    "\n",
    "$$\n",
    "   f'(x) = 2x\n",
    "$$\n",
    "\n",
    "   Esto indica que la pendiente cambia en cada punto.\n",
    "\n",
    "3. **Derivada de una función exponencial**:  \n",
    "   Si $$ f(x) = e^x$$ su derivada es:\n",
    "\n",
    "$$\n",
    "   f'(x) = e^x\n",
    "$$\n",
    "\n",
    "   Lo que significa que su tasa de crecimiento es igual a su propio valor.\n"
   ]
  },
  {
   "cell_type": "markdown",
   "metadata": {},
   "source": [
    "# **Formulario de Derivadas**\n",
    "\n",
    "Si \\( U \\) y \\( V \\) son funciones diferenciables, y \\( a, c \\) son constantes, se aplican las siguientes reglas de derivación:\n",
    "\n",
    "---\n",
    "\n",
    "## **Algunas Reglas Básicas**\n",
    "\n",
    "1. **Derivada de una constante**  \n",
    "   $$\n",
    "   \\frac{d}{dx} (c) = 0\n",
    "   $$\n",
    "\n",
    "2. **Regla de la potencia**  \n",
    "   $$\n",
    "   \\frac{d}{dx} (x^n) = n x^{n-1}, \\quad \\text{para } n \\in \\mathbb{R}\n",
    "   $$\n",
    "\n",
    "3. **Derivada de una constante por una función**  \n",
    "   $$\n",
    "   \\frac{d}{dx} (aU) = aU'\n",
    "   $$\n",
    "\n",
    "4. **Regla de la suma/resta**  \n",
    "   $$\n",
    "   \\frac{d}{dx} (U \\pm V) = U' \\pm V'\n",
    "   $$\n",
    "\n",
    "5. **Regla del producto**  \n",
    "   $$\n",
    "   \\frac{d}{dx} (U V) = U' V + U V'\n",
    "   $$\n",
    "\n",
    "6. **Regla del cociente**  \n",
    "   $$\n",
    "   \\frac{d}{dx} \\left( \\frac{U}{V} \\right) = \\frac{U' V - U V'}{V^2}, \\quad V \\neq 0\n",
    "   $$\n",
    "\n",
    "7. **Regla de la cadena**  \n",
    "   $$\n",
    "   \\frac{d}{dx} f(g(x)) = f'(g(x)) \\cdot g'(x)\n",
    "   $$\n",
    "\n",
    "---\n",
    "\n"
   ]
  },
  {
   "cell_type": "markdown",
   "metadata": {},
   "source": [
    "---\n",
    "\n",
    "# 📘 Introducción a las Derivadas en Python\n",
    "## ✨ Reglas de Derivación"
   ]
  },
  {
   "cell_type": "code",
   "execution_count": 1,
   "metadata": {},
   "outputs": [],
   "source": [
    "import sympy as sp\n",
    "from IPython.display import display, Markdown\n",
    "\n",
    "# Definir la variable simbólica\n",
    "x = sp.Symbol('x')\n",
    "a, c = sp.symbols('a c')  # Constantes"
   ]
  },
  {
   "cell_type": "markdown",
   "metadata": {},
   "source": [
    "### 1️⃣ Derivada de una constante\n",
    "$$ \\frac{d}{dx} (c) = 0 $$"
   ]
  },
  {
   "cell_type": "code",
   "execution_count": 2,
   "metadata": {},
   "outputs": [
    {
     "data": {
      "text/latex": [
       "$\\displaystyle 0$"
      ],
      "text/plain": [
       "0"
      ]
     },
     "metadata": {},
     "output_type": "display_data"
    },
    {
     "data": {
      "text/markdown": [
       "Evaluación en x=2: 0"
      ],
      "text/plain": [
       "<IPython.core.display.Markdown object>"
      ]
     },
     "metadata": {},
     "output_type": "display_data"
    }
   ],
   "source": [
    "derivada_constante = sp.diff(c, x)\n",
    "display(derivada_constante)\n",
    "eval_constante = derivada_constante.subs(x, 2)\n",
    "display(Markdown(f\"Evaluación en x=2: {eval_constante}\"))\n"
   ]
  },
  {
   "cell_type": "markdown",
   "metadata": {},
   "source": [
    "### 2️⃣ Regla de la potencia\n",
    "$$ \\frac{d}{dx} (x^n) = n x^{n-1} $$"
   ]
  },
  {
   "cell_type": "code",
   "execution_count": 3,
   "metadata": {},
   "outputs": [
    {
     "data": {
      "text/latex": [
       "$\\displaystyle 3 x^{2}$"
      ],
      "text/plain": [
       "3*x**2"
      ]
     },
     "metadata": {},
     "output_type": "display_data"
    },
    {
     "data": {
      "text/markdown": [
       "Evaluación en x=2: 12"
      ],
      "text/plain": [
       "<IPython.core.display.Markdown object>"
      ]
     },
     "metadata": {},
     "output_type": "display_data"
    }
   ],
   "source": [
    "potencia = x**3\n",
    "derivada_potencia = sp.diff(potencia, x)\n",
    "display(derivada_potencia)\n",
    "eval_potencia = derivada_potencia.subs(x, 2)\n",
    "display(Markdown(f\"Evaluación en x=2: {eval_potencia}\"))"
   ]
  },
  {
   "cell_type": "markdown",
   "metadata": {},
   "source": [
    "### 3️⃣ Derivada de una constante por una función\n",
    "$$ \\frac{d}{dx} (a \\sin x) = a \\cos x $$"
   ]
  },
  {
   "cell_type": "code",
   "execution_count": 4,
   "metadata": {},
   "outputs": [
    {
     "data": {
      "text/latex": [
       "$\\displaystyle a \\cos{\\left(x \\right)}$"
      ],
      "text/plain": [
       "a*cos(x)"
      ]
     },
     "metadata": {},
     "output_type": "display_data"
    },
    {
     "data": {
      "text/markdown": [
       "Evaluación en x=π: -a"
      ],
      "text/plain": [
       "<IPython.core.display.Markdown object>"
      ]
     },
     "metadata": {},
     "output_type": "display_data"
    }
   ],
   "source": [
    "constante_por_funcion = a * sp.sin(x)\n",
    "derivada_constante_por_funcion = sp.diff(constante_por_funcion, x)\n",
    "display(derivada_constante_por_funcion)\n",
    "eval_const_func = derivada_constante_por_funcion.subs(x, sp.pi)\n",
    "display(Markdown(f\"Evaluación en x=π: {eval_const_func}\"))\n",
    "# Cosceno de pi igual a -1 \n",
    "# por lo tanto f(π)=a(−1)=−a"
   ]
  },
  {
   "cell_type": "markdown",
   "metadata": {},
   "source": [
    "### 4️⃣ Regla de la suma/resta\n",
    "$$ \\frac{d}{dx} (x^2 + e^x) = 2x + e^x $$"
   ]
  },
  {
   "cell_type": "code",
   "execution_count": 5,
   "metadata": {},
   "outputs": [
    {
     "data": {
      "text/latex": [
       "$\\displaystyle 2 x + e^{x}$"
      ],
      "text/plain": [
       "2*x + exp(x)"
      ]
     },
     "metadata": {},
     "output_type": "display_data"
    },
    {
     "data": {
      "text/markdown": [
       "Evaluación en x=1: 2 + E"
      ],
      "text/plain": [
       "<IPython.core.display.Markdown object>"
      ]
     },
     "metadata": {},
     "output_type": "display_data"
    }
   ],
   "source": [
    "suma_resta = x**2 + sp.exp(x)\n",
    "derivada_suma_resta = sp.diff(suma_resta, x)\n",
    "display(derivada_suma_resta)\n",
    "eval_suma_resta = derivada_suma_resta.subs(x, 1)\n",
    "display(Markdown(f\"Evaluación en x=1: {eval_suma_resta}\"))"
   ]
  },
  {
   "cell_type": "markdown",
   "metadata": {},
   "source": [
    "### 5️⃣ Regla del producto\n",
    "$$ \\frac{d}{dx} (x \\cos x) = -x \\sin x + \\cos x $$"
   ]
  },
  {
   "cell_type": "code",
   "execution_count": 6,
   "metadata": {},
   "outputs": [
    {
     "data": {
      "text/latex": [
       "$\\displaystyle - x \\sin{\\left(x \\right)} + \\cos{\\left(x \\right)}$"
      ],
      "text/plain": [
       "-x*sin(x) + cos(x)"
      ]
     },
     "metadata": {},
     "output_type": "display_data"
    }
   ],
   "source": [
    "producto = x * sp.cos(x)\n",
    "derivada_producto = sp.diff(producto, x)\n",
    "display(derivada_producto)"
   ]
  },
  {
   "cell_type": "markdown",
   "metadata": {},
   "source": [
    "### 6️⃣ Regla del cociente\n",
    "$$ \\frac{d}{dx} \\left( \\frac{x^2 + 1}{x + 1} \\right) $$"
   ]
  },
  {
   "cell_type": "code",
   "execution_count": 7,
   "metadata": {},
   "outputs": [
    {
     "data": {
      "text/latex": [
       "$\\displaystyle \\frac{2 x}{x + 1} - \\frac{x^{2} + 1}{\\left(x + 1\\right)^{2}}$"
      ],
      "text/plain": [
       "2*x/(x + 1) - (x**2 + 1)/(x + 1)**2"
      ]
     },
     "metadata": {},
     "output_type": "display_data"
    }
   ],
   "source": [
    "cociente = (x**2 + 1) / (x + 1)\n",
    "derivada_cociente = sp.diff(cociente, x)\n",
    "display(derivada_cociente)"
   ]
  },
  {
   "cell_type": "markdown",
   "metadata": {},
   "source": [
    "### 7️⃣ Regla de la cadena\n",
    "$$ \\frac{d}{dx} (\\sin(x^2 + 1)) = 2x \\cos(x^2 + 1) $$"
   ]
  },
  {
   "cell_type": "code",
   "execution_count": 8,
   "metadata": {},
   "outputs": [
    {
     "data": {
      "text/latex": [
       "$\\displaystyle 2 x \\cos{\\left(x^{2} + 1 \\right)}$"
      ],
      "text/plain": [
       "2*x*cos(x**2 + 1)"
      ]
     },
     "metadata": {},
     "output_type": "display_data"
    }
   ],
   "source": [
    "compuesta = sp.sin(x**2 + 1)\n",
    "derivada_compuesta = sp.diff(compuesta, x)\n",
    "display(derivada_compuesta)"
   ]
  },
  {
   "cell_type": "markdown",
   "metadata": {},
   "source": [
    "# 🏭 **Identificación de Variables de Decisión y programación lineal**\n",
    "Pensemos en el siguiente **Problema:** sobre  **Producción de Sillas y Mesas**:\n",
    "\n",
    "Una fábrica produce **sillas** y **mesas**. Cada silla genera **$5 de ganancia** y cada mesa **$8**. La producción está limitada por:  \n",
    "\n",
    "- **40 horas de trabajo disponibles**  \n",
    "- **30 unidades de madera disponibles**  \n",
    "\n",
    "Cada silla requiere **4 horas de trabajo** y **3 unidades de madera**, mientras que cada mesa requiere **5 horas de trabajo** y **6 unidades de madera**.\n",
    "\n",
    "📌 **Objetivo:** Determinar cuántas **sillas** y **mesas** deben producirse para **maximizar la ganancia**.\n",
    "\n",
    "---\n",
    "\n",
    "## 🔍 **Identificación de las Variables de Decisión**\n",
    "Para formular matemáticamente el problema, debemos identificar **qué cantidades queremos determinar**.\n",
    "\n",
    "- **¿Qué estamos decidiendo?** → **Cuántas sillas y mesas producir**  \n",
    "- **Definición matemática:**\n",
    "  - \\( x_1 \\) = Número de **sillas** a producir  \n",
    "  - \\( x_2 \\) = Número de **mesas** a producir  \n",
    "\n",
    "Estas variables definirán la solución del problema.\n",
    "\n",
    "---\n",
    "\n",
    "## 🎯 **¿Qué son las Variables de Decisión?**\n",
    "Las **variables de decisión** son los valores desconocidos que necesitamos determinar para encontrar la mejor solución a un problema de optimización.  \n",
    "Estas variables representan **acciones bajo nuestro control** y afectan la **función objetivo** y las **restricciones**.\n",
    "\n",
    "### ✅ **Características de las Variables de Decisión**\n",
    "✔️ **Deben ser cuantificables** (números reales o enteros).  \n",
    "✔️ **Deben estar bajo nuestro control** dentro del problema.  \n",
    "✔️ **Deben definir completamente la solución**.  \n",
    "\n",
    "En nuestro ejemplo:\n",
    "- \\( x_1 \\) y \\( x_2 \\) **definen la cantidad de productos a fabricar**.\n",
    "- La **función objetivo** dependerá de estas variables.\n",
    "- Las **restricciones** como el tiempo y la madera también dependen de \\( x_1 \\) y \\( x_2 \\).\n",
    "\n",
    "---\n",
    "\n",
    "## 📌 **Pasos para Identificar las Variables de Decisión**\n",
    "### **1️⃣ Leer y Comprender el Problema**\n",
    "Antes de definir las variables, es fundamental entender:\n",
    "- **¿Qué estamos maximizando o minimizando?** (Ejemplo: ganancias, costos, recursos).  \n",
    "- **¿Qué está bajo nuestro control?** (Ejemplo: unidades a producir, recursos a asignar).  \n",
    "\n",
    "### **2️⃣ Identificar las Cantidades a Determinar**\n",
    "Las variables de decisión corresponden a **las incógnitas del problema**.  \n",
    "Algunas preguntas clave:\n",
    "- ¿Qué valores afectan directamente la solución?  \n",
    "- ¿Qué decisiones podemos tomar dentro del problema?  \n",
    "\n",
    "### **3️⃣ Definir las Variables Matemáticamente**\n",
    "Las variables deben representarse con símbolos claros.  \n",
    "En nuestro ejemplo:\n",
    "- **\\( x_1 \\) y \\( x_2 \\)** determinan la solución.\n",
    "- La **función objetivo** se expresa como:\n",
    "  $$\n",
    "  \\max \\quad 5x_1 + 8x_2\n",
    "  $$\n",
    "  donde **\\( x_1 \\)** representa el número de **sillas** a producir y **\\( x_2 \\)** el número de **mesas**.\n",
    "\n",
    "- Las **restricciones** del problema se escriben como ecuaciones en función de \\( x_1 \\) y \\( x_2 \\):\n",
    "\n",
    "  - **Restricción de horas de trabajo**:  \n",
    "    Cada silla requiere **4 horas** y cada mesa **5 horas** de trabajo.  \n",
    "    Como solo hay **40 horas disponibles**, se plantea la restricción:\n",
    "    $$\n",
    "    4x_1 + 5x_2 \\leq 40\n",
    "    $$\n",
    "\n",
    "  - **Restricción de madera**:  \n",
    "    Cada silla requiere **3 unidades de madera** y cada mesa **6 unidades**.  \n",
    "    Como hay **30 unidades disponibles**, la restricción es:\n",
    "    $$\n",
    "    3x_1 + 6x_2 \\leq 30\n",
    "    $$\n",
    "\n",
    "  - **Restricciones de no negatividad**:  \n",
    "    No podemos producir una cantidad negativa de sillas o mesas, por lo que:\n",
    "    $$\n",
    "    x_1 \\geq 0, \\quad x_2 \\geq 0\n",
    "    $$\n",
    "\n",
    "---\n",
    "\n",
    "### **🛠 LHS (Left-Hand Side) y RHS (Right-Hand Side) en las Restricciones**\n",
    "En cualquier ecuación o inecuación matemática, los términos pueden separarse en:\n",
    "\n",
    "- **LHS (Left-Hand Side - Lado Izquierdo)**: Es la parte de la ecuación antes del signo de desigualdad o igualdad.  \n",
    "  - En la restricción de horas de trabajo:  \n",
    "    **LHS** → \\( 4x_1 + 5x_2 \\) representa el **uso total de horas de trabajo**.\n",
    "  \n",
    "  - En la restricción de madera:  \n",
    "    **LHS** → \\( 3x_1 + 6x_2 \\) representa el **uso total de madera**.\n",
    "\n",
    "- **RHS (Right-Hand Side - Lado Derecho)**: Es el valor límite después del signo de desigualdad o igualdad.  \n",
    "  - En la restricción de horas de trabajo:  \n",
    "    **RHS** → \\( 40 \\) representa el **máximo de horas disponibles**.\n",
    "  \n",
    "  - En la restricción de madera:  \n",
    "    **RHS** → \\( 30 \\) representa la **cantidad de madera disponible**.\n",
    "\n",
    "**Ejemplo completo de una restricción desglosada:**\n",
    "$$\n",
    "4x_1 + 5x_2 \\leq 40\n",
    "$$\n",
    "- **LHS** → \\( 4x_1 + 5x_2 \\) (horas requeridas para producción).  \n",
    "- **RHS** → \\( 40 \\) (horas disponibles).  \n",
    "- **Signo \\( \\leq \\)** → Indica que **no podemos exceder las 40 horas disponibles**.\n",
    "\n",
    "### **4️⃣ Verificar la Validez de las Variables**\n",
    "- **¿Las variables permiten expresar la función objetivo?** ✅ Sí.  \n",
    "- **¿Las restricciones dependen de estas variables?** ✅ Sí.  \n",
    "- **¿Tienen sentido en el contexto del problema?** ✅ Sí.  \n",
    "\n",
    "---\n",
    "# Ejemplo práctico de programación lineal"
   ]
  },
  {
   "cell_type": "code",
   "execution_count": 9,
   "metadata": {},
   "outputs": [
    {
     "data": {
      "text/plain": [
       "(np.float64(10.0), np.float64(0.0), 50.0)"
      ]
     },
     "execution_count": 9,
     "metadata": {},
     "output_type": "execute_result"
    }
   ],
   "source": [
    "from scipy.optimize import linprog\n",
    "\n",
    "# Coeficientes de la función objetivo (maximizar 5x1 + 8x2)\n",
    "c = [-5, -8]  # Se usan negativos porque linprog minimiza por defecto\n",
    "\n",
    "# Coeficientes de las restricciones (LHS)\n",
    "A = [\n",
    "    [4, 5],  # Restricción de horas de trabajo [sillas, mesa] \n",
    "    [3, 6]   # Restricción de madera [silla, mesa]\n",
    "]\n",
    "\n",
    "# Lado derecho de las restricciones (RHS)\n",
    "b = [40, 30]\n",
    "\n",
    "# Límites de las variables (no pueden ser negativas)\n",
    "# x_bounds = [(lower_x1, upper_x1), (lower_x2, upper_x2)]\n",
    "# None si no hay límite, o si el limite es infinito\n",
    "x_bounds = [(0, None), (0, None)]\n",
    "\n",
    "# Resolver el problema usando el método símplex\n",
    "resultado = linprog(c, A_ub=A, b_ub=b, bounds=x_bounds, method=\"highs\")\n",
    "\n",
    "# Obtener los valores óptimos de las variables y la ganancia máxima\n",
    "solucion_x1 = resultado.x[0]\n",
    "solucion_x2 = resultado.x[1]\n",
    "ganancia_maxima = -resultado.fun  # Se invierte el signo para obtener la maximización\n",
    "\n",
    "solucion_x1, solucion_x2, ganancia_maxima\n",
    "\n"
   ]
  },
  {
   "cell_type": "markdown",
   "metadata": {},
   "source": [
    "# Veamoslo graficamente"
   ]
  },
  {
   "cell_type": "markdown",
   "metadata": {},
   "source": [
    "Dada la inecuación:\n",
    "\n",
    "$$\n",
    "4x_1 + 5x_2 \\leq 40\n",
    "$$\n",
    "\n",
    "**Despejamos \\( x_2 \\):**\n",
    "1. Restamos \\( 4x_1 \\) en ambos lados:\n",
    "   $$\n",
    "   5x_2 \\leq 40 - 4x_1\n",
    "   $$\n",
    "2. Dividimos todo entre **5**:\n",
    "   $$\n",
    "   x_2 \\leq \\frac{40 - 4x_1}{5}\n",
    "   $$\n",
    "\n",
    "En **Python**, esta expresión se representaría como:\n",
    "\n",
    "```python\n",
    "x2_vals_trabajo = (40 - 4*x1_vals) / 5\n",
    "```\n",
    "Lo mismo para madera\n",
    "\n",
    "```python\n",
    "x2_vals_madera = (30 - 3*x1_vals) / 6\n",
    "```"
   ]
  },
  {
   "cell_type": "code",
   "execution_count": 10,
   "metadata": {},
   "outputs": [
    {
     "data": {
      "image/png": "[encoded data removed]",
      "text/plain": [
       "<Figure size 800x600 with 1 Axes>"
      ]
     },
     "metadata": {},
     "output_type": "display_data"
    }
   ],
   "source": [
    "\n",
    "import numpy as np\n",
    "import matplotlib.pyplot as plt\n",
    "\n",
    "# cada silla require 4 horas, en 40 horas prod\n",
    "# Crear el espacio de valores para x1 y x2\n",
    "x1_vals = np.linspace(0, 10, 100)\n",
    "\n",
    "x2_vals_trabajo = (40 - 4*x1_vals) / 5  # Restricción de horas de trabajo despejando x2\n",
    "x2_vals_madera = (30 - 3*x1_vals) / 6  # Restricción de madera despejando x2\n",
    "\n",
    "# Configurar el gráfico\n",
    "plt.figure(figsize=(8, 6))\n",
    "plt.xlim(0, 12)\n",
    "plt.ylim(0, 10)\n",
    "\n",
    "# Dibujar las restricciones\n",
    "plt.plot(x1_vals, x2_vals_trabajo, label=r'$4x_1 + 5x_2 \\leq 40$', color=\"blue\")\n",
    "plt.plot(x1_vals, x2_vals_madera, label=r'$3x_1 + 6x_2 \\leq 30$', color=\"green\")\n",
    "\n",
    "# Rellenar la región factible\n",
    "plt.fill_between(x1_vals, np.minimum(x2_vals_trabajo, x2_vals_madera), 0, color='gray', alpha=0.3)\n",
    "\n",
    "# Marcar la solución óptima\n",
    "plt.scatter(10, 0, color=\"red\", zorder=3, label=\"Solución óptima (10,0)\")\n",
    "\n",
    "# Etiquetas y título\n",
    "plt.xlabel(r'$x_1$ (Sillas)')\n",
    "plt.ylabel(r'$x_2$ (Mesas)')\n",
    "plt.title(\"Región Factible y Solución Óptima\")\n",
    "plt.axhline(0, color='black', linewidth=1)\n",
    "plt.axvline(0, color='black', linewidth=1)\n",
    "plt.legend()\n",
    "plt.grid()\n",
    "\n",
    "# Mostrar el gráfico\n",
    "plt.show()\n"
   ]
  },
  {
   "cell_type": "markdown",
   "metadata": {},
   "source": [
    "### **📌 ¿Por qué despejamos \\( x_2 \\) y no \\( x_1 \\) en el método gráfico?**\n",
    "\n",
    "En el **método gráfico** de **programación lineal**, despejamos **\\( x_2 \\) en función de \\( x_1 \\)** para **facilitar la representación en un plano cartesiano**. La razón principal es que **las gráficas en 2D se suelen trazar en función de \\( x_1 \\) (eje horizontal) y \\( x_2 \\) (eje vertical)**.\n"
   ]
  },
  {
   "cell_type": "markdown",
   "metadata": {},
   "source": [
    "---\n",
    "## 🔥 Ejercicios Integradores\n",
    "Ahora es tu turno. Calcula las siguientes derivadas con sympy cada una en una celda de código y verifica tus resultados con `sympy.diff()`.\n"
   ]
  },
  {
   "cell_type": "markdown",
   "metadata": {},
   "source": [
    "### **Ejercicio 1 - Derivadas de funciones con exponentes fraccionarios**\n",
    "Calcula la derivada de la siguiente función y evalúala en \\( x = 1 \\):\n",
    "\n",
    "$$\n",
    "f(x) = x^{\\frac{3}{2}} + 5x^{\\frac{1}{3}} - e^{x^2}\n",
    "$$"
   ]
  },
  {
   "cell_type": "code",
   "execution_count": 19,
   "metadata": {},
   "outputs": [
    {
     "name": "stdout",
     "output_type": "stream",
     "text": [
      "Derivada de la función\n"
     ]
    },
    {
     "data": {
      "text/latex": [
       "$\\displaystyle \\frac{1.66666666666667}{x^{0.666666666666667}} + 1.5 x^{0.5} - 2 x e^{x^{2}}$"
      ],
      "text/plain": [
       "1.66666666666667/x**0.666666666666667 + 1.5*x**0.5 - 2*x*exp(x**2)"
      ]
     },
     "metadata": {},
     "output_type": "display_data"
    },
    {
     "name": "stdout",
     "output_type": "stream",
     "text": [
      "Derivada de la función (Simplificada)\n"
     ]
    },
    {
     "data": {
      "text/latex": [
       "$\\displaystyle \\frac{1.0 \\left(1.5 x^{1.16666666666667} - 2.0 x^{1.66666666666667} e^{x^{2}} + 1.66666666666667\\right)}{x^{0.666666666666667}}$"
      ],
      "text/plain": [
       "1.0*(1.5*x**1.16666666666667 - 2.0*x**1.66666666666667*exp(x**2) + 1.66666666666667)/x**0.666666666666667"
      ]
     },
     "metadata": {},
     "output_type": "display_data"
    },
    {
     "name": "stdout",
     "output_type": "stream",
     "text": [
      "Evaluar x=1 en derivada\n"
     ]
    },
    {
     "data": {
      "text/latex": [
       "$\\displaystyle 3.16666666666667 - 2 e$"
      ],
      "text/plain": [
       "3.16666666666667 - 2*E"
      ]
     },
     "metadata": {},
     "output_type": "display_data"
    },
    {
     "name": "stdout",
     "output_type": "stream",
     "text": [
      "Evaluación (Simplificada)\n"
     ]
    },
    {
     "data": {
      "text/latex": [
       "$\\displaystyle \\frac{19}{6} - 2 e$"
      ],
      "text/plain": [
       "19/6 - 2*E"
      ]
     },
     "metadata": {},
     "output_type": "display_data"
    }
   ],
   "source": [
    "import sympy as sp\n",
    "from IPython.display import display, Markdown\n",
    "\n",
    "# Definir la variable simbólica\n",
    "x = sp.Symbol('x')\n",
    "\n",
    "# Definir la función\n",
    "f1 = x**(3/2) + 5*x**(1/3) - sp.exp(x**2)\n",
    "\n",
    "# Derivada de la función\n",
    "derivada_f1 = sp.diff(f1, x)\n",
    "print(\"Derivada de la función\")\n",
    "display(derivada_f1)\n",
    "\n",
    "# Simplificar la derivada\n",
    "derivada_f1_simpl = sp.simplify(derivada_f1)\n",
    "print(\"Derivada de la función (Simplificada)\")\n",
    "display(derivada_f1_simpl)\n",
    "\n",
    "# Evaluar en x=1\n",
    "eval_derivada_f1 = derivada_f1.subs(x,1)\n",
    "eval_derivada_f1_simpl = sp.nsimplify(eval_derivada_f1)\n",
    "\n",
    "print(\"Evaluar x=1 en derivada\")\n",
    "display(eval_derivada_f1)\n",
    "print(\"Evaluación (Simplificada)\")\n",
    "display(eval_derivada_f1_simpl)\n"
   ]
  },
  {
   "cell_type": "markdown",
   "metadata": {},
   "source": [
    "### **Ejercicio 2 - Aplicación de la regla del producto y exponenciales**\n",
    "Deriva la siguiente función y evalúa en \\( x = 2 \\):\n",
    "\n",
    "$$\n",
    "g(x) = (x^3 + 2x) e^{\\sin x}\n",
    "$$\n",
    "\n",
    "---"
   ]
  },
  {
   "cell_type": "code",
   "execution_count": 18,
   "metadata": {},
   "outputs": [
    {
     "name": "stdout",
     "output_type": "stream",
     "text": [
      "Derivada de la función\n"
     ]
    },
    {
     "data": {
      "text/latex": [
       "$\\displaystyle \\left(3 x^{2} + 2\\right) e^{\\sin{\\left(x \\right)}} + \\left(x^{3} + 2 x\\right) e^{\\sin{\\left(x \\right)}} \\cos{\\left(x \\right)}$"
      ],
      "text/plain": [
       "(3*x**2 + 2)*exp(sin(x)) + (x**3 + 2*x)*exp(sin(x))*cos(x)"
      ]
     },
     "metadata": {},
     "output_type": "display_data"
    },
    {
     "name": "stdout",
     "output_type": "stream",
     "text": [
      "Derivada de la función (Simplificada)\n"
     ]
    },
    {
     "data": {
      "text/latex": [
       "$\\displaystyle \\left(3 x^{2} + x \\left(x^{2} + 2\\right) \\cos{\\left(x \\right)} + 2\\right) e^{\\sin{\\left(x \\right)}}$"
      ],
      "text/plain": [
       "(3*x**2 + x*(x**2 + 2)*cos(x) + 2)*exp(sin(x))"
      ]
     },
     "metadata": {},
     "output_type": "display_data"
    },
    {
     "name": "stdout",
     "output_type": "stream",
     "text": [
      "Evaluar x=2 en derivada\n"
     ]
    },
    {
     "data": {
      "text/latex": [
       "$\\displaystyle 12 e^{\\sin{\\left(2 \\right)}} \\cos{\\left(2 \\right)} + 14 e^{\\sin{\\left(2 \\right)}}$"
      ],
      "text/plain": [
       "12*exp(sin(2))*cos(2) + 14*exp(sin(2))"
      ]
     },
     "metadata": {},
     "output_type": "display_data"
    },
    {
     "name": "stdout",
     "output_type": "stream",
     "text": [
      "Evaluación (Simplificada)\n"
     ]
    },
    {
     "data": {
      "text/latex": [
       "$\\displaystyle \\left(12 \\cos{\\left(2 \\right)} + 14\\right) e^{\\sin{\\left(2 \\right)}}$"
      ],
      "text/plain": [
       "(12*cos(2) + 14)*exp(sin(2))"
      ]
     },
     "metadata": {},
     "output_type": "display_data"
    }
   ],
   "source": [
    "import sympy as sp\n",
    "from IPython.display import display, Markdown\n",
    "\n",
    "# Definir la variable simbólica\n",
    "x = sp.Symbol('x')\n",
    "\n",
    "# Definir la función\n",
    "g1 = (x**3 + 2*x)* sp.exp(sp.sin(x))\n",
    "\n",
    "# Derivada de la función\n",
    "derivada_g1 = sp.diff(g1,x)\n",
    "print(\"Derivada de la función\")\n",
    "display(derivada_g1)\n",
    "\n",
    "# Simplificar la derivada\n",
    "derivada_g1_simpl = sp.simplify(derivada_g1)\n",
    "print(\"Derivada de la función (Simplificada)\")\n",
    "display(derivada_g1_simpl)\n",
    "\n",
    "# Evaluar en x=2\n",
    "eval_derivada_g1 = derivada_g1.subs(x,2)\n",
    "eval_derivada_g1_simp = derivada_g1_simpl.subs(x,2)\n",
    "\n",
    "print(\"Evaluar x=2 en derivada\")\n",
    "display(eval_derivada_g1)\n",
    "print(\"Evaluación (Simplificada)\")\n",
    "display(eval_derivada_g1_simp)\n"
   ]
  },
  {
   "cell_type": "markdown",
   "metadata": {},
   "source": [
    "\n",
    "### **Ejercicio 3 - Regla del cociente con logaritmos y trigonometría**\n",
    "Calcula la derivada de la siguiente función y evalúala en \\( x = pi/4 \\):\n",
    "\n",
    "$$\n",
    "h(x) = \\frac{\\ln(x^2 + 1)}{\\tan x}\n",
    "$$\n",
    "\n",
    "---"
   ]
  },
  {
   "cell_type": "code",
   "execution_count": 22,
   "metadata": {},
   "outputs": [
    {
     "name": "stdout",
     "output_type": "stream",
     "text": [
      "Derivada de la función\n"
     ]
    },
    {
     "data": {
      "text/latex": [
       "$\\displaystyle \\frac{2 x}{\\left(x^{2} + 1\\right) \\tan{\\left(x \\right)}} + \\frac{\\left(- \\tan^{2}{\\left(x \\right)} - 1\\right) \\log{\\left(x^{2} + 1 \\right)}}{\\tan^{2}{\\left(x \\right)}}$"
      ],
      "text/plain": [
       "2*x/((x**2 + 1)*tan(x)) + (-tan(x)**2 - 1)*log(x**2 + 1)/tan(x)**2"
      ]
     },
     "metadata": {},
     "output_type": "display_data"
    },
    {
     "name": "stdout",
     "output_type": "stream",
     "text": [
      "Derivada de la función (Simplificada)\n"
     ]
    },
    {
     "data": {
      "text/latex": [
       "$\\displaystyle \\frac{2 \\left(- x^{2} \\log{\\left(x^{2} + 1 \\right)} + x \\sin{\\left(2 x \\right)} - \\log{\\left(x^{2} + 1 \\right)}\\right)}{\\left(1 - \\cos{\\left(2 x \\right)}\\right) \\left(x^{2} + 1\\right)}$"
      ],
      "text/plain": [
       "2*(-x**2*log(x**2 + 1) + x*sin(2*x) - log(x**2 + 1))/((1 - cos(2*x))*(x**2 + 1))"
      ]
     },
     "metadata": {},
     "output_type": "display_data"
    },
    {
     "name": "stdout",
     "output_type": "stream",
     "text": [
      "Evaluar x=pi/4 en derivada\n"
     ]
    },
    {
     "data": {
      "text/latex": [
       "$\\displaystyle - 2 \\log{\\left(\\frac{\\pi^{2}}{16} + 1 \\right)} + \\frac{\\pi}{2 \\left(\\frac{\\pi^{2}}{16} + 1\\right)}$"
      ],
      "text/plain": [
       "-2*log(pi**2/16 + 1) + pi/(2*(pi**2/16 + 1))"
      ]
     },
     "metadata": {},
     "output_type": "display_data"
    },
    {
     "name": "stdout",
     "output_type": "stream",
     "text": [
      "Evaluación (Simplificada)\n"
     ]
    },
    {
     "data": {
      "text/latex": [
       "$\\displaystyle \\frac{2 \\left(- \\log{\\left(\\frac{\\pi^{2}}{16} + 1 \\right)} - \\frac{\\pi^{2} \\log{\\left(\\frac{\\pi^{2}}{16} + 1 \\right)}}{16} + \\frac{\\pi}{4}\\right)}{\\frac{\\pi^{2}}{16} + 1}$"
      ],
      "text/plain": [
       "2*(-log(pi**2/16 + 1) - pi**2*log(pi**2/16 + 1)/16 + pi/4)/(pi**2/16 + 1)"
      ]
     },
     "metadata": {},
     "output_type": "display_data"
    }
   ],
   "source": [
    "# Definir la variable simbólica\n",
    "x = sp.Symbol('x')\n",
    "\n",
    "# Definir la función\n",
    "h1 = (sp.ln(x**2 + 1))/sp.tan(x)\n",
    "\n",
    "# Derivada de la función\n",
    "derivada_h1 = sp.diff(h1,x)\n",
    "print(\"Derivada de la función\")\n",
    "display(derivada_h1)\n",
    "\n",
    "# Simplificar la derivada\n",
    "derivada_h1_simpl = sp.simplify(derivada_h1)\n",
    "print(\"Derivada de la función (Simplificada)\")\n",
    "display(derivada_h1_simpl)\n",
    "\n",
    "# Evaluar en x= pi/4\n",
    "eval_derivada_h1 = derivada_h1.subs(x,(sp.pi/4))\n",
    "eval_derivada_h1_simp = derivada_h1_simpl.subs(x,(sp.pi/4))\n",
    "\n",
    "print(\"Evaluar x=pi/4 en derivada\")\n",
    "display(eval_derivada_h1)\n",
    "print(\"Evaluación (Simplificada)\")\n",
    "display(eval_derivada_h1_simp)\n"
   ]
  },
  {
   "cell_type": "markdown",
   "metadata": {},
   "source": [
    "### **Ejercicio 4 - Regla de la cadena con funciones compuestas**\n",
    "Aplica la regla de la cadena para obtener la derivada y evalúa en \\( x = 1 \\):\n",
    "\n",
    "$$\n",
    "k(x) = \\sin^2(e^{x^3 + x})\n",
    "$$\n",
    "\n",
    "---"
   ]
  },
  {
   "cell_type": "code",
   "execution_count": 30,
   "metadata": {},
   "outputs": [
    {
     "name": "stdout",
     "output_type": "stream",
     "text": [
      "Derivada de la función\n"
     ]
    },
    {
     "data": {
      "text/latex": [
       "$\\displaystyle 2 \\left(3 x^{2} + 1\\right) e^{x^{3} + x} \\sin{\\left(e^{x^{3} + x} \\right)} \\cos{\\left(e^{x^{3} + x} \\right)}$"
      ],
      "text/plain": [
       "2*(3*x**2 + 1)*exp(x**3 + x)*sin(exp(x**3 + x))*cos(exp(x**3 + x))"
      ]
     },
     "metadata": {},
     "output_type": "display_data"
    },
    {
     "name": "stdout",
     "output_type": "stream",
     "text": [
      "Derivada de la función (Simplificada)\n"
     ]
    },
    {
     "data": {
      "text/latex": [
       "$\\displaystyle \\left(3 x^{2} + 1\\right) e^{x \\left(x^{2} + 1\\right)} \\sin{\\left(2 e^{x^{3} + x} \\right)}$"
      ],
      "text/plain": [
       "(3*x**2 + 1)*exp(x*(x**2 + 1))*sin(2*exp(x**3 + x))"
      ]
     },
     "metadata": {},
     "output_type": "display_data"
    },
    {
     "name": "stdout",
     "output_type": "stream",
     "text": [
      "Evaluar x=1 en derivada\n"
     ]
    },
    {
     "data": {
      "text/latex": [
       "$\\displaystyle 8 e^{2} \\sin{\\left(e^{2} \\right)} \\cos{\\left(e^{2} \\right)}$"
      ],
      "text/plain": [
       "8*exp(2)*sin(exp(2))*cos(exp(2))"
      ]
     },
     "metadata": {},
     "output_type": "display_data"
    },
    {
     "name": "stdout",
     "output_type": "stream",
     "text": [
      "Evaluación (Simplificada)\n"
     ]
    },
    {
     "data": {
      "text/latex": [
       "$\\displaystyle 4 e^{2} \\sin{\\left(2 e^{2} \\right)}$"
      ],
      "text/plain": [
       "4*exp(2)*sin(2*exp(2))"
      ]
     },
     "metadata": {},
     "output_type": "display_data"
    }
   ],
   "source": [
    "# Definir la variable simbólica\n",
    "x = sp.Symbol('x')\n",
    "\n",
    "# Definir la función\n",
    "k1 = sp.sin(sp.exp(x**3+x))**2\n",
    "\n",
    "# Derivada de la función\n",
    "derivada_k1 = sp.diff(k1,x)\n",
    "print(\"Derivada de la función\")\n",
    "display(derivada_k1)\n",
    "\n",
    "# Simplificar la derivada\n",
    "derivada_k1_simpl = sp.simplify(derivada_k1)\n",
    "print(\"Derivada de la función (Simplificada)\")\n",
    "display(derivada_k1_simpl)\n",
    "\n",
    "# Evaluar en x=1\n",
    "eval_derivada_k1 = derivada_k1.subs(x,1)\n",
    "eval_derivada_k1_simp = derivada_k1_simpl.subs(x,1)\n",
    "\n",
    "print(\"Evaluar x=1 en derivada\")\n",
    "display(eval_derivada_k1)\n",
    "print(\"Evaluación (Simplificada)\")\n",
    "display(eval_derivada_k1_simp)"
   ]
  },
  {
   "cell_type": "markdown",
   "metadata": {},
   "source": [
    "### **Ejercicio 5 - Derivadas en finanzas y economía**\n",
    "Supongamos que una empresa modela su costo de producción con la siguiente función:\n",
    "\n",
    "$$\n",
    "C(x) = \\frac{x^3 + 10x}{\\ln(x+2)}\n",
    "$$\n",
    "\n",
    "Calcula \\( C'(x) \\) y evalúa en \\( x = 5 \\) para determinar la tasa de cambio del costo en esa producción.\n",
    "\n",
    "---"
   ]
  },
  {
   "cell_type": "code",
   "execution_count": 31,
   "metadata": {},
   "outputs": [
    {
     "name": "stdout",
     "output_type": "stream",
     "text": [
      "Derivada de la función\n"
     ]
    },
    {
     "data": {
      "text/latex": [
       "$\\displaystyle \\frac{3 x^{2} + 10}{\\log{\\left(x + 2 \\right)}} - \\frac{x^{3} + 10 x}{\\left(x + 2\\right) \\log{\\left(x + 2 \\right)}^{2}}$"
      ],
      "text/plain": [
       "(3*x**2 + 10)/log(x + 2) - (x**3 + 10*x)/((x + 2)*log(x + 2)**2)"
      ]
     },
     "metadata": {},
     "output_type": "display_data"
    },
    {
     "name": "stdout",
     "output_type": "stream",
     "text": [
      "Derivada de la función (Simplificada)\n"
     ]
    },
    {
     "data": {
      "text/latex": [
       "$\\displaystyle \\frac{- x \\left(x^{2} + 10\\right) + \\left(x + 2\\right) \\left(3 x^{2} + 10\\right) \\log{\\left(x + 2 \\right)}}{\\left(x + 2\\right) \\log{\\left(x + 2 \\right)}^{2}}$"
      ],
      "text/plain": [
       "(-x*(x**2 + 10) + (x + 2)*(3*x**2 + 10)*log(x + 2))/((x + 2)*log(x + 2)**2)"
      ]
     },
     "metadata": {},
     "output_type": "display_data"
    },
    {
     "name": "stdout",
     "output_type": "stream",
     "text": [
      "Evaluar x=5 en derivada\n"
     ]
    },
    {
     "data": {
      "text/latex": [
       "$\\displaystyle 152 e^{130} \\sin{\\left(e^{130} \\right)} \\cos{\\left(e^{130} \\right)}$"
      ],
      "text/plain": [
       "152*exp(130)*sin(exp(130))*cos(exp(130))"
      ]
     },
     "metadata": {},
     "output_type": "display_data"
    },
    {
     "name": "stdout",
     "output_type": "stream",
     "text": [
      "Evaluación (Simplificada)\n"
     ]
    },
    {
     "data": {
      "text/latex": [
       "$\\displaystyle \\frac{-175 + 595 \\log{\\left(7 \\right)}}{7 \\log{\\left(7 \\right)}^{2}}$"
      ],
      "text/plain": [
       "(-175 + 595*log(7))/(7*log(7)**2)"
      ]
     },
     "metadata": {},
     "output_type": "display_data"
    }
   ],
   "source": [
    "# Definir la variable simbólica\n",
    "x = sp.Symbol('x')\n",
    "\n",
    "# Definir la función\n",
    "c1 = (x**3 + 10*x)/(sp.ln(x+2))\n",
    "\n",
    "# Derivada de la función\n",
    "derivada_c1 = sp.diff(c1,x)\n",
    "print(\"Derivada de la función\")\n",
    "display(derivada_c1)\n",
    "\n",
    "# Simplificar la derivada\n",
    "derivada_c1_simpl = sp.simplify(derivada_c1)\n",
    "print(\"Derivada de la función (Simplificada)\")\n",
    "display(derivada_c1_simpl)\n",
    "\n",
    "# Evaluar en x=5\n",
    "eval_derivada_c1 = derivada_k1.subs(x,5)\n",
    "eval_derivada_c1_simp = derivada_c1_simpl.subs(x,5)\n",
    "\n",
    "print(\"Evaluar x=5 en derivada\")\n",
    "display(eval_derivada_c1)\n",
    "print(\"Evaluación (Simplificada)\")\n",
    "display(eval_derivada_c1_simp)"
   ]
  },
  {
   "cell_type": "markdown",
   "metadata": {},
   "source": [
    "### **Ejercicio 6 - Aplicaciones en Machine Learning**\n",
    "En redes neuronales, la función de activación **sigmoide** es:\n",
    "\n",
    "$$\n",
    "\\sigma(x) = \\frac{1}{1 + e^{-x}}\n",
    "$$\n",
    "\n",
    "Calcula su derivada  y evalúa en \\( x = 0 \\), \\( x = 2 \\), y \\( x = -2 \\).\n",
    "\n",
    "---"
   ]
  },
  {
   "cell_type": "code",
   "execution_count": 32,
   "metadata": {},
   "outputs": [
    {
     "name": "stdout",
     "output_type": "stream",
     "text": [
      "Derivada de la función\n"
     ]
    },
    {
     "data": {
      "text/latex": [
       "$\\displaystyle \\frac{e^{- x}}{\\left(1 + e^{- x}\\right)^{2}}$"
      ],
      "text/plain": [
       "exp(-x)/(1 + exp(-x))**2"
      ]
     },
     "metadata": {},
     "output_type": "display_data"
    },
    {
     "name": "stdout",
     "output_type": "stream",
     "text": [
      "Derivada de la función (Simplificada)\n"
     ]
    },
    {
     "data": {
      "text/latex": [
       "$\\displaystyle \\frac{1}{4 \\cosh^{2}{\\left(\\frac{x}{2} \\right)}}$"
      ],
      "text/plain": [
       "1/(4*cosh(x/2)**2)"
      ]
     },
     "metadata": {},
     "output_type": "display_data"
    },
    {
     "name": "stdout",
     "output_type": "stream",
     "text": [
      "Evaluar x=0 en derivada\n"
     ]
    },
    {
     "data": {
      "text/latex": [
       "$\\displaystyle \\frac{1}{4}$"
      ],
      "text/plain": [
       "1/4"
      ]
     },
     "metadata": {},
     "output_type": "display_data"
    },
    {
     "name": "stdout",
     "output_type": "stream",
     "text": [
      "Evaluación (Simplificada)\n"
     ]
    },
    {
     "data": {
      "text/latex": [
       "$\\displaystyle \\frac{1}{4}$"
      ],
      "text/plain": [
       "1/4"
      ]
     },
     "metadata": {},
     "output_type": "display_data"
    },
    {
     "name": "stdout",
     "output_type": "stream",
     "text": [
      "Evaluar x=2 en derivada\n"
     ]
    },
    {
     "data": {
      "text/latex": [
       "$\\displaystyle \\frac{1}{\\left(e^{-2} + 1\\right)^{2} e^{2}}$"
      ],
      "text/plain": [
       "exp(-2)/(exp(-2) + 1)**2"
      ]
     },
     "metadata": {},
     "output_type": "display_data"
    },
    {
     "name": "stdout",
     "output_type": "stream",
     "text": [
      "Evaluación (Simplificada)\n"
     ]
    },
    {
     "data": {
      "text/latex": [
       "$\\displaystyle \\frac{1}{4 \\cosh^{2}{\\left(1 \\right)}}$"
      ],
      "text/plain": [
       "1/(4*cosh(1)**2)"
      ]
     },
     "metadata": {},
     "output_type": "display_data"
    },
    {
     "name": "stdout",
     "output_type": "stream",
     "text": [
      "Evaluar x=-2 en derivada\n"
     ]
    },
    {
     "data": {
      "text/latex": [
       "$\\displaystyle \\frac{1}{\\left(e^{-2} + 1\\right)^{2} e^{2}}$"
      ],
      "text/plain": [
       "exp(-2)/(exp(-2) + 1)**2"
      ]
     },
     "metadata": {},
     "output_type": "display_data"
    },
    {
     "name": "stdout",
     "output_type": "stream",
     "text": [
      "Evaluación (Simplificada)\n"
     ]
    },
    {
     "data": {
      "text/latex": [
       "$\\displaystyle \\frac{1}{4 \\cosh^{2}{\\left(1 \\right)}}$"
      ],
      "text/plain": [
       "1/(4*cosh(1)**2)"
      ]
     },
     "metadata": {},
     "output_type": "display_data"
    }
   ],
   "source": [
    "# Definir la variable simbólica\n",
    "x = sp.Symbol('x')\n",
    "\n",
    "# Definir la función\n",
    "s1 = 1/(1+sp.exp(-x))\n",
    "\n",
    "# Derivada de la función\n",
    "derivada_s1 = sp.diff(s1,x)\n",
    "print(\"Derivada de la función\")\n",
    "display(derivada_s1)\n",
    "\n",
    "# Simplificar la derivada\n",
    "derivada_s1_simpl = sp.simplify(derivada_s1)\n",
    "print(\"Derivada de la función (Simplificada)\")\n",
    "display(derivada_s1_simpl)\n",
    "\n",
    "# Evaluar en x=0\n",
    "eval_derivada_s1 = derivada_s1.subs(x,0)\n",
    "eval_derivada_s1_simp = derivada_s1_simpl.subs(x,0)\n",
    "\n",
    "print(\"Evaluar x=0 en derivada\")\n",
    "display(eval_derivada_s1)\n",
    "print(\"Evaluación (Simplificada)\")\n",
    "display(eval_derivada_s1_simp)\n",
    "\n",
    "# Evaluar en x=2\n",
    "eval_derivada_s2 = derivada_s1.subs(x,2)\n",
    "eval_derivada_s2_simp = derivada_s1_simpl.subs(x,2)\n",
    "\n",
    "print(\"Evaluar x=2 en derivada\")\n",
    "display(eval_derivada_s2)\n",
    "print(\"Evaluación (Simplificada)\")\n",
    "display(eval_derivada_s2_simp)\n",
    "\n",
    "# Evaluar en x=-2\n",
    "eval_derivada_s3 = derivada_s1.subs(x,2)\n",
    "eval_derivada_s3_simp = derivada_s1_simpl.subs(x,2)\n",
    "\n",
    "print(\"Evaluar x=-2 en derivada\")\n",
    "display(eval_derivada_s3)\n",
    "print(\"Evaluación (Simplificada)\")\n",
    "display(eval_derivada_s3_simp)\n"
   ]
  },
  {
   "cell_type": "markdown",
   "metadata": {},
   "source": [
    "### 📘 **Ejercicio 7 Programación Lineal**\n",
    "\n",
    "En este ejercicio resolverás un problema de optimización lineal utilizando dos métodos:\n",
    "- **Método Numérico**: Usando `scipy.optimize.linprog`.\n",
    "- **Método Visual**: Representando gráficamente la región factible.\n",
    "\n",
    "---\n",
    "## 🔹 **Planteamiento del Problema**\n",
    "Una empresa fabrica **cajas grandes** y **cajas pequeñas**. Cada caja grande genera **$7 de ganancia** y cada caja pequeña **$4**. \n",
    "\n",
    "### **Restricciones:**\n",
    "- **Disponibilidad de cartón**: Se tienen **50 unidades de cartón**.\n",
    "- **Disponibilidad de mano de obra**: Hay **30 horas disponibles**.\n",
    "\n",
    "Cada tipo de caja requiere los siguientes recursos:\n",
    "- **Caja grande**: 5 unidades de cartón y 2 horas de trabajo.\n",
    "- **Caja pequeña**: 3 unidades de cartón y 4 horas de trabajo.\n",
    "\n",
    "📌 **Objetivo**: Determinar cuántas **cajas grandes** y **cajas pequeñas** deben producirse para **maximizar la ganancia**.\n",
    "\n",
    "Resuelve el ejercicio en las celdas markdown/python que sean necesarias a partir de la siguiente:"
   ]
  },
  {
   "cell_type": "code",
   "execution_count": 10,
   "metadata": {},
   "outputs": [
    {
     "data": {
      "text/plain": [
       "(np.float64(10.0), np.float64(0.0), 70.0)"
      ]
     },
     "execution_count": 10,
     "metadata": {},
     "output_type": "execute_result"
    }
   ],
   "source": [
    "from scipy.optimize import linprog\n",
    "\n",
    "# Coeficientes de la función objetivo (maximizar 7x1 + 4x2)\n",
    "c = [-7, -4]  # Se usan negativos porque linprog minimiza por defecto\n",
    "\n",
    "# Coeficientes de las restricciones (LHS)\n",
    "A = [\n",
    "    [5, 3],  # Restricción de unidades de carton [Caja grande, Caja pequeña] \n",
    "    [2, 4]   # Restricción de mano de obra disponible [Caja grande, Caja pequeña] \n",
    "]\n",
    "\n",
    "# Lado derecho de las restricciones (RHS)\n",
    "b = [50, 30] # [Disponibilidad de Cartón , Disponibilidad de horas]\n",
    "\n",
    "# Límites de las variables (no pueden ser negativas)\n",
    "# x_bounds = [(lower_x1, upper_x1), (lower_x2, upper_x2)]\n",
    "# None si no hay límite, o si el limite es infinito\n",
    "x_bounds = [(0, None), (0, None)]\n",
    "\n",
    "# Resolver el problema usando el método símplex\n",
    "resultado = linprog(c, A_ub=A, b_ub=b, bounds=x_bounds, method=\"highs\")\n",
    "\n",
    "# Obtener los valores óptimos de las variables y la ganancia máxima\n",
    "solucion_x1 = resultado.x[0]\n",
    "solucion_x2 = resultado.x[1]\n",
    "ganancia_maxima = -resultado.fun  # Se invierte el signo para obtener la maximización\n",
    "\n",
    "solucion_x1, solucion_x2, ganancia_maxima"
   ]
  },
  {
   "cell_type": "code",
   "execution_count": 15,
   "metadata": {},
   "outputs": [
    {
     "data": {
      "image/png": "[encoded data removed]",
      "text/plain": [
       "<Figure size 800x600 with 1 Axes>"
      ]
     },
     "metadata": {},
     "output_type": "display_data"
    }
   ],
   "source": [
    "\n",
    "import numpy as np\n",
    "import matplotlib.pyplot as plt\n",
    "\n",
    "\n",
    "# cada caja grande require 5 unidades de carton, en 50 unidades de cartón\n",
    "# Crear el espacio de valores para x1 y x2\n",
    "x1_valores = np.linspace(0, 12, 100)\n",
    "\n",
    "x2_valores_carton = (50 - 5*x1_valores) / 3  # Restricción de unidades de carton despejando x2\n",
    "x2_valores_horas = (30 - 2*x1_valores) / 4  # Restricción de horas de trabajo despejando x2\n",
    "\n",
    "# Configurar el gráfico\n",
    "plt.figure(figsize=(8, 6))\n",
    "plt.xlim(0, 12)\n",
    "plt.ylim(0, 10)\n",
    "\n",
    "# Dibujar las restricciones\n",
    "plt.plot(x1_valores, x2_valores_carton, label=r'$5x_1 + 3x_2 \\leq 50$', color=\"blue\")\n",
    "plt.plot(x1_valores, x2_valores_horas, label=r'$2x_1 + 4x_2 \\leq 30$', color=\"green\")\n",
    "\n",
    "# Rellenar la región factible\n",
    "plt.fill_between(x1_valores, np.minimum(x2_valores_carton, x2_valores_horas), 0, color='gray', alpha=0.3)\n",
    "\n",
    "# Marcar la solución óptima\n",
    "plt.scatter(10, 0, color=\"red\", zorder=3, label=\"Solución óptima (10,0)\")\n",
    "\n",
    "# Etiquetas y título\n",
    "plt.xlabel(r'$x_1$ (Caja Grande)')\n",
    "plt.ylabel(r'$x_2$ (Caja Pequeña)')\n",
    "plt.title(\"Región Factible y Solución Óptima\")\n",
    "plt.axhline(0, color='black', linewidth=1)\n",
    "plt.axvline(0, color='black', linewidth=1)\n",
    "plt.legend()\n",
    "plt.grid()\n",
    "\n",
    "# Mostrar el gráfico\n",
    "plt.show()"
   ]
  },
  {
   "cell_type": "markdown",
   "metadata": {},
   "source": [
    "## 🔥 **Preguntas para Reflexión**\n",
    "1️⃣ **Método Numérico:** ¿Cuáles son los valores óptimos de producción obtenidos con `linprog`? ¿Cómo se interpreta la ganancia máxima?\n",
    "\n",
    "R = Al utilizar la libreria `linprog`, nos arroja como resultado que la combinación más eficiente para la producción teniendo en cuenta las limitaciones de diponibilidad en las unidades de cartón y horas de trabajo, es de fabricar (10 cajas grandes y 0 cajas pequeñas), pues al considerar las ganancias de cada caja como la función objetivo nos da una ganancia máxima de ($70)\n",
    "\n",
    "\n",
    "2️⃣ **Método Visual:** ¿Coincide la solución gráfica con la obtenida numéricamente? ¿Cómo podrías verificar la solución visualmente?\n",
    "\n",
    "R = Sí, ambas soluciones coinciden con los valores óptimos de producción. Pues  al trazar ambas restricciones y de esta manera visualizar la región factible entre ellas (área sombreada gris). Podemos apreciar que el punto óptimo se encuentra en el vértice de el polígono que se genera, siendo el punto más alejado y posible de acuerdo a las condiciones de frontera que se tienen como lo son las horas de trabajo y unidades de cartón.\n",
    "\n",
    "\n",
    "\n",
    "3️⃣ **Interpretación:** ¿Cómo impactarían cambios en la disponibilidad de cartón o mano de obra en la solución?\n",
    "\n",
    "R = Al realizar un cambio en alguna de estas variables de restricción, cambiaría por completo el resultado óptimo de producción. Pues si se tiene una mayor cantidad de horas o de unidades de cartón, se esperaría que incremente la región factible de combinaciones de ambas cajas y del mismo modo se presentaría una disminución al contar con menos recursos y horas, reduciendo el numero de posibilidades y de ganancia máxima.\n",
    "\n",
    "\n",
    "\n",
    "4️⃣ **Extensión:** ¿Cómo modificarías el modelo si la empresa decide producir un tercer tipo de caja con nuevas restricciones?\n",
    "\n",
    "\n",
    "R = Tendríamos que añadir una nueva variable (Nuevo tamaño de caja). Para posteriormente actualizar nuestra nueva función objetivo con la ganancia por esta nueva caja. \n",
    "\n",
    "Además de añadir esta nueva variable a nuestras dos restricciones.  \n",
    "\n",
    "Es importante tener en cuenta que debemos de despejar las funciones a un solo termino (x1) para su visualización en el plano de dos dimensiones.\n",
    "\n"
   ]
  },
  {
   "cell_type": "markdown",
   "metadata": {},
   "source": [
    "### 📘 **Ejercicio 8 (Avanzado de Programación Lineal)**\n",
    "\n",
    "En este ejercicio resolverás un problema complejo de optimización lineal utilizando:\n",
    "- **Método Numérico**: `scipy.optimize.linprog`.\n",
    "\n",
    "El método visual no será necesario porque son 3 variables. \n",
    "\n",
    "---\n",
    "## 🔹 **Planteamiento del Problema**\n",
    "Una empresa fabrica **tres tipos de productos**: **A, B y C**. \n",
    "Cada producto genera una ganancia distinta:\n",
    "- **Producto A**: $10 de ganancia\n",
    "- **Producto B**: $15 de ganancia\n",
    "- **Producto C**: $25 de ganancia\n",
    "\n",
    "### **Restricciones:**\n",
    "- **Disponibilidad de materia prima**: 80 unidades disponibles.\n",
    "- **Disponibilidad de horas de trabajo**: 100 horas disponibles.\n",
    "- **Capacidad de producción diaria**: Máximo 30 unidades en total.\n",
    "\n",
    "Cada producto requiere los siguientes recursos:\n",
    "| Producto | Materia Prima | Horas de Trabajo |\n",
    "|----------|--------------|------------------|\n",
    "| A        | 4            | 5                |\n",
    "| B        | 6            | 3                |\n",
    "| C        | 5            | 8                |\n",
    "\n",
    "📌 **Objetivo**: Determinar cuántas unidades de cada producto deben producirse para **maximizar la ganancia**.\n",
    "\n",
    "Resuelve el ejercicio en las celdas markdown/python que sean necesarias a partir de la siguiente:"
   ]
  },
  {
   "cell_type": "code",
   "execution_count": 20,
   "metadata": {},
   "outputs": [
    {
     "data": {
      "text/plain": [
       "(0.0, 4.0, 11.0, 70.0)"
      ]
     },
     "execution_count": 20,
     "metadata": {},
     "output_type": "execute_result"
    }
   ],
   "source": [
    "\n",
    "from pulp import LpMaximize, LpProblem, LpVariable, lpSum\n",
    "\n",
    "# Crear el modelo de maximización\n",
    "modelo = LpProblem(\"Maximización_ganancia\", LpMaximize)\n",
    "\n",
    "# Definir variables enteras\n",
    "x1 = LpVariable(\"x1\", lowBound=0, cat=\"Integer\")\n",
    "x2 = LpVariable(\"x2\", lowBound=0, cat=\"Integer\")\n",
    "x3 = LpVariable(\"x3\", lowBound=0, cat=\"Integer\")\n",
    "\n",
    "# Definir la función objetivo (Maximizar la ganancia)\n",
    "modelo += 10*x1 + 15*x2 + 25*x3\n",
    "\n",
    "# Restricciones\n",
    "modelo += 4*x1 + 6*x2 + 5*x3 <= 80  # Restricción de materia prima\n",
    "modelo += 5*x1 + 3*x2 +8*x3 <= 100  # Restricción de horas de trabajo\n",
    "modelo += x1 +x2 +x3 <=30 # Restricción de capacidad de producción\n",
    "\n",
    "# Resolver el problema \n",
    "modelo.solve()\n",
    "\n",
    "# Obtener la solución\n",
    "solucion_x1 = x1.varValue\n",
    "solucion_x2 = x2.varValue\n",
    "solucion_x3 = x3.varValue\n",
    "ganacia_maxima = modelo.objective.value()\n",
    "\n",
    "solucion_x1, solucion_x2, solucion_x3, ganancia_maxima\n"
   ]
  },
  {
   "cell_type": "code",
   "execution_count": 21,
   "metadata": {},
   "outputs": [
    {
     "data": {
      "text/plain": [
       "(0.0, 9.0, 9.0, 70.0)"
      ]
     },
     "execution_count": 21,
     "metadata": {},
     "output_type": "execute_result"
    }
   ],
   "source": [
    "# Si cambiamos la disponbilidad de Materia prima a 100\n",
    "from pulp import LpMaximize, LpProblem, LpVariable, lpSum\n",
    "\n",
    "# Crear el modelo de maximización\n",
    "modelo = LpProblem(\"Maximización_ganancia\", LpMaximize)\n",
    "\n",
    "# Definir variables enteras\n",
    "x1 = LpVariable(\"x1\", lowBound=0, cat=\"Integer\")\n",
    "x2 = LpVariable(\"x2\", lowBound=0, cat=\"Integer\")\n",
    "x3 = LpVariable(\"x3\", lowBound=0, cat=\"Integer\")\n",
    "\n",
    "# Definir la función objetivo (Maximizar la ganancia)\n",
    "modelo += 10*x1 + 15*x2 + 25*x3\n",
    "\n",
    "# Restricciones\n",
    "modelo += 4*x1 + 6*x2 + 5*x3 <= 100  # Restricción de materia prima\n",
    "modelo += 5*x1 + 3*x2 +8*x3 <= 100  # Restricción de horas de trabajo\n",
    "modelo += x1 +x2 +x3 <=30 # Restricción de capacidad de producción\n",
    "\n",
    "# Resolver el problema \n",
    "modelo.solve()\n",
    "\n",
    "# Obtener la solución\n",
    "solucion_x1 = x1.varValue\n",
    "solucion_x2 = x2.varValue\n",
    "solucion_x3 = x3.varValue\n",
    "ganacia_maxima = modelo.objective.value()\n",
    "\n",
    "solucion_x1, solucion_x2, solucion_x3, ganancia_maxima"
   ]
  },
  {
   "cell_type": "markdown",
   "metadata": {},
   "source": [
    "## 🔥 **Preguntas para Reflexión**\n",
    "1️⃣ **Método Numérico:** ¿Cuáles son los valores óptimos de producción obtenidos con `linprog`? ¿Cómo se interpreta la ganancia máxima?\n",
    "\n",
    "R = Al utilizar la libreria `linprog`, nos arroja como resultado que la combinación más eficiente para la producción teniendo en cuenta las limitaciones de diponibilidad de materias primas, horas de trabajo y producción diaria, es de fabricar (Producto A:0, Producto B:4, Producción C:11), pues al considerar las ganancias de cada producto dentro de la función objetivo nos da una ganancia máxima de ($70)\n",
    "\n",
    "2️⃣ **Interpretación:** ¿Cómo cambiaría la solución si la disponibilidad de materia prima aumenta a 100 unidades?\n",
    "\n",
    "R = Al cambiar la disponibilidad de materia prima a 100 unidades, lo que tenemos que ajustar es el valor dentro de la función de restricción de materias primas. Lo que cambia la solución óptima, disminuyendo la cantidad de productos C (9) y aumentando la cantidad de Productos B (9).\n",
    "\n",
    "4️⃣ **Extensión:** Si agregáramos restricciones de almacenamiento o demanda mínima de productos, ¿cómo modificarías el modelo?\n",
    "\n",
    "R = En el apartado de restricciones. Tendriamos que generar dos funciones nuevas, una de acuerdo al almacenamiento haciendo una suma de los tres productos en el lado izquierdo y en el lado derecho la restricción de almacenamiento. En cambio para la restricción de demanda mínima, tendriamos que conocer los valores para cada uno de los productos, para podeer multiplicarlos y hacer la suma en el lado izquierdo y en el derecho ingresar la restricción del problema.\n",
    "\n"
   ]
  }
 ],
 "metadata": {
  "kernelspec": {
   "display_name": "Python 3",
   "language": "python",
   "name": "python3"
  },
  "language_info": {
   "codemirror_mode": {
    "name": "ipython",
    "version": 3
   },
   "file_extension": ".py",
   "mimetype": "text/x-python",
   "name": "python",
   "nbconvert_exporter": "python",
   "pygments_lexer": "ipython3",
   "version": "3.13.1"
  }
 },
 "nbformat": 4,
 "nbformat_minor": 2
}
