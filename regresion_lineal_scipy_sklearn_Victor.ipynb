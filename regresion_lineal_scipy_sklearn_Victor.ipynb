{
 "cells": [
  {
   "cell_type": "markdown",
   "id": "a775c791",
   "metadata": {},
   "source": [
    "## Fundamentos Matemáticos de la Regresión Lineal\n",
    "\n",
    "La **regresión lineal** es un modelo estadístico que busca encontrar la mejor relación lineal entre una variable dependiente \\( y \\) y una o más variables independientes \\( X \\).\n",
    "\n",
    "El modelo se expresa como:\n",
    "\n",
    "$$ y = \\beta_0 + \\beta_1 X + \\epsilon $$\n",
    "\n",
    "Donde:\n",
    "- \\( y \\) es la variable dependiente.\n",
    "- \\( X \\) es la variable independiente.\n",
    "- \\( beta_0 \\) es el intercepto (término independiente).\n",
    "- \\( beta_1 \\) es la pendiente del modelo.\n",
    "- \\( epsilon \\) es un término de error aleatorio (opcional).\n",
    "\n",
    "El objetivo de la regresión lineal es encontrar los valores óptimos de \\( beta_0 \\) y \\( beta_1 \\) que minimicen la diferencia entre los valores predichos y los valores reales.\n",
    "\n",
    "ϵ es el término de error o residuo, que representa la diferencia entre los valores reales \n",
    "𝑦\n",
    "y y los valores predichos por el modelo."
   ]
  },
  {
   "cell_type": "markdown",
   "id": "29a34f7b",
   "metadata": {},
   "source": [
    "# Intercepto y Pendiente en Regresión Lineal\n",
    "\n",
    "En la **regresión lineal**, la relación entre una variable dependiente \\( y \\) y una variable independiente \\( X \\) se modela con la ecuación:\n",
    "\n",
    "$$\n",
    "y = \\beta_0 + \\beta_1 X + \\epsilon\n",
    "$$\n",
    "\n",
    "Donde:\n",
    "\n",
    "- \\( y \\) es la variable dependiente (lo que queremos predecir).\n",
    "- \\( X \\) es la variable independiente (predictor).\n",
    "- \\( \\beta_0 \\) es el **intercepto**.\n",
    "- \\( \\beta_1 \\) es la **pendiente**.\n",
    "- \\( \\epsilon \\) es el **error**.\n",
    "\n",
    "---\n",
    "\n",
    "## **1️⃣ Intercepto \\( beta_0 \\)**\n",
    "\n",
    "El **intercepto** representa el valor de \\( y \\) cuando \\( X = 0 \\). Es el punto donde la línea de regresión cruza el eje \\( y \\).\n",
    "\n",
    "Si el modelo es:\n",
    "\n",
    "$$\n",
    "y = 5 + 2X\n",
    "$$\n",
    "\n",
    "- Cuando \\( X = 0 \\), entonces \\( y = 5 \\).\n",
    "- Esto significa que si la variable independiente es cero, la variable dependiente tendrá un valor de **5**.\n",
    "\n",
    "### **Ejemplo Real**\n",
    "Si estamos prediciendo el salario en función de los años de experiencia:\n",
    "\n",
    "$$\n",
    "\\text{Salario} = 20,000 + 3,000 \\times \\text{Años de experiencia}\n",
    "$$\n",
    "\n",
    "Aquí:\n",
    "- **El intercepto \\( 20,000 \\)** significa que una persona con **0 años de experiencia** tendrá un salario base de **20,000**.\n",
    "\n",
    "---\n",
    "\n",
    "## **2️⃣ Pendiente \\( beta_1 \\)**\n",
    "\n",
    "La **pendiente** indica cuánto cambia \\( y \\) cuando \\( X \\) aumenta en una unidad.\n",
    "\n",
    "$$\n",
    "\\beta_1 = \\frac{\\Delta y}{\\Delta X}\n",
    "$$\n",
    "\n",
    "Si el modelo es:\n",
    "\n",
    "$$\n",
    "y = 5 + 2X\n",
    "$$\n",
    "\n",
    "- La pendiente es **2**, lo que significa que **por cada aumento de 1 en \\( X \\)**, \\( y \\) **aumenta en 2**.\n",
    "\n",
    "### **Ejemplo Real**\n",
    "En el modelo de salario:\n",
    "\n",
    "$$\n",
    "\\text{Salario} = 20,000 + 3,000 \\times \\text{Años de experiencia}\n",
    "$$\n",
    "\n",
    "- **La pendiente \\( 3,000 \\)** significa que **por cada año adicional de experiencia**, el salario esperado **aumenta en 3,000**.\n",
    "\n",
    "---\n"
   ]
  },
  {
   "cell_type": "markdown",
   "id": "a896a2d2",
   "metadata": {},
   "source": [
    "## Función de Costo en Regresión Lineal\n",
    "\n",
    "Para encontrar los coeficientes óptimos \\( beta_0 \\) y \\( beta_1 \\), utilizamos una función de costo que mida el error entre las predicciones del modelo y los valores reales.\n",
    "\n",
    "La función de costo más común es la de **mínimos cuadrados**, que se define como:\n",
    "\n",
    "$$ J(\\mathbf{\\beta}) = \\frac{1}{n} \\sum_{i=1}^{n} (y_i - (\\beta_0 + \\beta_1 X_i))^2 $$\n",
    "\n",
    "Esta función representa el error cuadrático medio entre los valores observados \\( y_i \\) y los valores predichos por el modelo \n",
    "$$ y_i - (\\beta_0 + \\beta_1 X_i) $$\n",
    "\n",
    "Minimizar esta función nos permite encontrar los valores óptimos de $$ \\mathbf{\\beta} $$ que mejor se ajustan a los datos."
   ]
  },
  {
   "cell_type": "markdown",
   "id": "9c96f359",
   "metadata": {},
   "source": [
    "## Solución por Mínimos Cuadrados\n",
    "\n",
    "La minimización de la función de costo se puede hacer de manera analítica utilizando la ecuación normal:\n",
    "\n",
    "$$ \\mathbf{\\beta} = (X^T X)^{-1} X^T y $$\n",
    "\n",
    "El vector de coeficientes beta es igual al inverso del producto de la transpuesta de X por X, multiplicado por la transpuesta de X y luego por el vector de respuestas y\n",
    "\n",
    "Donde:\n",
    "- \\( X \\) es la matriz de diseño que contiene las variables independientes (con una columna de unos para el intercepto).\n",
    "- \\( y \\) es el vector de valores observados.\n",
    "- \\( beta \\) es el vector de coeficientes estimados.\n",
    "\n",
    "Este método nos da una solución cerrada para los coeficientes de la regresión. Sin embargo, también podemos resolver el problema utilizando **optimización numérica** con `scipy.optimize.minimize`."
   ]
  },
  {
   "cell_type": "markdown",
   "id": "4ee3b6f8",
   "metadata": {},
   "source": [
    "## Función de Costo y Optimización en Regresión Lineal\n",
    "\n",
    "En un problema de regresión lineal, buscamos los coeficientes óptimos minimizando una función de costo. La más común es la de **mínimos cuadrados**:\n",
    "\n",
    "$$ J(\\beta) = \\frac{1}{n} \\sum_{i=1}^{n} (Y_i - X_i \\beta)^2 $$\n",
    "\n",
    "En esta actividad, implementaremos un modelo que minimice esta función utilizando `scipy.optimize.minimize` y validaremos los resultados contra `sklearn.linear_model.LinearRegression`."
   ]
  },
  {
   "cell_type": "markdown",
   "id": "7757f72b",
   "metadata": {},
   "source": [
    "### Visualización de Datos\n",
    "\n",
    "Antes de entrenar el modelo, analizamos visualmente la relación entre las variables."
   ]
  },
  {
   "cell_type": "code",
   "execution_count": 9,
   "id": "907a17c9",
   "metadata": {},
   "outputs": [
    {
     "data": {
      "image/png": "[encoded data removed]",
      "text/plain": [
       "<Figure size 640x480 with 1 Axes>"
      ]
     },
     "metadata": {},
     "output_type": "display_data"
    }
   ],
   "source": [
    "import numpy as np\n",
    "import matplotlib.pyplot as plt\n",
    "\n",
    "# Generar datos sintéticos\n",
    "np.random.seed(42)\n",
    "X = 2 * np.random.rand(100, 1)\n",
    "y = 4 + 3 * X + np.random.randn(100, 1)\n",
    "\n",
    "# Visualización\n",
    "plt.scatter(X, y, alpha=0.6)\n",
    "plt.xlabel('X')\n",
    "plt.ylabel('Y')\n",
    "plt.title('Visualización de Datos')\n",
    "plt.show()"
   ]
  },
  {
   "cell_type": "markdown",
   "id": "376713d4",
   "metadata": {},
   "source": [
    "### Solución a igualar"
   ]
  },
  {
   "cell_type": "code",
   "execution_count": 10,
   "id": "410d4275",
   "metadata": {},
   "outputs": [
    {
     "name": "stdout",
     "output_type": "stream",
     "text": [
      "Ecuación de sklearn: y = 4.22 + 2.77X\n"
     ]
    }
   ],
   "source": [
    "# Validación con sklearn\n",
    "from sklearn.linear_model import LinearRegression\n",
    "lin_reg = LinearRegression()\n",
    "lin_reg.fit(X, y)\n",
    "print(f'Ecuación de sklearn: y = {lin_reg.intercept_[0]:.2f} + {lin_reg.coef_[0][0]:.2f}X')"
   ]
  },
  {
   "cell_type": "code",
   "execution_count": 11,
   "id": "ecf05fc4",
   "metadata": {},
   "outputs": [
    {
     "data": {
      "image/png": "[encoded data removed]",
      "text/plain": [
       "<Figure size 640x480 with 1 Axes>"
      ]
     },
     "metadata": {},
     "output_type": "display_data"
    }
   ],
   "source": [
    "# Mostrando gráfico\n",
    "plt.scatter(X,y,color='red')\n",
    "plt.plot(X,lin_reg.predict(X),color='green')\n",
    "plt.title('Simple Linear Regression')\n",
    "plt.xlabel('X') # Funciona como variable independiente\n",
    "plt.ylabel('y') # Variable a predecir o independiente\n",
    "plt.show()"
   ]
  },
  {
   "cell_type": "markdown",
   "id": "ff594008",
   "metadata": {},
   "source": [
    "## Ejercicio 1: Implementación de Regresión Lineal con scipy.optimize.minimize\n",
    "Observa que \n",
    "- Ya tienes definida X e y.\n",
    "- Te ayudé con la definición de tu beta inicial.\n",
    "\n",
    "Qué harás?\n",
    "- Define la función de costo"
   ]
  },
  {
   "cell_type": "code",
   "execution_count": 56,
   "id": "9ab9dc55",
   "metadata": {},
   "outputs": [
    {
     "name": "stdout",
     "output_type": "stream",
     "text": [
      "Coeficientes óptimos: Intercepto = -0.1177, Pendiente = 0.4172129\n",
      "Ecuación y = -0.12 + 0.4172129X\n"
     ]
    }
   ],
   "source": [
    "import numpy as np\n",
    "from scipy.optimize import minimize\n",
    "\n",
    "# Generar datos sintéticos\n",
    "np.random.seed(42)\n",
    "X=np.random.uniform(-np.pi*3/4,np.pi,100)\n",
    "X.sort()\n",
    "y=np.sin(X)+np.random.uniform(-0.5,0.5,100)\n",
    "\n",
    "# Agregar columna de unos para el intercepto\n",
    "X_b = np.c_[np.ones((X.shape[0], 1)), X]\n",
    "\n",
    "# Definir la función de costo\n",
    "def criterio_opt(beta, X, y):\n",
    "    # completa esta función y su retorno\n",
    "    criterio_opt =  y - (np.dot(X, beta))\n",
    "    return np.mean(criterio_opt**2)\n",
    "\n",
    "# Estimación de parámetros con optimización\n",
    "beta_inicial = np.zeros(X_b.shape[1])\n",
    "resultado = minimize(criterio_opt, beta_inicial, args=(X_b, y), method='BFGS')\n",
    "\n",
    "# Coeficientes óptimos obtenidos\n",
    "beta_optimo = resultado.x\n",
    "print(f'Coeficientes óptimos: Intercepto = {beta_optimo[0]:.4f}, Pendiente = {beta_optimo[1]:.7f}')\n",
    "print(f'Ecuación y = {beta_optimo[0]:.2f} + {beta_optimo[1]:.7f}X')"
   ]
  },
  {
   "cell_type": "code",
   "execution_count": 57,
   "id": "f23bdf8a",
   "metadata": {},
   "outputs": [
    {
     "data": {
      "text/plain": [
       "array([[ 1.        , -2.32583507],\n",
       "       [ 1.        , -2.24302532],\n",
       "       [ 1.        , -2.21644554],\n",
       "       [ 1.        , -2.16713372],\n",
       "       [ 1.        , -2.10754448],\n",
       "       [ 1.        , -2.10082001],\n",
       "       [ 1.        , -2.03686315],\n",
       "       [ 1.        , -2.00676421],\n",
       "       [ 1.        , -1.99855468],\n",
       "       [ 1.        , -1.94911276],\n",
       "       [ 1.        , -1.94633092],\n",
       "       [ 1.        , -1.86968155],\n",
       "       [ 1.        , -1.819214  ],\n",
       "       [ 1.        , -1.76303039],\n",
       "       [ 1.        , -1.71917106],\n",
       "       [ 1.        , -1.69869078],\n",
       "       [ 1.        , -1.68525425],\n",
       "       [ 1.        , -1.58928694],\n",
       "       [ 1.        , -1.5814231 ],\n",
       "       [ 1.        , -1.49856982],\n",
       "       [ 1.        , -1.49843721],\n",
       "       [ 1.        , -1.41868916],\n",
       "       [ 1.        , -1.35655952],\n",
       "       [ 1.        , -1.34787553],\n",
       "       [ 1.        , -1.33990404],\n",
       "       [ 1.        , -1.27872243],\n",
       "       [ 1.        , -1.26369797],\n",
       "       [ 1.        , -1.25843054],\n",
       "       [ 1.        , -1.18879926],\n",
       "       [ 1.        , -0.93347723],\n",
       "       [ 1.        , -0.86437527],\n",
       "       [ 1.        , -0.81167635],\n",
       "       [ 1.        , -0.75507867],\n",
       "       [ 1.        , -0.7500454 ],\n",
       "       [ 1.        , -0.6835354 ],\n",
       "       [ 1.        , -0.68149283],\n",
       "       [ 1.        , -0.64647988],\n",
       "       [ 1.        , -0.64247334],\n",
       "       [ 1.        , -0.5684058 ],\n",
       "       [ 1.        , -0.56759758],\n",
       "       [ 1.        , -0.53698758],\n",
       "       [ 1.        , -0.39484064],\n",
       "       [ 1.        , -0.38542622],\n",
       "       [ 1.        , -0.34201506],\n",
       "       [ 1.        , -0.29705264],\n",
       "       [ 1.        , -0.21932948],\n",
       "       [ 1.        , -0.00566498],\n",
       "       [ 1.        ,  0.01854728],\n",
       "       [ 1.        ,  0.06367023],\n",
       "       [ 1.        ,  0.15118121],\n",
       "       [ 1.        ,  0.23994265],\n",
       "       [ 1.        ,  0.35858859],\n",
       "       [ 1.        ,  0.36618276],\n",
       "       [ 1.        ,  0.47095699],\n",
       "       [ 1.        ,  0.50302879],\n",
       "       [ 1.        ,  0.51767934],\n",
       "       [ 1.        ,  0.52880467],\n",
       "       [ 1.        ,  0.62743306],\n",
       "       [ 1.        ,  0.64950225],\n",
       "       [ 1.        ,  0.72958807],\n",
       "       [ 1.        ,  0.90077471],\n",
       "       [ 1.        ,  0.93093233],\n",
       "       [ 1.        ,  0.93510243],\n",
       "       [ 1.        ,  0.94860789],\n",
       "       [ 1.        ,  0.98395779],\n",
       "       [ 1.        ,  1.00764249],\n",
       "       [ 1.        ,  1.07056594],\n",
       "       [ 1.        ,  1.14896078],\n",
       "       [ 1.        ,  1.28621201],\n",
       "       [ 1.        ,  1.40557305],\n",
       "       [ 1.        ,  1.52995673],\n",
       "       [ 1.        ,  1.53663782],\n",
       "       [ 1.        ,  1.56507353],\n",
       "       [ 1.        ,  1.65173175],\n",
       "       [ 1.        ,  1.65502498],\n",
       "       [ 1.        ,  1.66815239],\n",
       "       [ 1.        ,  1.82643977],\n",
       "       [ 1.        ,  1.88241896],\n",
       "       [ 1.        ,  1.88408571],\n",
       "       [ 1.        ,  1.88944287],\n",
       "       [ 1.        ,  1.90532078],\n",
       "       [ 1.        ,  1.96053582],\n",
       "       [ 1.        ,  2.05411376],\n",
       "       [ 1.        ,  2.08820206],\n",
       "       [ 1.        ,  2.12703887],\n",
       "       [ 1.        ,  2.20002793],\n",
       "       [ 1.        ,  2.22039796],\n",
       "       [ 1.        ,  2.38896443],\n",
       "       [ 1.        ,  2.40585759],\n",
       "       [ 1.        ,  2.52151232],\n",
       "       [ 1.        ,  2.56337581],\n",
       "       [ 1.        ,  2.64305553],\n",
       "       [ 1.        ,  2.71207383],\n",
       "       [ 1.        ,  2.80897071],\n",
       "       [ 1.        ,  2.86057622],\n",
       "       [ 1.        ,  2.8706304 ],\n",
       "       [ 1.        ,  2.95264489],\n",
       "       [ 1.        ,  2.97437541],\n",
       "       [ 1.        ,  2.97616343],\n",
       "       [ 1.        ,  3.06949982]])"
      ]
     },
     "execution_count": 57,
     "metadata": {},
     "output_type": "execute_result"
    }
   ],
   "source": [
    "X_b"
   ]
  },
  {
   "cell_type": "code",
   "execution_count": 58,
   "id": "22215222",
   "metadata": {},
   "outputs": [
    {
     "data": {
      "text/plain": [
       "array([0., 0.])"
      ]
     },
     "execution_count": 58,
     "metadata": {},
     "output_type": "execute_result"
    }
   ],
   "source": [
    "# Observa la forma de beta inicial\n",
    "beta_inicial"
   ]
  },
  {
   "cell_type": "code",
   "execution_count": 64,
   "id": "d289b4a3",
   "metadata": {},
   "outputs": [
    {
     "data": {
      "image/png": "[encoded data removed]",
      "text/plain": [
       "<Figure size 640x480 with 1 Axes>"
      ]
     },
     "metadata": {},
     "output_type": "display_data"
    }
   ],
   "source": [
    "# Solución visual\n",
    "plt.scatter(X,y,s=5)\n",
    "f= beta_optimo[0] + np.dot(beta_optimo[1],X)\n",
    "# Completa f para visualizar los datos\n",
    "plt.plot(X,f,'r')\n",
    "plt.grid()\n",
    "\n",
    "\n"
   ]
  },
  {
   "cell_type": "markdown",
   "id": "33608f7b",
   "metadata": {},
   "source": [
    "## Ejercicio 2: Implementación de Regresión Lineal con scipy.optimize.minimize abstrayendo el concepto en una clase. \n",
    "\n",
    "Implementa la siguiente clase `RegresionLineal`, donde debes:\n",
    "\n",
    "1. **Definir la función de costo** basada en mínimos cuadrados.\n",
    "2. **Implementar el método `fit()` usando `scipy.optimize.minimize`**. El método debe encontrar los coeficientes óptimos.\n",
    "3. **Incluir un método `visualizar()` para graficar la recta ajustada**.\n",
    "4. **Implementar un método `predecir()`** para realizar predicciones.\n",
    "5. **Definir un método `mostrar_ecuacion()`** para imprimir la ecuación ajustada.\n",
    "6. **Comparar los resultados con `sklearn.linear_model.LinearRegression`**.\n",
    "7. Prueba todos los métodos con X e y definidos anterioremente. "
   ]
  },
  {
   "cell_type": "code",
   "execution_count": 74,
   "id": "530c0965",
   "metadata": {},
   "outputs": [],
   "source": [
    "import numpy as np\n",
    "import matplotlib.pyplot as plt\n",
    "from scipy.optimize import minimize\n",
    "\n",
    "class RegresionLineal:\n",
    "    def __init__(self, X, y):\n",
    "        self.X = np.c_[np.ones((X.shape[0], 1)), X]  # Agregar columna de 1s\n",
    "        self.y = y\n",
    "        self.theta = None\n",
    "\n",
    "    def funcion_costo(self, theta):\n",
    "\n",
    "        #Completa la función de costo\n",
    "        funcion_costo1 = np.dot(X.transpose,X)**-1\n",
    "        funcion_costo = funcion_costo1 * X.transpose\n",
    "        return (np.dot(funcion_costo,y))\n",
    "\n",
    "    def fit(self):\n",
    "        \"\"\"Ajusta los coeficientes usando scipy.optimize.minimize.\"\"\"\n",
    "        theta_inicial = np.zeros(self.X.shape[1])\n",
    "        resultado = minimize(self.funcion_costo, theta_inicial, method='BFGS')\n",
    "        self.theta = resultado.x\n",
    "        resultado.x\n",
    "        \n",
    "\n"
   ]
  },
  {
   "cell_type": "markdown",
   "id": "d2bfc6f0",
   "metadata": {},
   "source": [
    "### Prueba tu clase!"
   ]
  },
  {
   "cell_type": "code",
   "execution_count": 70,
   "id": "0576c90c",
   "metadata": {},
   "outputs": [],
   "source": [
    "    def visualizar(self):\n",
    "        plt.scatter(X,y,s=5)\n",
    "        f= funcion_costo\n",
    "        # Completa f para visualizar los datos\n",
    "        plt.plot(X,f,'r')\n",
    "        plt.grid()\n",
    "\n",
    "        \n",
    "        \"\"\"Grafica los datos junto con la recta ajustada.\"\"\"\n",
    "        # Completa el código para gráficar\n",
    "\n",
    "    def predecir(self, X_nuevo):\n",
    "        \"\"\"Realiza una predicción para nuevos valores de entrada.\"\"\"\n",
    "        # Completa el código para realizar una predicción de nuevos valores\n",
    "\n",
    "    def mostrar_ecuacion(self):\n",
    "        \"\"\"Imprime la ecuación de la regresión lineal.\"\"\"\n",
    "        # Completa el código para mostrar la ecuación"
   ]
  },
  {
   "cell_type": "code",
   "execution_count": 71,
   "id": "1d7932d2",
   "metadata": {},
   "outputs": [],
   "source": [
    "# Generar datos sintéticos para probar la clase RegresionLineal\n",
    "\n",
    "# Crear datos simulados\n",
    "# Generar datos sintéticos\n",
    "np.random.seed(42)\n",
    "X=np.random.uniform(-np.pi*3/4,np.pi,100)\n",
    "X.sort()\n",
    "y=np.sin(X)+np.random.uniform(-0.5,0.5,100)\n"
   ]
  },
  {
   "cell_type": "code",
   "execution_count": 73,
   "id": "a2b50ec2",
   "metadata": {},
   "outputs": [
    {
     "ename": "TypeError",
     "evalue": "unsupported operand type(s) for *: 'builtin_function_or_method' and 'float'",
     "output_type": "error",
     "traceback": [
      "\u001b[1;31m---------------------------------------------------------------------------\u001b[0m",
      "\u001b[1;31mTypeError\u001b[0m                                 Traceback (most recent call last)",
      "Cell \u001b[1;32mIn[73], line 5\u001b[0m\n\u001b[0;32m      2\u001b[0m modelo \u001b[38;5;241m=\u001b[39m RegresionLineal(X, y)\n\u001b[0;32m      4\u001b[0m \u001b[38;5;66;03m# Ajustar el modelo\u001b[39;00m\n\u001b[1;32m----> 5\u001b[0m \u001b[43mmodelo\u001b[49m\u001b[38;5;241;43m.\u001b[39;49m\u001b[43mfit\u001b[49m\u001b[43m(\u001b[49m\u001b[43m)\u001b[49m\n\u001b[0;32m      6\u001b[0m modelo\u001b[38;5;241m.\u001b[39mtheta\n",
      "Cell \u001b[1;32mIn[69], line 21\u001b[0m, in \u001b[0;36mRegresionLineal.fit\u001b[1;34m(self)\u001b[0m\n\u001b[0;32m     19\u001b[0m \u001b[38;5;250m\u001b[39m\u001b[38;5;124;03m\"\"\"Ajusta los coeficientes usando scipy.optimize.minimize.\"\"\"\u001b[39;00m\n\u001b[0;32m     20\u001b[0m theta_inicial \u001b[38;5;241m=\u001b[39m np\u001b[38;5;241m.\u001b[39mzeros(\u001b[38;5;28mself\u001b[39m\u001b[38;5;241m.\u001b[39mX\u001b[38;5;241m.\u001b[39mshape[\u001b[38;5;241m1\u001b[39m])\n\u001b[1;32m---> 21\u001b[0m resultado \u001b[38;5;241m=\u001b[39m \u001b[43mminimize\u001b[49m\u001b[43m(\u001b[49m\u001b[38;5;28;43mself\u001b[39;49m\u001b[38;5;241;43m.\u001b[39;49m\u001b[43mfuncion_costo\u001b[49m\u001b[43m,\u001b[49m\u001b[43m \u001b[49m\u001b[43mtheta_inicial\u001b[49m\u001b[43m,\u001b[49m\u001b[43m \u001b[49m\u001b[43mmethod\u001b[49m\u001b[38;5;241;43m=\u001b[39;49m\u001b[38;5;124;43m'\u001b[39;49m\u001b[38;5;124;43mBFGS\u001b[39;49m\u001b[38;5;124;43m'\u001b[39;49m\u001b[43m)\u001b[49m\n\u001b[0;32m     22\u001b[0m \u001b[38;5;28mself\u001b[39m\u001b[38;5;241m.\u001b[39mtheta \u001b[38;5;241m=\u001b[39m resultado\u001b[38;5;241m.\u001b[39mx\n\u001b[0;32m     23\u001b[0m resultado\n",
      "File \u001b[1;32mc:\\SIM-MAT_2025\\Archivos_Clase\\.venv\\Lib\\site-packages\\scipy\\optimize\\_minimize.py:733\u001b[0m, in \u001b[0;36mminimize\u001b[1;34m(fun, x0, args, method, jac, hess, hessp, bounds, constraints, tol, callback, options)\u001b[0m\n\u001b[0;32m    731\u001b[0m     res \u001b[38;5;241m=\u001b[39m _minimize_cg(fun, x0, args, jac, callback, \u001b[38;5;241m*\u001b[39m\u001b[38;5;241m*\u001b[39moptions)\n\u001b[0;32m    732\u001b[0m \u001b[38;5;28;01melif\u001b[39;00m meth \u001b[38;5;241m==\u001b[39m \u001b[38;5;124m'\u001b[39m\u001b[38;5;124mbfgs\u001b[39m\u001b[38;5;124m'\u001b[39m:\n\u001b[1;32m--> 733\u001b[0m     res \u001b[38;5;241m=\u001b[39m \u001b[43m_minimize_bfgs\u001b[49m\u001b[43m(\u001b[49m\u001b[43mfun\u001b[49m\u001b[43m,\u001b[49m\u001b[43m \u001b[49m\u001b[43mx0\u001b[49m\u001b[43m,\u001b[49m\u001b[43m \u001b[49m\u001b[43margs\u001b[49m\u001b[43m,\u001b[49m\u001b[43m \u001b[49m\u001b[43mjac\u001b[49m\u001b[43m,\u001b[49m\u001b[43m \u001b[49m\u001b[43mcallback\u001b[49m\u001b[43m,\u001b[49m\u001b[43m \u001b[49m\u001b[38;5;241;43m*\u001b[39;49m\u001b[38;5;241;43m*\u001b[39;49m\u001b[43moptions\u001b[49m\u001b[43m)\u001b[49m\n\u001b[0;32m    734\u001b[0m \u001b[38;5;28;01melif\u001b[39;00m meth \u001b[38;5;241m==\u001b[39m \u001b[38;5;124m'\u001b[39m\u001b[38;5;124mnewton-cg\u001b[39m\u001b[38;5;124m'\u001b[39m:\n\u001b[0;32m    735\u001b[0m     res \u001b[38;5;241m=\u001b[39m _minimize_newtoncg(fun, x0, args, jac, hess, hessp, callback,\n\u001b[0;32m    736\u001b[0m                              \u001b[38;5;241m*\u001b[39m\u001b[38;5;241m*\u001b[39moptions)\n",
      "File \u001b[1;32mc:\\SIM-MAT_2025\\Archivos_Clase\\.venv\\Lib\\site-packages\\scipy\\optimize\\_optimize.py:1393\u001b[0m, in \u001b[0;36m_minimize_bfgs\u001b[1;34m(fun, x0, args, jac, callback, gtol, norm, eps, maxiter, disp, return_all, finite_diff_rel_step, xrtol, c1, c2, hess_inv0, **unknown_options)\u001b[0m\n\u001b[0;32m   1390\u001b[0m \u001b[38;5;28;01mif\u001b[39;00m maxiter \u001b[38;5;129;01mis\u001b[39;00m \u001b[38;5;28;01mNone\u001b[39;00m:\n\u001b[0;32m   1391\u001b[0m     maxiter \u001b[38;5;241m=\u001b[39m \u001b[38;5;28mlen\u001b[39m(x0) \u001b[38;5;241m*\u001b[39m \u001b[38;5;241m200\u001b[39m\n\u001b[1;32m-> 1393\u001b[0m sf \u001b[38;5;241m=\u001b[39m \u001b[43m_prepare_scalar_function\u001b[49m\u001b[43m(\u001b[49m\u001b[43mfun\u001b[49m\u001b[43m,\u001b[49m\u001b[43m \u001b[49m\u001b[43mx0\u001b[49m\u001b[43m,\u001b[49m\u001b[43m \u001b[49m\u001b[43mjac\u001b[49m\u001b[43m,\u001b[49m\u001b[43m \u001b[49m\u001b[43margs\u001b[49m\u001b[38;5;241;43m=\u001b[39;49m\u001b[43margs\u001b[49m\u001b[43m,\u001b[49m\u001b[43m \u001b[49m\u001b[43mepsilon\u001b[49m\u001b[38;5;241;43m=\u001b[39;49m\u001b[43meps\u001b[49m\u001b[43m,\u001b[49m\n\u001b[0;32m   1394\u001b[0m \u001b[43m                              \u001b[49m\u001b[43mfinite_diff_rel_step\u001b[49m\u001b[38;5;241;43m=\u001b[39;49m\u001b[43mfinite_diff_rel_step\u001b[49m\u001b[43m)\u001b[49m\n\u001b[0;32m   1396\u001b[0m f \u001b[38;5;241m=\u001b[39m sf\u001b[38;5;241m.\u001b[39mfun\n\u001b[0;32m   1397\u001b[0m myfprime \u001b[38;5;241m=\u001b[39m sf\u001b[38;5;241m.\u001b[39mgrad\n",
      "File \u001b[1;32mc:\\SIM-MAT_2025\\Archivos_Clase\\.venv\\Lib\\site-packages\\scipy\\optimize\\_optimize.py:291\u001b[0m, in \u001b[0;36m_prepare_scalar_function\u001b[1;34m(fun, x0, jac, args, bounds, epsilon, finite_diff_rel_step, hess)\u001b[0m\n\u001b[0;32m    287\u001b[0m     bounds \u001b[38;5;241m=\u001b[39m (\u001b[38;5;241m-\u001b[39mnp\u001b[38;5;241m.\u001b[39minf, np\u001b[38;5;241m.\u001b[39minf)\n\u001b[0;32m    289\u001b[0m \u001b[38;5;66;03m# ScalarFunction caches. Reuse of fun(x) during grad\u001b[39;00m\n\u001b[0;32m    290\u001b[0m \u001b[38;5;66;03m# calculation reduces overall function evaluations.\u001b[39;00m\n\u001b[1;32m--> 291\u001b[0m sf \u001b[38;5;241m=\u001b[39m \u001b[43mScalarFunction\u001b[49m\u001b[43m(\u001b[49m\u001b[43mfun\u001b[49m\u001b[43m,\u001b[49m\u001b[43m \u001b[49m\u001b[43mx0\u001b[49m\u001b[43m,\u001b[49m\u001b[43m \u001b[49m\u001b[43margs\u001b[49m\u001b[43m,\u001b[49m\u001b[43m \u001b[49m\u001b[43mgrad\u001b[49m\u001b[43m,\u001b[49m\u001b[43m \u001b[49m\u001b[43mhess\u001b[49m\u001b[43m,\u001b[49m\n\u001b[0;32m    292\u001b[0m \u001b[43m                    \u001b[49m\u001b[43mfinite_diff_rel_step\u001b[49m\u001b[43m,\u001b[49m\u001b[43m \u001b[49m\u001b[43mbounds\u001b[49m\u001b[43m,\u001b[49m\u001b[43m \u001b[49m\u001b[43mepsilon\u001b[49m\u001b[38;5;241;43m=\u001b[39;49m\u001b[43mepsilon\u001b[49m\u001b[43m)\u001b[49m\n\u001b[0;32m    294\u001b[0m \u001b[38;5;28;01mreturn\u001b[39;00m sf\n",
      "File \u001b[1;32mc:\\SIM-MAT_2025\\Archivos_Clase\\.venv\\Lib\\site-packages\\scipy\\optimize\\_differentiable_functions.py:223\u001b[0m, in \u001b[0;36mScalarFunction.__init__\u001b[1;34m(self, fun, x0, args, grad, hess, finite_diff_rel_step, finite_diff_bounds, epsilon)\u001b[0m\n\u001b[0;32m    220\u001b[0m     finite_diff_options[\u001b[38;5;124m\"\u001b[39m\u001b[38;5;124mas_linear_operator\u001b[39m\u001b[38;5;124m\"\u001b[39m] \u001b[38;5;241m=\u001b[39m \u001b[38;5;28;01mTrue\u001b[39;00m\n\u001b[0;32m    222\u001b[0m \u001b[38;5;66;03m# Initial function evaluation\u001b[39;00m\n\u001b[1;32m--> 223\u001b[0m \u001b[38;5;28;43mself\u001b[39;49m\u001b[38;5;241;43m.\u001b[39;49m\u001b[43m_update_fun\u001b[49m\u001b[43m(\u001b[49m\u001b[43m)\u001b[49m\n\u001b[0;32m    225\u001b[0m \u001b[38;5;66;03m# Initial gradient evaluation\u001b[39;00m\n\u001b[0;32m    226\u001b[0m \u001b[38;5;28mself\u001b[39m\u001b[38;5;241m.\u001b[39m_wrapped_grad, \u001b[38;5;28mself\u001b[39m\u001b[38;5;241m.\u001b[39m_ngev \u001b[38;5;241m=\u001b[39m _wrapper_grad(\n\u001b[0;32m    227\u001b[0m     grad,\n\u001b[0;32m    228\u001b[0m     fun\u001b[38;5;241m=\u001b[39m\u001b[38;5;28mself\u001b[39m\u001b[38;5;241m.\u001b[39m_wrapped_fun,\n\u001b[0;32m    229\u001b[0m     args\u001b[38;5;241m=\u001b[39margs,\n\u001b[0;32m    230\u001b[0m     finite_diff_options\u001b[38;5;241m=\u001b[39mfinite_diff_options\n\u001b[0;32m    231\u001b[0m )\n",
      "File \u001b[1;32mc:\\SIM-MAT_2025\\Archivos_Clase\\.venv\\Lib\\site-packages\\scipy\\optimize\\_differentiable_functions.py:295\u001b[0m, in \u001b[0;36mScalarFunction._update_fun\u001b[1;34m(self)\u001b[0m\n\u001b[0;32m    293\u001b[0m \u001b[38;5;28;01mdef\u001b[39;00m\u001b[38;5;250m \u001b[39m\u001b[38;5;21m_update_fun\u001b[39m(\u001b[38;5;28mself\u001b[39m):\n\u001b[0;32m    294\u001b[0m     \u001b[38;5;28;01mif\u001b[39;00m \u001b[38;5;129;01mnot\u001b[39;00m \u001b[38;5;28mself\u001b[39m\u001b[38;5;241m.\u001b[39mf_updated:\n\u001b[1;32m--> 295\u001b[0m         fx \u001b[38;5;241m=\u001b[39m \u001b[38;5;28;43mself\u001b[39;49m\u001b[38;5;241;43m.\u001b[39;49m\u001b[43m_wrapped_fun\u001b[49m\u001b[43m(\u001b[49m\u001b[38;5;28;43mself\u001b[39;49m\u001b[38;5;241;43m.\u001b[39;49m\u001b[43mx\u001b[49m\u001b[43m)\u001b[49m\n\u001b[0;32m    296\u001b[0m         \u001b[38;5;28;01mif\u001b[39;00m fx \u001b[38;5;241m<\u001b[39m \u001b[38;5;28mself\u001b[39m\u001b[38;5;241m.\u001b[39m_lowest_f:\n\u001b[0;32m    297\u001b[0m             \u001b[38;5;28mself\u001b[39m\u001b[38;5;241m.\u001b[39m_lowest_x \u001b[38;5;241m=\u001b[39m \u001b[38;5;28mself\u001b[39m\u001b[38;5;241m.\u001b[39mx\n",
      "File \u001b[1;32mc:\\SIM-MAT_2025\\Archivos_Clase\\.venv\\Lib\\site-packages\\scipy\\optimize\\_differentiable_functions.py:21\u001b[0m, in \u001b[0;36m_wrapper_fun.<locals>.wrapped\u001b[1;34m(x)\u001b[0m\n\u001b[0;32m     17\u001b[0m ncalls[\u001b[38;5;241m0\u001b[39m] \u001b[38;5;241m+\u001b[39m\u001b[38;5;241m=\u001b[39m \u001b[38;5;241m1\u001b[39m\n\u001b[0;32m     18\u001b[0m \u001b[38;5;66;03m# Send a copy because the user may overwrite it.\u001b[39;00m\n\u001b[0;32m     19\u001b[0m \u001b[38;5;66;03m# Overwriting results in undefined behaviour because\u001b[39;00m\n\u001b[0;32m     20\u001b[0m \u001b[38;5;66;03m# fun(self.x) will change self.x, with the two no longer linked.\u001b[39;00m\n\u001b[1;32m---> 21\u001b[0m fx \u001b[38;5;241m=\u001b[39m \u001b[43mfun\u001b[49m\u001b[43m(\u001b[49m\u001b[43mnp\u001b[49m\u001b[38;5;241;43m.\u001b[39;49m\u001b[43mcopy\u001b[49m\u001b[43m(\u001b[49m\u001b[43mx\u001b[49m\u001b[43m)\u001b[49m\u001b[43m,\u001b[49m\u001b[43m \u001b[49m\u001b[38;5;241;43m*\u001b[39;49m\u001b[43margs\u001b[49m\u001b[43m)\u001b[49m\n\u001b[0;32m     22\u001b[0m \u001b[38;5;66;03m# Make sure the function returns a true scalar\u001b[39;00m\n\u001b[0;32m     23\u001b[0m \u001b[38;5;28;01mif\u001b[39;00m \u001b[38;5;129;01mnot\u001b[39;00m np\u001b[38;5;241m.\u001b[39misscalar(fx):\n",
      "Cell \u001b[1;32mIn[69], line 14\u001b[0m, in \u001b[0;36mRegresionLineal.funcion_costo\u001b[1;34m(self, theta)\u001b[0m\n\u001b[0;32m     11\u001b[0m \u001b[38;5;28;01mdef\u001b[39;00m\u001b[38;5;250m \u001b[39m\u001b[38;5;21mfuncion_costo\u001b[39m(\u001b[38;5;28mself\u001b[39m, theta):\n\u001b[0;32m     12\u001b[0m \n\u001b[0;32m     13\u001b[0m     \u001b[38;5;66;03m#Completa la función de costo\u001b[39;00m\n\u001b[1;32m---> 14\u001b[0m     funcion_costo1 \u001b[38;5;241m=\u001b[39m \u001b[43mnp\u001b[49m\u001b[38;5;241;43m.\u001b[39;49m\u001b[43mdot\u001b[49m\u001b[43m(\u001b[49m\u001b[43mX\u001b[49m\u001b[38;5;241;43m.\u001b[39;49m\u001b[43mtranspose\u001b[49m\u001b[43m,\u001b[49m\u001b[43mX\u001b[49m\u001b[43m)\u001b[49m\u001b[38;5;241m*\u001b[39m\u001b[38;5;241m*\u001b[39m\u001b[38;5;241m-\u001b[39m\u001b[38;5;241m1\u001b[39m\n\u001b[0;32m     15\u001b[0m     funcion_costo \u001b[38;5;241m=\u001b[39m funcion_costo1 \u001b[38;5;241m*\u001b[39m X\u001b[38;5;241m.\u001b[39mtranspose\n\u001b[0;32m     16\u001b[0m     \u001b[38;5;28;01mreturn\u001b[39;00m (np\u001b[38;5;241m.\u001b[39mdot(funcion_costo,y))\n",
      "\u001b[1;31mTypeError\u001b[0m: unsupported operand type(s) for *: 'builtin_function_or_method' and 'float'"
     ]
    }
   ],
   "source": [
    "# Crear una instancia de la clase\n",
    "modelo = RegresionLineal(X, y)\n",
    "\n",
    "# Ajustar el modelo\n",
    "modelo.fit()\n",
    "modelo.theta"
   ]
  },
  {
   "cell_type": "code",
   "execution_count": null,
   "id": "ba16a7ad",
   "metadata": {},
   "outputs": [],
   "source": [
    "# Mostrar la ecuación obtenida\n",
    "modelo.mostrar_ecuacion()"
   ]
  },
  {
   "cell_type": "code",
   "execution_count": null,
   "id": "e8321de9",
   "metadata": {},
   "outputs": [],
   "source": [
    "# Visualizar el ajuste del modelo\n",
    "modelo.visualizar()"
   ]
  },
  {
   "cell_type": "code",
   "execution_count": null,
   "id": "4325fe55",
   "metadata": {},
   "outputs": [],
   "source": [
    "# Hacer predicciones con nuevos valores\n",
    "X_nuevo = np.array([[0], [1.5], [2]])\n",
    "y_pred = modelo.predecir(X_nuevo)\n",
    "\n",
    "# Mostrar predicciones\n",
    "list(zip(X_nuevo.flatten(), y_pred.flatten()))"
   ]
  },
  {
   "cell_type": "markdown",
   "id": "be3189bf",
   "metadata": {},
   "source": [
    "## Ejercicio 3: Aplicación a Datos de Kaggle\n",
    "\n",
    "Busca tres conjuntos de datos en Kaggle donde puedas aplicar regresión lineal. \n",
    "\n",
    "Sugerencias \n",
    "### Boston Housing 🏠\n",
    "\n",
    "Búscalo en Kaggle o en repositorios de datos de código abierto.\n",
    "\n",
    "### Auto MPG 🚗\n",
    "\n",
    "Lo puedes descargar desde el UCI Machine Learning Repository buscando \"Auto MPG dataset\".\n",
    "También está en Kaggle.\n",
    "\n",
    "### Wine Quality 🍷\n",
    "\n",
    "Búscalo en el UCI Machine Learning Repository o en Kaggle con el nombre \"Wine Quality Dataset\".\n",
    "Salary Dataset 💰\n",
    "\n",
    "### En Kaggle puedes buscar \"Salary Prediction Dataset\" o \"Experience vs Salary\".\n",
    "\n",
    "## Para cada conjunto de datos, debes:\n",
    "\n",
    "1. Cargar los datos.\n",
    "2. Entrenar el modelo usando la clase `RegresionLineal`.\n",
    "3. Comparar los resultados con `sklearn.LinearRegression`.\n",
    "4. Visualizar la relación entre las variables.\n",
    "5. Mostrar la ecuación de regresión obtenida.\n",
    "6. Realizar predicciones con datos nuevos."
   ]
  },
  {
   "cell_type": "code",
   "execution_count": null,
   "id": "94d879cd",
   "metadata": {},
   "outputs": [],
   "source": []
  },
  {
   "cell_type": "markdown",
   "id": "9b7c5906",
   "metadata": {},
   "source": [
    "## Ejercicio 4\n",
    "Analiza la precisión del modelo en cada caso y comparte tus conclusiones (Busca como hacerlo)\n",
    "- Coeficiente de Determinación (R^2)\n",
    "- MSE\n",
    "- RMSE\n",
    "- MAE\n",
    "\n",
    "Concluye qué tan bueno es cada modelo. "
   ]
  },
  {
   "cell_type": "code",
   "execution_count": null,
   "id": "82d69ad9",
   "metadata": {},
   "outputs": [],
   "source": []
  }
 ],
 "metadata": {
  "kernelspec": {
   "display_name": ".venv",
   "language": "python",
   "name": "python3"
  },
  "language_info": {
   "codemirror_mode": {
    "name": "ipython",
    "version": 3
   },
   "file_extension": ".py",
   "mimetype": "text/x-python",
   "name": "python",
   "nbconvert_exporter": "python",
   "pygments_lexer": "ipython3",
   "version": "3.13.1"
  }
 },
 "nbformat": 4,
 "nbformat_minor": 5
}
